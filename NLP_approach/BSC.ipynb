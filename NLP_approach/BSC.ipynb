{
 "cells": [
  {
   "cell_type": "code",
   "execution_count": 1,
   "metadata": {},
   "outputs": [],
   "source": [
    "\n",
    "import numpy as np\n",
    "import pandas as pd\n",
    "import matplotlib.pyplot as plt\n",
    "import seaborn as sns\n",
    "import os\n",
    "import sys\n",
    "import torch\n",
    "import torch.nn as nn\n",
    "import torch.optim as optim\n",
    "from torch.nn import functional as F\n",
    "from tqdm import tqdm\n",
    "import os\n",
    "import re\n",
    "import sys\n",
    "import time\n",
    "import logging\n",
    "import tempfile\n",
    "from collections import Counter\n",
    "from typing import List, Tuple\n",
    "from tqdm import tqdm\n",
    "\n",
    "import numpy as np\n",
    "import pandas as pd\n",
    "\n",
    "import rdkit\n",
    "from rdkit import Chem\n",
    "from rdkit.Chem import MolFromSmiles, MolToSmiles, CanonSmiles\n",
    "\n",
    "import deepchem as dc\n",
    "from sklearn.ensemble import RandomForestClassifier, RandomForestRegressor\n",
    "from sklearn.model_selection import cross_validate\n",
    "from scipy.sparse import csr_matrix, lil_matrix\n",
    "\n",
    "import atomInSmiles as ais\n",
    "import json"
   ]
  },
  {
   "cell_type": "code",
   "execution_count": 2,
   "metadata": {},
   "outputs": [],
   "source": [
    "# This vocab only focus in characters not in pairs.\n",
    "class CreateVocab:\n",
    "    def __init__(self, datasets):\n",
    "        \"\"\"\n",
    "        Initialize the CreateVocab object with multiple datasets.\n",
    "\n",
    "        :param datasets: List of datasets (strings) to build the vocabulary from.\n",
    "        \"\"\"\n",
    "        self.stoi = {}\n",
    "        self.itos = {}\n",
    "        self.build_vocab(datasets)\n",
    "\n",
    "    def build_vocab(self, datasets):\n",
    "        \"\"\"\n",
    "        Builds the vocabulary from the given datasets.\n",
    "\n",
    "        :param datasets: List of datasets (strings) to build the vocabulary from.\n",
    "        \"\"\"\n",
    "        all_text = ''.join(datasets)  # Concatenate all datasets\n",
    "        unique_chars = sorted(set(all_text))  # Extract unique characters\n",
    "\n",
    "        self.stoi = {char: idx for idx, char in enumerate(unique_chars)}\n",
    "        self.itos = {idx: char for idx, char in enumerate(unique_chars)}\n",
    "\n",
    "    def encode(self, text):\n",
    "        \"\"\"\n",
    "        Encodes a given text into a list of indices.\n",
    "\n",
    "        :param text: String to be encoded.\n",
    "        :return: List of indices corresponding to the characters in the text.\n",
    "        \"\"\"\n",
    "        return [self.stoi[char] for char in text]\n",
    "\n",
    "    def decode(self, indices):\n",
    "        \"\"\"\n",
    "        Decodes a list of indices into a string.\n",
    "\n",
    "        :param indices: List of indices to be decoded.\n",
    "        :return: Decoded string.\n",
    "        \"\"\"\n",
    "        return ''.join(self.itos[idx] for idx in indices)\n",
    "\n",
    "\n",
    "def preprocess_smiles(smiles):\n",
    "    \"\"\"\n",
    "    Preprocesses a given SMILES string by adding padding and start and end tokens.\n",
    "\n",
    "    :param smiles: SMILES string to be preprocessed.\n",
    "    :return: Preprocessed SMILES string.\n",
    "    \"\"\"\n",
    "    text = [str(i) + \"*\" for i in smiles]\n",
    "    text = str(text)[1:-1]\n",
    "    return text\n",
    "\n",
    "# Load and process datasets\n",
    "smile_1 = pd.read_csv('smile_1.csv')['smiles']\n",
    "smile_2 = pd.read_csv('smile_2.csv')['smiles']\n",
    "smile_3 = pd.read_csv('smile_3.csv')['canonical_smiles']\n",
    "\n",
    "processed_smile_1 = preprocess_smiles(smile_1)\n",
    "processed_smile_2 = preprocess_smiles(smile_2)\n",
    "processed_smile_3 = preprocess_smiles(smile_3)\n",
    "\n",
    "# Combine processed datasets\n",
    "combined_text = processed_smile_1 + processed_smile_2 + processed_smile_3\n",
    "\n",
    "# Create vocabulary\n",
    "vocab = CreateVocab([combined_text])\n",
    "\n",
    "# Now vocab.stoi and vocab.itos are your dictionaries\n",
    "\n"
   ]
  },
  {
   "cell_type": "code",
   "execution_count": 103,
   "metadata": {},
   "outputs": [
    {
     "name": "stdout",
     "output_type": "stream",
     "text": [
      "{0: ' ', 1: '#', 2: '%', 3: \"'\", 4: '(', 5: ')', 6: '*', 7: '+', 8: ',', 9: '-', 10: '.', 11: '/', 12: '0', 13: '1', 14: '2', 15: '3', 16: '4', 17: '5', 18: '6', 19: '7', 20: '8', 21: '9', 22: '=', 23: '@', 24: 'A', 25: 'B', 26: 'C', 27: 'F', 28: 'G', 29: 'H', 30: 'I', 31: 'K', 32: 'L', 33: 'M', 34: 'N', 35: 'O', 36: 'P', 37: 'R', 38: 'S', 39: 'T', 40: 'U', 41: 'V', 42: 'W', 43: 'Z', 44: '[', 45: '\\\\', 46: ']', 47: 'a', 48: 'b', 49: 'c', 50: 'd', 51: 'e', 52: 'g', 53: 'h', 54: 'i', 55: 'l', 56: 'n', 57: 'o', 58: 'p', 59: 'r', 60: 's', 61: 't', 62: 'u'}\n"
     ]
    }
   ],
   "source": [
    "print(vocab.itos)"
   ]
  },
  {
   "cell_type": "code",
   "execution_count": 4,
   "metadata": {},
   "outputs": [],
   "source": [
    "encoded_text = vocab.encode(text)\n",
    "\n",
    "# Train and test splits\n",
    "data = torch.tensor(encoded_text, dtype=torch.long)\n",
    "n = int(0.9 * len(data))  # 90% for training, rest for validation\n",
    "train_data = data[:n]\n",
    "val_data = data[n:]"
   ]
  },
  {
   "cell_type": "code",
   "execution_count": 5,
   "metadata": {},
   "outputs": [],
   "source": [
    "# hyperparameters\n",
    "batch_size = 16 # how many independent sequences will we process in parallel?\n",
    "block_size = 32 # what is the maximum context length for predictions?\n",
    "max_iters = 350\n",
    "eval_interval = 10\n",
    "learning_rate = 1e-3\n",
    "device = 'cuda' if torch.cuda.is_available() else 'cpu'\n",
    "eval_iters = 100\n",
    "n_embd = 64\n",
    "n_head = 4\n",
    "n_layer = 4\n",
    "dropout = 0.0\n",
    "# ------------\n",
    "\n",
    "torch.manual_seed(1337)\n",
    "vocab_size = len(vocab.stoi)\n",
    "\n",
    "def get_batch(split):\n",
    "    # generate a small batch of data of inputs x and targets y\n",
    "    data = train_data if split == 'train' else val_data\n",
    "    ix = torch.randint(len(data) - block_size, (batch_size,))\n",
    "    x = torch.stack([data[i:i+block_size] for i in ix])\n",
    "    y = torch.stack([data[i+1:i+block_size+1] for i in ix])\n",
    "    x, y = x.to(device), y.to(device)\n",
    "    return x, y\n",
    "\n",
    "@torch.no_grad()\n",
    "def estimate_loss():\n",
    "    out = {}\n",
    "    model.eval()\n",
    "    for split in ['train', 'val']:\n",
    "        losses = torch.zeros(eval_iters)\n",
    "        for k in range(eval_iters):\n",
    "            X, Y = get_batch(split)\n",
    "            logits, loss = model(X, Y)\n",
    "            losses[k] = loss.item()\n",
    "        out[split] = losses.mean()\n",
    "    model.train()\n",
    "    return out\n",
    "\n",
    "class Head(nn.Module):\n",
    "    \"\"\" one head of self-attention \"\"\"\n",
    "\n",
    "    def __init__(self, head_size):\n",
    "        super().__init__()\n",
    "        self.key = nn.Linear(n_embd, head_size, bias=False)\n",
    "        self.query = nn.Linear(n_embd, head_size, bias=False)\n",
    "        self.value = nn.Linear(n_embd, head_size, bias=False)\n",
    "        self.register_buffer('tril', torch.tril(torch.ones(block_size, block_size)))\n",
    "\n",
    "        self.dropout = nn.Dropout(dropout)\n",
    "\n",
    "    def forward(self, x):\n",
    "        B,T,C = x.shape\n",
    "        k = self.key(x)   # (B,T,C)\n",
    "        q = self.query(x) # (B,T,C)\n",
    "        # compute attention scores (\"affinities\")\n",
    "        wei = q @ k.transpose(-2,-1) * C**-0.5 # (B, T, C) @ (B, C, T) -> (B, T, T)\n",
    "        wei = wei.masked_fill(self.tril[:T, :T] == 0, float('-inf')) # (B, T, T)\n",
    "        wei = F.softmax(wei, dim=-1) # (B, T, T)\n",
    "        wei = self.dropout(wei)\n",
    "        # perform the weighted aggregation of the values\n",
    "        v = self.value(x) # (B,T,C)\n",
    "        out = wei @ v # (B, T, T) @ (B, T, C) -> (B, T, C)\n",
    "        return out\n",
    "\n",
    "class MultiHeadAttention(nn.Module):\n",
    "    \"\"\" multiple heads of self-attention in parallel \"\"\"\n",
    "\n",
    "    def __init__(self, num_heads, head_size):\n",
    "        super().__init__()\n",
    "        self.heads = nn.ModuleList([Head(head_size) for _ in range(num_heads)])\n",
    "        self.proj = nn.Linear(n_embd, n_embd)\n",
    "        self.dropout = nn.Dropout(dropout)\n",
    "\n",
    "    def forward(self, x):\n",
    "        out = torch.cat([h(x) for h in self.heads], dim=-1)\n",
    "        out = self.dropout(self.proj(out))\n",
    "        return out\n",
    "\n",
    "class FeedFoward(nn.Module):\n",
    "    \"\"\" a simple linear layer followed by a non-linearity \"\"\"\n",
    "\n",
    "    def __init__(self, n_embd):\n",
    "        super().__init__()\n",
    "        self.net = nn.Sequential(\n",
    "            nn.Linear(n_embd, 4 * n_embd),\n",
    "            nn.ReLU(),\n",
    "            nn.Linear(4 * n_embd, n_embd),\n",
    "            nn.Dropout(dropout),\n",
    "        )\n",
    "\n",
    "    def forward(self, x):\n",
    "        return self.net(x)\n",
    "\n",
    "class Block(nn.Module):\n",
    "    \"\"\" Transformer block: communication followed by computation \"\"\"\n",
    "\n",
    "    def __init__(self, n_embd, n_head):\n",
    "        # n_embd: embedding dimension, n_head: the number of heads we'd like\n",
    "        super().__init__()\n",
    "        head_size = n_embd // n_head\n",
    "        self.sa = MultiHeadAttention(n_head, head_size)\n",
    "        self.ffwd = FeedFoward(n_embd)\n",
    "        self.ln1 = nn.LayerNorm(n_embd)\n",
    "        self.ln2 = nn.LayerNorm(n_embd)\n",
    "\n",
    "    def forward(self, x):\n",
    "        x = x + self.sa(self.ln1(x))\n",
    "        x = x + self.ffwd(self.ln2(x))\n",
    "        return x\n",
    "\n",
    "# super simple bigram model\n",
    "class BigramLanguageModel(nn.Module):\n",
    "\n",
    "    def __init__(self):\n",
    "        super().__init__()\n",
    "        # each token directly reads off the logits for the next token from a lookup table\n",
    "        self.token_embedding_table = nn.Embedding(vocab_size, n_embd)\n",
    "        self.position_embedding_table = nn.Embedding(block_size, n_embd)\n",
    "        self.blocks = nn.Sequential(*[Block(n_embd, n_head=n_head) for _ in range(n_layer)])\n",
    "        self.ln_f = nn.LayerNorm(n_embd) # final layer norm\n",
    "        self.lm_head = nn.Linear(n_embd, vocab_size)\n",
    "\n",
    "    def forward(self, idx, targets=None):\n",
    "        B, T = idx.shape\n",
    "\n",
    "        # idx and targets are both (B,T) tensor of integers\n",
    "        tok_emb = self.token_embedding_table(idx) # (B,T,C)\n",
    "        pos_emb = self.position_embedding_table(torch.arange(T, device=device)) # (T,C)\n",
    "        x = tok_emb + pos_emb # (B,T,C)\n",
    "        x = self.blocks(x) # (B,T,C)\n",
    "        x = self.ln_f(x) # (B,T,C)\n",
    "        logits = self.lm_head(x) # (B,T,vocab_size)\n",
    "\n",
    "        if targets is None:\n",
    "            loss = None\n",
    "        else:\n",
    "            B, T, C = logits.shape\n",
    "            logits = logits.view(B*T, C)\n",
    "            targets = targets.view(B*T)\n",
    "            loss = F.cross_entropy(logits, targets)\n",
    "\n",
    "        return logits, loss\n",
    "\n",
    "    def generate(self, idx, max_new_tokens):\n",
    "        # idx is (B, T) array of indices in the current context\n",
    "        for _ in range(max_new_tokens):\n",
    "            # crop idx to the last block_size tokens\n",
    "            idx_cond = idx[:, -block_size:]\n",
    "            # get the predictions\n",
    "            logits, loss = self(idx_cond)\n",
    "            # focus only on the last time step\n",
    "            logits = logits[:, -1, :] # becomes (B, C)\n",
    "            # apply softmax to get probabilities\n",
    "            probs = F.softmax(logits, dim=-1) # (B, C)\n",
    "            # sample from the distribution\n",
    "            idx_next = torch.multinomial(probs, num_samples=1) # (B, 1)\n",
    "            # append sampled index to the running sequence\n",
    "            idx = torch.cat((idx, idx_next), dim=1) # (B, T+1)\n",
    "        return idx"
   ]
  },
  {
   "cell_type": "code",
   "execution_count": 6,
   "metadata": {},
   "outputs": [],
   "source": [
    "model = BigramLanguageModel()"
   ]
  },
  {
   "cell_type": "code",
   "execution_count": 7,
   "metadata": {},
   "outputs": [
    {
     "data": {
      "text/plain": [
       "<All keys matched successfully>"
      ]
     },
     "execution_count": 7,
     "metadata": {},
     "output_type": "execute_result"
    }
   ],
   "source": [
    "model_state_path = \"3_BSC.pkl\"\n",
    "model.load_state_dict(torch.load(model_state_path))"
   ]
  },
  {
   "cell_type": "code",
   "execution_count": 8,
   "metadata": {},
   "outputs": [
    {
     "name": "stdout",
     "output_type": "stream",
     "text": [
      "0.209471 M parameters\n"
     ]
    }
   ],
   "source": [
    "\n",
    "m = model.to(device)\n",
    "# print the number of parameters in the model\n",
    "print(sum(p.numel() for p in m.parameters())/1e6, 'M parameters')\n",
    "\n",
    "# create a PyTorch optimizer\n",
    "optimizer = torch.optim.AdamW(model.parameters(), lr=learning_rate)"
   ]
  },
  {
   "cell_type": "code",
   "execution_count": 216,
   "metadata": {},
   "outputs": [],
   "source": [
    "\n"
   ]
  },
  {
   "cell_type": "code",
   "execution_count": 217,
   "metadata": {},
   "outputs": [
    {
     "name": "stdout",
     "output_type": "stream",
     "text": [
      "step 0: train loss 1.0621, val loss 1.1229\n",
      "step 10: train loss 0.7725, val loss 1.3258\n",
      "step 20: train loss 0.6960, val loss 1.3266\n",
      "step 30: train loss 0.6477, val loss 1.4073\n",
      "step 40: train loss 0.6119, val loss 1.3961\n",
      "step 50: train loss 0.5741, val loss 1.4333\n",
      "step 60: train loss 0.5560, val loss 1.4377\n",
      "step 70: train loss 0.5273, val loss 1.4105\n",
      "step 80: train loss 0.5214, val loss 1.4221\n",
      "step 90: train loss 0.5027, val loss 1.4055\n",
      "step 100: train loss 0.4805, val loss 1.4365\n",
      "step 110: train loss 0.4777, val loss 1.5263\n",
      "step 120: train loss 0.4632, val loss 1.4988\n",
      "step 130: train loss 0.4541, val loss 1.5192\n",
      "step 140: train loss 0.4542, val loss 1.5889\n",
      "step 150: train loss 0.4251, val loss 1.5367\n",
      "step 160: train loss 0.4367, val loss 1.5615\n",
      "step 170: train loss 0.4200, val loss 1.5790\n",
      "step 180: train loss 0.4108, val loss 1.5951\n",
      "step 190: train loss 0.3917, val loss 1.6626\n",
      "step 200: train loss 0.3850, val loss 1.6032\n",
      "step 210: train loss 0.3848, val loss 1.6098\n",
      "step 220: train loss 0.3743, val loss 1.5626\n",
      "step 230: train loss 0.3801, val loss 1.5981\n",
      "step 240: train loss 0.3665, val loss 1.6000\n",
      "step 250: train loss 0.3607, val loss 1.6518\n",
      "step 260: train loss 0.3548, val loss 1.6454\n",
      "step 270: train loss 0.3470, val loss 1.6457\n",
      "step 280: train loss 0.3423, val loss 1.5864\n",
      "step 290: train loss 0.3671, val loss 1.5803\n",
      "step 300: train loss 0.3468, val loss 1.6387\n",
      "step 310: train loss 0.3420, val loss 1.6455\n",
      "step 320: train loss 0.3589, val loss 1.6312\n",
      "step 330: train loss 0.3377, val loss 1.5947\n",
      "step 340: train loss 0.3408, val loss 1.5774\n",
      "step 349: train loss 0.3306, val loss 1.5762\n"
     ]
    }
   ],
   "source": [
    "\n",
    "\n",
    "train_losses = []\n",
    "val_losses = []\n",
    "for iter in range(max_iters):\n",
    "    # Evaluate the loss periodically\n",
    "    if iter % eval_interval == 0 or iter == max_iters - 1:\n",
    "        losses = estimate_loss()\n",
    "        train_losses.append(losses['train'])\n",
    "        val_losses.append(losses['val'])\n",
    "        print(f\"step {iter}: train loss {losses['train']:.4f}, val loss {losses['val']:.4f}\")\n",
    "\n",
    "    # Get a batch of data\n",
    "    xb, yb = get_batch('train')\n",
    "\n",
    "    # Forward pass and loss computation\n",
    "    logits, loss = model(xb, yb)\n",
    "\n",
    "    # Backpropagation\n",
    "    optimizer.zero_grad(set_to_none=True)\n",
    "    loss.backward()\n",
    "    optimizer.step()\n",
    "# generate from the model\n",
    "context = torch.zeros((1, 1), dtype=torch.long, device=device)\n"
   ]
  },
  {
   "cell_type": "code",
   "execution_count": 218,
   "metadata": {},
   "outputs": [
    {
     "data": {
      "image/png": "[encoded data removed]",
      "text/plain": [
       "<Figure size 1000x600 with 1 Axes>"
      ]
     },
     "metadata": {},
     "output_type": "display_data"
    }
   ],
   "source": [
    "# Plotting\n",
    "plt.figure(figsize=(10, 6))\n",
    "plt.plot(train_losses, label='Training Loss', color='purple')\n",
    "plt.plot(val_losses, label='Validation Loss', color='green')\n",
    "plt.xlabel('Iterations')\n",
    "plt.ylabel('Loss')\n",
    "plt.title('Training and Validation Loss')\n",
    "plt.legend()\n",
    "plt.show()"
   ]
  },
  {
   "cell_type": "code",
   "execution_count": 3,
   "metadata": {},
   "outputs": [],
   "source": [
    "smiles_1 = pd.read_csv('smile_3.csv')\n",
    "smiles_1 = smiles_1['canonical_smiles']\n",
    "text = [str(i) + \"*\" for i in smiles_1]\n",
    "text = str(text)[1:-1]\n",
    "text = text.replace('(', ' (').replace(')', ') ').replace('[', ' [').replace(']', '] ')\n"
   ]
  },
  {
   "cell_type": "code",
   "execution_count": 107,
   "metadata": {},
   "outputs": [
    {
     "name": "stdout",
     "output_type": "stream",
     "text": [
      "15420651\n"
     ]
    }
   ],
   "source": [
    "print(len(text))"
   ]
  },
  {
   "cell_type": "code",
   "execution_count": 9,
   "metadata": {},
   "outputs": [],
   "source": [
    "context = torch.zeros((1, 1), dtype=torch.long, device=device)\n"
   ]
  },
  {
   "cell_type": "code",
   "execution_count": 17,
   "metadata": {},
   "outputs": [],
   "source": [
    "val = vocab.decode(m.generate(context, max_new_tokens=2000)[0].tolist())"
   ]
  },
  {
   "cell_type": "code",
   "execution_count": 18,
   "metadata": {},
   "outputs": [
    {
     "name": "stdout",
     "output_type": "stream",
     "text": [
      " [C@@H]  (Cc1ccccc1Cl) NC (=O) c1ccccc1) S (=O)  (=O) c1cccc2c (c1) 2c (c1ccccc1) S (=O)  (=O) c1cccncn1) S (=O)  (=O) cc1ncc12) S (=O)  (=O) c1ccc (N) ccc1*', 'CC (Cc1ccccc1) S (=O)  (=O) c1cccc (N) cc1*', 'O=C (C) CN ( [C@H]  (CO) CCCCNNC (=O)  [C@H]  (Cc1ccncc12O) C (=O) N [C@@H] C (c1ccc1Br) N (CC (=O) N [C@H]  (CO) CCCCNNC (=O)  [C@H]  (Cc1ccc2cccccc2Br) c1O2) O2*', 'Cc1cc2cncscn1C (=O) N [C@H]  (Cc1ccc2ccccc1) C (=O) S (=O)(=O) c1c (c1cc (N) cc1*', 'CC (C) CN ( [C@@H]  (CO) CCCCNC (=O)  [C@H]  (Cc1cccc2ccccc12c1) NC (=O) N1Cc1cccccc1) S (=O)  (=O) c1ccc (N) ccc1) C [C@@H]  (NC (=O) c1ccc (N) cc1) cc1ccccc1*', 'CS (=O)   (=O) c1ccc2c (c1ccc2c (c1) CO2*', 'Cc1cccc2C (=O) N [C@@H]  (CO) NN (CC (C) C) S (=O)  (=O) c1ccc2c (c12) CCO21) C (N) CCO2*', 'Cc1 (C (=O) OC (=O) N [C@H]  (Cn1) OC (=O) c1ccoc1) O2=O2) oc (C) c3ccc (O) n12) OCO2*', 'CC (C) CNS (=O)  (=O) c1cccc (N) cc1*', 'CC (C) CN (C) CCN (SO)  (=O) c1c (N) ccc2c1) S (=O)  (=O) c1cc (oc1) OCC (=O) N1COCCN1*', 'CC (C) CN ( [C@H]  (CO) CCCCNC (=O)  [C@H]  (CCc1ccc2c1cccccc1Br) S (=O)  (=O) c1ccc (N) cc1) c1ccOc1cccccc1) S (=O)  (=O) c1ccc (N) ccc1) OC (CF)  (N) cc1) C (=O) NCc1cccc1*', 'CC (C) CN ( (CC (C) CCCNC (=O)  [C@H]  (Cc1ccccc1Br) C (CN=C1) NC (=O) c1cc (c1) cc1ccccc1) c1ccccc1) ', 'CC (C) CN ( [C@H]  (CO) CCCCNNC (=O)  [C@H]  (CcH] c1F) N (CO) CCC1*', 'COC (C) CN (Cc1ncccc1Br) C (=O) N (N=O) c1ccccn1) C (O) CO2*', 'Cc1ccccnccc1C (=O) N [C@H]  (1=O) N (CO) CCCCCNC (=O)  [C@H]  (Cc1ccncc1Br) S (=O)  (=O) c1ccc (-c1cc (N) ccn1) OCO*', 'CC (C) CN ( [C@H]  (CO) CCCCCNC (=O)  [C@H]  (C (N) =O) N (Cc2cccccc(, (=O) N [C@H]  (CO) CCCNC (=O) c1c (=O) c1ccc (N) cc1*', 'CC (C) CCN ([C@H]  (CO) N (CC (C) C) S (=O)  (=O) c1ccc (N) ccc1) c1ccccn1) S (=O)  (=O) c1ccc (N) cc1*', 'Cc1ccnccc3c (c1C (=O)  [nH] c1cnc1) oc1*', 'Cc1cccccn1C (=O) N [C@H]  (N1CCOCC1) CC (C) C) o1) S (=O)  (=O) c1cccc (N) cc1*', 'Cc1cc (Cl) ccc2c (c1I) OS (=O) c1cccc (N) ccc1*', 'O=C (O) F) N [C@H]  (CO) CCCCNNC (=O)  [C@@H]  (Cc1ccccc1Br) NC \n"
     ]
    }
   ],
   "source": [
    "print(val)"
   ]
  },
  {
   "cell_type": "code",
   "execution_count": 19,
   "metadata": {},
   "outputs": [
    {
     "name": "stdout",
     "output_type": "stream",
     "text": [
      "['[C@@H](Cc1ccccc1Cl)NC(=O)c1ccccc1)S(=O)(=O)c1cccc2c(c1)2c(c1ccccc1)S(=O)(=O)c1cccncn1)S(=O)(=O)cc1ncc12)S(=O)(=O)c1ccc(N)ccc1', 'CC(Cc1ccccc1)S(=O)(=O)c1cccc(N)cc1', 'O=C(C)CN([C@H](CO)CCCCNNC(=O)[C@H](Cc1ccncc12O)C(=O)N[C@@H]C(c1ccc1Br)N(CC(=O)N[C@H](CO)CCCCNNC(=O)[C@H](Cc1ccc2cccccc2Br)c1O2)O2', 'Cc1cc2cncscn1C(=O)N[C@H](Cc1ccc2ccccc1)C(=O)S(=O)(=O)c1c(c1cc(N)cc1', 'CC(C)CN([C@@H](CO)CCCCNC(=O)[C@H](Cc1cccc2ccccc12c1)NC(=O)N1Cc1cccccc1)S(=O)(=O)c1ccc(N)ccc1)C[C@@H](NC(=O)c1ccc(N)cc1)cc1ccccc1', 'CS(=O)(=O)c1ccc2c(c1ccc2c(c1)CO2', 'Cc1cccc2C(=O)N[C@@H](CO)NN(CC(C)C)S(=O)(=O)c1ccc2c(c12)CCO21)C(N)CCO2', 'Cc1(C(=O)OC(=O)N[C@H](Cn1)OC(=O)c1ccoc1)O2=O2)oc(C)c3ccc(O)n12)OCO2', 'CC(C)CNS(=O)(=O)c1cccc(N)cc1', 'CC(C)CN(C)CCN(SO)(=O)c1c(N)ccc2c1)S(=O)(=O)c1cc(oc1)OCC(=O)N1COCCN1', 'CC(C)CN([C@H](CO)CCCCNC(=O)[C@H](CCc1ccc2c1cccccc1Br)S(=O)(=O)c1ccc(N)cc1)c1ccOc1cccccc1)S(=O)(=O)c1ccc(N)ccc1)OC(CF)(N)cc1)C(=O)NCc1cccc1', 'CC(C)CN((CC(C)CCCNC(=O)[C@H](Cc1ccccc1Br)C(CN=C1)NC(=O)c1cc(c1)cc1ccccc1)c1ccccc1)', 'CC(C)CN([C@H](CO)CCCCNNC(=O)[C@H](CcH]c1F)N(CO)CCC1', 'COC(C)CN(Cc1ncccc1Br)C(=O)N(N=O)c1ccccn1)C(O)CO2', 'Cc1ccccnccc1C(=O)N[C@H](1=O)N(CO)CCCCCNC(=O)[C@H](Cc1ccncc1Br)S(=O)(=O)c1ccc(-c1cc(N)ccn1)OCO', 'CC(C)CN([C@H](CO)CCCCCNC(=O)[C@H](C(N)=O)N(Cc2cccccc(', '(=O)N[C@H](CO)CCCNC(=O)c1c(=O)c1ccc(N)cc1', 'CC(C)CCN([C@H](CO)N(CC(C)C)S(=O)(=O)c1ccc(N)ccc1)c1ccccn1)S(=O)(=O)c1ccc(N)cc1', 'Cc1ccnccc3c(c1C(=O)[nH]c1cnc1)oc1', 'Cc1cccccn1C(=O)N[C@H](N1CCOCC1)CC(C)C)o1)S(=O)(=O)c1cccc(N)cc1', 'Cc1cc(Cl)ccc2c(c1I)OS(=O)c1cccc(N)ccc1', 'O=C(O)F)N[C@H](CO)CCCCNNC(=O)[C@@H](Cc1ccccc1Br)NC']\n"
     ]
    }
   ],
   "source": [
    "molecules = list(val.split(\",\"))\n",
    "molecules = [i.replace(\"*\", \"\") for i in molecules]\n",
    "molecules = [i.replace(\"'\", \"\") for i in molecules]\n",
    "molecules = [i.replace(\" \", \"\") for i in molecules]\n",
    "molecules = [i.replace(\"\\\\n\", \"\") for i in molecules]\n",
    "#molecules = [i.replace(\"\\\\\", \"\") for i in molecules]\n",
    "\n",
    "print(molecules)"
   ]
  },
  {
   "cell_type": "code",
   "execution_count": 20,
   "metadata": {},
   "outputs": [
    {
     "name": "stderr",
     "output_type": "stream",
     "text": [
      "[05:20:25] SMILES Parse Error: extra close parentheses while parsing: [C@@H](Cc1ccccc1Cl)NC(=O)c1ccccc1)S(=O)(=O)c1cccc2c(c1)2c(c1ccccc1)S(=O)(=O)c1cccncn1)S(=O)(=O)cc1ncc12)S(=O)(=O)c1ccc(N)ccc1\n",
      "[05:20:25] SMILES Parse Error: Failed parsing SMILES '[C@@H](Cc1ccccc1Cl)NC(=O)c1ccccc1)S(=O)(=O)c1cccc2c(c1)2c(c1ccccc1)S(=O)(=O)c1cccncn1)S(=O)(=O)cc1ncc12)S(=O)(=O)c1ccc(N)ccc1' for input: '[C@@H](Cc1ccccc1Cl)NC(=O)c1ccccc1)S(=O)(=O)c1cccc2c(c1)2c(c1ccccc1)S(=O)(=O)c1cccncn1)S(=O)(=O)cc1ncc12)S(=O)(=O)c1ccc(N)ccc1'\n",
      "[05:20:25] Can't kekulize mol.  Unkekulized atoms: 12 13 14 15 16 18 19\n",
      "[05:20:25] SMILES Parse Error: extra open parentheses for input: 'O=C(C)CN([C@H](CO)CCCCNNC(=O)[C@H](Cc1ccncc12O)C(=O)N[C@@H]C(c1ccc1Br)N(CC(=O)N[C@H](CO)CCCCNNC(=O)[C@H](Cc1ccc2cccccc2Br)c1O2)O2'\n",
      "[05:20:25] SMILES Parse Error: extra open parentheses for input: 'Cc1cc2cncscn1C(=O)N[C@H](Cc1ccc2ccccc1)C(=O)S(=O)(=O)c1c(c1cc(N)cc1'\n",
      "[05:20:25] SMILES Parse Error: extra close parentheses while parsing: CC(C)CN([C@@H](CO)CCCCNC(=O)[C@H](Cc1cccc2ccccc12c1)NC(=O)N1Cc1cccccc1)S(=O)(=O)c1ccc(N)ccc1)C[C@@H](NC(=O)c1ccc(N)cc1)cc1ccccc1\n",
      "[05:20:25] SMILES Parse Error: Failed parsing SMILES 'CC(C)CN([C@@H](CO)CCCCNC(=O)[C@H](Cc1cccc2ccccc12c1)NC(=O)N1Cc1cccccc1)S(=O)(=O)c1ccc(N)ccc1)C[C@@H](NC(=O)c1ccc(N)cc1)cc1ccccc1' for input: 'CC(C)CN([C@@H](CO)CCCCNC(=O)[C@H](Cc1cccc2ccccc12c1)NC(=O)N1Cc1cccccc1)S(=O)(=O)c1ccc(N)ccc1)C[C@@H](NC(=O)c1ccc(N)cc1)cc1ccccc1'\n",
      "[05:20:25] SMILES Parse Error: extra open parentheses for input: 'CS(=O)(=O)c1ccc2c(c1ccc2c(c1)CO2'\n",
      "[05:20:25] SMILES Parse Error: extra close parentheses while parsing: Cc1cccc2C(=O)N[C@@H](CO)NN(CC(C)C)S(=O)(=O)c1ccc2c(c12)CCO21)C(N)CCO2\n",
      "[05:20:25] SMILES Parse Error: Failed parsing SMILES 'Cc1cccc2C(=O)N[C@@H](CO)NN(CC(C)C)S(=O)(=O)c1ccc2c(c12)CCO21)C(N)CCO2' for input: 'Cc1cccc2C(=O)N[C@@H](CO)NN(CC(C)C)S(=O)(=O)c1ccc2c(c12)CCO21)C(N)CCO2'\n",
      "[05:20:25] SMILES Parse Error: extra close parentheses while parsing: Cc1(C(=O)OC(=O)N[C@H](Cn1)OC(=O)c1ccoc1)O2=O2)oc(C)c3ccc(O)n12)OCO2\n",
      "[05:20:25] SMILES Parse Error: Failed parsing SMILES 'Cc1(C(=O)OC(=O)N[C@H](Cn1)OC(=O)c1ccoc1)O2=O2)oc(C)c3ccc(O)n12)OCO2' for input: 'Cc1(C(=O)OC(=O)N[C@H](Cn1)OC(=O)c1ccoc1)O2=O2)oc(C)c3ccc(O)n12)OCO2'\n",
      "[05:20:25] Can't kekulize mol.  Unkekulized atoms: 8 9 10 11 12 14 15\n",
      "[05:20:25] SMILES Parse Error: extra close parentheses while parsing: CC(C)CN(C)CCN(SO)(=O)c1c(N)ccc2c1)S(=O)(=O)c1cc(oc1)OCC(=O)N1COCCN1\n",
      "[05:20:25] SMILES Parse Error: Failed parsing SMILES 'CC(C)CN(C)CCN(SO)(=O)c1c(N)ccc2c1)S(=O)(=O)c1cc(oc1)OCC(=O)N1COCCN1' for input: 'CC(C)CN(C)CCN(SO)(=O)c1c(N)ccc2c1)S(=O)(=O)c1cc(oc1)OCC(=O)N1COCCN1'\n",
      "[05:20:25] SMILES Parse Error: extra close parentheses while parsing: CC(C)CN([C@H](CO)CCCCNC(=O)[C@H](CCc1ccc2c1cccccc1Br)S(=O)(=O)c1ccc(N)cc1)c1ccOc1cccccc1)S(=O)(=O)c1ccc(N)ccc1)OC(CF)(N)cc1)C(=O)NCc1cccc1\n",
      "[05:20:25] SMILES Parse Error: Failed parsing SMILES 'CC(C)CN([C@H](CO)CCCCNC(=O)[C@H](CCc1ccc2c1cccccc1Br)S(=O)(=O)c1ccc(N)cc1)c1ccOc1cccccc1)S(=O)(=O)c1ccc(N)ccc1)OC(CF)(N)cc1)C(=O)NCc1cccc1' for input: 'CC(C)CN([C@H](CO)CCCCNC(=O)[C@H](CCc1ccc2c1cccccc1Br)S(=O)(=O)c1ccc(N)cc1)c1ccOc1cccccc1)S(=O)(=O)c1ccc(N)ccc1)OC(CF)(N)cc1)C(=O)NCc1cccc1'\n",
      "[05:20:25] SMILES Parse Error: syntax error while parsing: CC(C)CN((CC(C)CCCNC(=O)[C@H](Cc1ccccc1Br)C(CN=C1)NC(=O)c1cc(c1)cc1ccccc1)c1ccccc1)\n",
      "[05:20:25] SMILES Parse Error: Failed parsing SMILES 'CC(C)CN((CC(C)CCCNC(=O)[C@H](Cc1ccccc1Br)C(CN=C1)NC(=O)c1cc(c1)cc1ccccc1)c1ccccc1)' for input: 'CC(C)CN((CC(C)CCCNC(=O)[C@H](Cc1ccccc1Br)C(CN=C1)NC(=O)c1cc(c1)cc1ccccc1)c1ccccc1)'\n",
      "[05:20:25] SMILES Parse Error: syntax error while parsing: CC(C)CN([C@H](CO)CCCCNNC(=O)[C@H](CcH]c1F)N(CO)CCC1\n",
      "[05:20:25] SMILES Parse Error: Failed parsing SMILES 'CC(C)CN([C@H](CO)CCCCNNC(=O)[C@H](CcH]c1F)N(CO)CCC1' for input: 'CC(C)CN([C@H](CO)CCCCNNC(=O)[C@H](CcH]c1F)N(CO)CCC1'\n",
      "[05:20:25] SMILES Parse Error: extra close parentheses while parsing: COC(C)CN(Cc1ncccc1Br)C(=O)N(N=O)c1ccccn1)C(O)CO2\n",
      "[05:20:25] SMILES Parse Error: Failed parsing SMILES 'COC(C)CN(Cc1ncccc1Br)C(=O)N(N=O)c1ccccn1)C(O)CO2' for input: 'COC(C)CN(Cc1ncccc1Br)C(=O)N(N=O)c1ccccn1)C(O)CO2'\n",
      "[05:20:25] SMILES Parse Error: syntax error while parsing: Cc1ccccnccc1C(=O)N[C@H](1=O)N(CO)CCCCCNC(=O)[C@H](Cc1ccncc1Br)S(=O)(=O)c1ccc(-c1cc(N)ccn1)OCO\n",
      "[05:20:25] SMILES Parse Error: Failed parsing SMILES 'Cc1ccccnccc1C(=O)N[C@H](1=O)N(CO)CCCCCNC(=O)[C@H](Cc1ccncc1Br)S(=O)(=O)c1ccc(-c1cc(N)ccn1)OCO' for input: 'Cc1ccccnccc1C(=O)N[C@H](1=O)N(CO)CCCCCNC(=O)[C@H](Cc1ccncc1Br)S(=O)(=O)c1ccc(-c1cc(N)ccn1)OCO'\n",
      "[05:20:25] SMILES Parse Error: syntax error while parsing: CC(C)CN([C@H](CO)CCCCCNC(=O)[C@H](C(N)=O)N(Cc2cccccc(\n",
      "[05:20:25] SMILES Parse Error: Failed parsing SMILES 'CC(C)CN([C@H](CO)CCCCCNC(=O)[C@H](C(N)=O)N(Cc2cccccc(' for input: 'CC(C)CN([C@H](CO)CCCCCNC(=O)[C@H](C(N)=O)N(Cc2cccccc('\n",
      "[05:20:25] SMILES Parse Error: syntax error while parsing: (=O)N[C@H](CO)CCCNC(=O)c1c(=O)c1ccc(N)cc1\n",
      "[05:20:25] SMILES Parse Error: Failed parsing SMILES '(=O)N[C@H](CO)CCCNC(=O)c1c(=O)c1ccc(N)cc1' for input: '(=O)N[C@H](CO)CCCNC(=O)c1c(=O)c1ccc(N)cc1'\n",
      "[05:20:25] SMILES Parse Error: extra close parentheses while parsing: CC(C)CCN([C@H](CO)N(CC(C)C)S(=O)(=O)c1ccc(N)ccc1)c1ccccn1)S(=O)(=O)c1ccc(N)cc1\n",
      "[05:20:25] SMILES Parse Error: Failed parsing SMILES 'CC(C)CCN([C@H](CO)N(CC(C)C)S(=O)(=O)c1ccc(N)ccc1)c1ccccn1)S(=O)(=O)c1ccc(N)cc1' for input: 'CC(C)CCN([C@H](CO)N(CC(C)C)S(=O)(=O)c1ccc(N)ccc1)c1ccccn1)S(=O)(=O)c1ccc(N)cc1'\n",
      "[05:20:25] SMILES Parse Error: unclosed ring for input: 'Cc1ccnccc3c(c1C(=O)[nH]c1cnc1)oc1'\n",
      "[05:20:25] SMILES Parse Error: extra close parentheses while parsing: Cc1cccccn1C(=O)N[C@H](N1CCOCC1)CC(C)C)o1)S(=O)(=O)c1cccc(N)cc1\n",
      "[05:20:25] SMILES Parse Error: Failed parsing SMILES 'Cc1cccccn1C(=O)N[C@H](N1CCOCC1)CC(C)C)o1)S(=O)(=O)c1cccc(N)cc1' for input: 'Cc1cccccn1C(=O)N[C@H](N1CCOCC1)CC(C)C)o1)S(=O)(=O)c1cccc(N)cc1'\n",
      "[05:20:25] SMILES Parse Error: unclosed ring for input: 'Cc1cc(Cl)ccc2c(c1I)OS(=O)c1cccc(N)ccc1'\n",
      "[05:20:25] SMILES Parse Error: extra close parentheses while parsing: O=C(O)F)N[C@H](CO)CCCCNNC(=O)[C@@H](Cc1ccccc1Br)NC\n",
      "[05:20:25] SMILES Parse Error: Failed parsing SMILES 'O=C(O)F)N[C@H](CO)CCCCNNC(=O)[C@@H](Cc1ccccc1Br)NC' for input: 'O=C(O)F)N[C@H](CO)CCCCNNC(=O)[C@@H](Cc1ccccc1Br)NC'\n",
      "[05:20:25] \n",
      "\n",
      "****\n",
      "Pre-condition Violation\n",
      "no draw context\n",
      "Violation occurred on line 214 in file C:\\rdkit\\build\\temp.win-amd64-cpython-311\\Release\\rdkit\\Code\\GraphMol\\MolDraw2D\\MolDraw2DCairo.cpp\n",
      "Failed Expression: dp_cr\n",
      "****\n",
      "\n"
     ]
    },
    {
     "ename": "RuntimeError",
     "evalue": "Pre-condition Violation\n\tno draw context\n\tViolation occurred on line 214 in file Code\\GraphMol\\MolDraw2D\\MolDraw2DCairo.cpp\n\tFailed Expression: dp_cr\n\tRDKIT: 2022.09.5\n\tBOOST: 1_78\n",
     "output_type": "error",
     "traceback": [
      "\u001b[1;31m---------------------------------------------------------------------------\u001b[0m",
      "\u001b[1;31mRuntimeError\u001b[0m                              Traceback (most recent call last)",
      "Cell \u001b[1;32mIn[20], line 8\u001b[0m\n\u001b[0;32m      6\u001b[0m mols \u001b[38;5;241m=\u001b[39m [Chem\u001b[38;5;241m.\u001b[39mMolFromSmiles(smi) \u001b[38;5;28;01mfor\u001b[39;00m smi \u001b[38;5;129;01min\u001b[39;00m molecules \u001b[38;5;28;01mif\u001b[39;00m Chem\u001b[38;5;241m.\u001b[39mMolFromSmiles(smi) \u001b[38;5;129;01mis\u001b[39;00m \u001b[38;5;129;01mnot\u001b[39;00m \u001b[38;5;28;01mNone\u001b[39;00m]\n\u001b[0;32m      7\u001b[0m mols\n\u001b[1;32m----> 8\u001b[0m \u001b[43mDraw\u001b[49m\u001b[38;5;241;43m.\u001b[39;49m\u001b[43mMolsToGridImage\u001b[49m\u001b[43m(\u001b[49m\u001b[43mmols\u001b[49m\u001b[43m,\u001b[49m\u001b[43m \u001b[49m\u001b[43mmolsPerRow\u001b[49m\u001b[38;5;241;43m=\u001b[39;49m\u001b[38;5;241;43m5\u001b[39;49m\u001b[43m,\u001b[49m\u001b[43m \u001b[49m\u001b[43msubImgSize\u001b[49m\u001b[38;5;241;43m=\u001b[39;49m\u001b[43m(\u001b[49m\u001b[38;5;241;43m200\u001b[39;49m\u001b[43m,\u001b[49m\u001b[43m \u001b[49m\u001b[38;5;241;43m200\u001b[39;49m\u001b[43m)\u001b[49m\u001b[43m,\u001b[49m\u001b[43m \u001b[49m\u001b[43mlegends\u001b[49m\u001b[38;5;241;43m=\u001b[39;49m\u001b[43m[\u001b[49m\u001b[38;5;28;43mstr\u001b[39;49m\u001b[43m(\u001b[49m\u001b[43mi\u001b[49m\u001b[43m)\u001b[49m\u001b[43m \u001b[49m\u001b[38;5;28;43;01mfor\u001b[39;49;00m\u001b[43m \u001b[49m\u001b[43mi\u001b[49m\u001b[43m \u001b[49m\u001b[38;5;129;43;01min\u001b[39;49;00m\u001b[43m \u001b[49m\u001b[38;5;28;43mrange\u001b[39;49m\u001b[43m(\u001b[49m\u001b[38;5;28;43mlen\u001b[39;49m\u001b[43m(\u001b[49m\u001b[43mmols\u001b[49m\u001b[43m)\u001b[49m\u001b[43m)\u001b[49m\u001b[43m]\u001b[49m\u001b[43m)\u001b[49m\n",
      "File \u001b[1;32mc:\\Users\\Rebe\\Documents\\Python programms\\Capstone_code\\.venv\\Lib\\site-packages\\rdkit\\Chem\\Draw\\IPythonConsole.py:268\u001b[0m, in \u001b[0;36mShowMols\u001b[1;34m(mols, maxMols, **kwargs)\u001b[0m\n\u001b[0;32m    265\u001b[0m \u001b[38;5;28;01mif\u001b[39;00m \u001b[38;5;124m\"\u001b[39m\u001b[38;5;124mdrawOptions\u001b[39m\u001b[38;5;124m\"\u001b[39m \u001b[38;5;129;01mnot\u001b[39;00m \u001b[38;5;129;01min\u001b[39;00m kwargs:\n\u001b[0;32m    266\u001b[0m   kwargs[\u001b[38;5;124m\"\u001b[39m\u001b[38;5;124mdrawOptions\u001b[39m\u001b[38;5;124m\"\u001b[39m] \u001b[38;5;241m=\u001b[39m drawOptions\n\u001b[1;32m--> 268\u001b[0m res \u001b[38;5;241m=\u001b[39m \u001b[43mfn\u001b[49m\u001b[43m(\u001b[49m\u001b[43mmols\u001b[49m\u001b[43m,\u001b[49m\u001b[43m \u001b[49m\u001b[38;5;241;43m*\u001b[39;49m\u001b[38;5;241;43m*\u001b[39;49m\u001b[43mkwargs\u001b[49m\u001b[43m)\u001b[49m\n\u001b[0;32m    269\u001b[0m \u001b[38;5;28;01mif\u001b[39;00m InteractiveRenderer\u001b[38;5;241m.\u001b[39misEnabled():\n\u001b[0;32m    270\u001b[0m   \u001b[38;5;28;01mreturn\u001b[39;00m HTML(res)\n",
      "File \u001b[1;32mc:\\Users\\Rebe\\Documents\\Python programms\\Capstone_code\\.venv\\Lib\\site-packages\\rdkit\\Chem\\Draw\\__init__.py:622\u001b[0m, in \u001b[0;36mMolsToGridImage\u001b[1;34m(mols, molsPerRow, subImgSize, legends, highlightAtomLists, highlightBondLists, useSVG, returnPNG, **kwargs)\u001b[0m\n\u001b[0;32m    618\u001b[0m   \u001b[38;5;28;01mreturn\u001b[39;00m _MolsToGridSVG(mols, molsPerRow\u001b[38;5;241m=\u001b[39mmolsPerRow, subImgSize\u001b[38;5;241m=\u001b[39msubImgSize, legends\u001b[38;5;241m=\u001b[39mlegends,\n\u001b[0;32m    619\u001b[0m                         highlightAtomLists\u001b[38;5;241m=\u001b[39mhighlightAtomLists,\n\u001b[0;32m    620\u001b[0m                         highlightBondLists\u001b[38;5;241m=\u001b[39mhighlightBondLists, \u001b[38;5;241m*\u001b[39m\u001b[38;5;241m*\u001b[39mkwargs)\n\u001b[0;32m    621\u001b[0m \u001b[38;5;28;01melse\u001b[39;00m:\n\u001b[1;32m--> 622\u001b[0m   \u001b[38;5;28;01mreturn\u001b[39;00m \u001b[43m_MolsToGridImage\u001b[49m\u001b[43m(\u001b[49m\u001b[43mmols\u001b[49m\u001b[43m,\u001b[49m\u001b[43m \u001b[49m\u001b[43mmolsPerRow\u001b[49m\u001b[38;5;241;43m=\u001b[39;49m\u001b[43mmolsPerRow\u001b[49m\u001b[43m,\u001b[49m\u001b[43m \u001b[49m\u001b[43msubImgSize\u001b[49m\u001b[38;5;241;43m=\u001b[39;49m\u001b[43msubImgSize\u001b[49m\u001b[43m,\u001b[49m\u001b[43m \u001b[49m\u001b[43mlegends\u001b[49m\u001b[38;5;241;43m=\u001b[39;49m\u001b[43mlegends\u001b[49m\u001b[43m,\u001b[49m\n\u001b[0;32m    623\u001b[0m \u001b[43m                          \u001b[49m\u001b[43mhighlightAtomLists\u001b[49m\u001b[38;5;241;43m=\u001b[39;49m\u001b[43mhighlightAtomLists\u001b[49m\u001b[43m,\u001b[49m\n\u001b[0;32m    624\u001b[0m \u001b[43m                          \u001b[49m\u001b[43mhighlightBondLists\u001b[49m\u001b[38;5;241;43m=\u001b[39;49m\u001b[43mhighlightBondLists\u001b[49m\u001b[43m,\u001b[49m\u001b[43m \u001b[49m\u001b[43mreturnPNG\u001b[49m\u001b[38;5;241;43m=\u001b[39;49m\u001b[43mreturnPNG\u001b[49m\u001b[43m,\u001b[49m\u001b[43m \u001b[49m\u001b[38;5;241;43m*\u001b[39;49m\u001b[38;5;241;43m*\u001b[39;49m\u001b[43mkwargs\u001b[49m\u001b[43m)\u001b[49m\n",
      "File \u001b[1;32mc:\\Users\\Rebe\\Documents\\Python programms\\Capstone_code\\.venv\\Lib\\site-packages\\rdkit\\Chem\\Draw\\__init__.py:571\u001b[0m, in \u001b[0;36m_MolsToGridImage\u001b[1;34m(mols, molsPerRow, subImgSize, legends, highlightAtomLists, highlightBondLists, drawOptions, returnPNG, **kwargs)\u001b[0m\n\u001b[0;32m    569\u001b[0m     res \u001b[38;5;241m=\u001b[39m _drawerToImage(d2d)\n\u001b[0;32m    570\u001b[0m   \u001b[38;5;28;01melse\u001b[39;00m:\n\u001b[1;32m--> 571\u001b[0m     res \u001b[38;5;241m=\u001b[39m \u001b[43md2d\u001b[49m\u001b[38;5;241;43m.\u001b[39;49m\u001b[43mGetDrawingText\u001b[49m\u001b[43m(\u001b[49m\u001b[43m)\u001b[49m\n\u001b[0;32m    573\u001b[0m \u001b[38;5;28;01mreturn\u001b[39;00m res\n",
      "\u001b[1;31mRuntimeError\u001b[0m: Pre-condition Violation\n\tno draw context\n\tViolation occurred on line 214 in file Code\\GraphMol\\MolDraw2D\\MolDraw2DCairo.cpp\n\tFailed Expression: dp_cr\n\tRDKIT: 2022.09.5\n\tBOOST: 1_78\n"
     ]
    }
   ],
   "source": [
    "from rdkit import Chem\n",
    "from rdkit.Chem import Draw\n",
    "from rdkit.Chem.Draw import IPythonConsole\n",
    "\n",
    "\n",
    "mols = [Chem.MolFromSmiles(smi) for smi in molecules if Chem.MolFromSmiles(smi) is not None]\n",
    "mols\n",
    "Draw.MolsToGridImage(mols, molsPerRow=5, subImgSize=(200, 200), legends=[str(i) for i in range(len(mols))])"
   ]
  },
  {
   "cell_type": "code",
   "execution_count": 219,
   "metadata": {},
   "outputs": [
    {
     "name": "stdout",
     "output_type": "stream",
     "text": [
      "Model saved successfully.\n"
     ]
    }
   ],
   "source": [
    "model_state_path = \"3_BSC.pkl\"\n",
    "torch.save(model.state_dict(), model_state_path)\n",
    "\n",
    "print(\"Model saved successfully.\")"
   ]
  },
  {
   "cell_type": "code",
   "execution_count": 22,
   "metadata": {},
   "outputs": [
    {
     "name": "stdout",
     "output_type": "stream",
     "text": [
      "Number of valid smiles: 0\n",
      "Percentage of valid smiles: 0.00%\n"
     ]
    },
    {
     "name": "stderr",
     "output_type": "stream",
     "text": [
      "[05:20:56] SMILES Parse Error: extra close parentheses while parsing: [C@@H](Cc1ccccc1Cl)NC(=O)c1ccccc1)S(=O)(=O)c1cccc2c(c1)2c(c1ccccc1)S(=O)(=O)c1cccncn1)S(=O)(=O)cc1ncc12)S(=O)(=O)c1ccc(N)ccc1\n",
      "[05:20:56] SMILES Parse Error: Failed parsing SMILES '[C@@H](Cc1ccccc1Cl)NC(=O)c1ccccc1)S(=O)(=O)c1cccc2c(c1)2c(c1ccccc1)S(=O)(=O)c1cccncn1)S(=O)(=O)cc1ncc12)S(=O)(=O)c1ccc(N)ccc1' for input: '[C@@H](Cc1ccccc1Cl)NC(=O)c1ccccc1)S(=O)(=O)c1cccc2c(c1)2c(c1ccccc1)S(=O)(=O)c1cccncn1)S(=O)(=O)cc1ncc12)S(=O)(=O)c1ccc(N)ccc1'\n",
      "[05:20:56] Can't kekulize mol.  Unkekulized atoms: 12 13 14 15 16 18 19\n",
      "[05:20:56] SMILES Parse Error: extra open parentheses for input: 'O=C(C)CN([C@H](CO)CCCCNNC(=O)[C@H](Cc1ccncc12O)C(=O)N[C@@H]C(c1ccc1Br)N(CC(=O)N[C@H](CO)CCCCNNC(=O)[C@H](Cc1ccc2cccccc2Br)c1O2)O2'\n",
      "[05:20:56] SMILES Parse Error: extra open parentheses for input: 'Cc1cc2cncscn1C(=O)N[C@H](Cc1ccc2ccccc1)C(=O)S(=O)(=O)c1c(c1cc(N)cc1'\n",
      "[05:20:56] SMILES Parse Error: extra close parentheses while parsing: CC(C)CN([C@@H](CO)CCCCNC(=O)[C@H](Cc1cccc2ccccc12c1)NC(=O)N1Cc1cccccc1)S(=O)(=O)c1ccc(N)ccc1)C[C@@H](NC(=O)c1ccc(N)cc1)cc1ccccc1\n",
      "[05:20:56] SMILES Parse Error: Failed parsing SMILES 'CC(C)CN([C@@H](CO)CCCCNC(=O)[C@H](Cc1cccc2ccccc12c1)NC(=O)N1Cc1cccccc1)S(=O)(=O)c1ccc(N)ccc1)C[C@@H](NC(=O)c1ccc(N)cc1)cc1ccccc1' for input: 'CC(C)CN([C@@H](CO)CCCCNC(=O)[C@H](Cc1cccc2ccccc12c1)NC(=O)N1Cc1cccccc1)S(=O)(=O)c1ccc(N)ccc1)C[C@@H](NC(=O)c1ccc(N)cc1)cc1ccccc1'\n",
      "[05:20:56] SMILES Parse Error: extra open parentheses for input: 'CS(=O)(=O)c1ccc2c(c1ccc2c(c1)CO2'\n",
      "[05:20:56] SMILES Parse Error: extra close parentheses while parsing: Cc1cccc2C(=O)N[C@@H](CO)NN(CC(C)C)S(=O)(=O)c1ccc2c(c12)CCO21)C(N)CCO2\n",
      "[05:20:56] SMILES Parse Error: Failed parsing SMILES 'Cc1cccc2C(=O)N[C@@H](CO)NN(CC(C)C)S(=O)(=O)c1ccc2c(c12)CCO21)C(N)CCO2' for input: 'Cc1cccc2C(=O)N[C@@H](CO)NN(CC(C)C)S(=O)(=O)c1ccc2c(c12)CCO21)C(N)CCO2'\n",
      "[05:20:56] SMILES Parse Error: extra close parentheses while parsing: Cc1(C(=O)OC(=O)N[C@H](Cn1)OC(=O)c1ccoc1)O2=O2)oc(C)c3ccc(O)n12)OCO2\n",
      "[05:20:56] SMILES Parse Error: Failed parsing SMILES 'Cc1(C(=O)OC(=O)N[C@H](Cn1)OC(=O)c1ccoc1)O2=O2)oc(C)c3ccc(O)n12)OCO2' for input: 'Cc1(C(=O)OC(=O)N[C@H](Cn1)OC(=O)c1ccoc1)O2=O2)oc(C)c3ccc(O)n12)OCO2'\n",
      "[05:20:56] Can't kekulize mol.  Unkekulized atoms: 8 9 10 11 12 14 15\n",
      "[05:20:56] SMILES Parse Error: extra close parentheses while parsing: CC(C)CN(C)CCN(SO)(=O)c1c(N)ccc2c1)S(=O)(=O)c1cc(oc1)OCC(=O)N1COCCN1\n",
      "[05:20:56] SMILES Parse Error: Failed parsing SMILES 'CC(C)CN(C)CCN(SO)(=O)c1c(N)ccc2c1)S(=O)(=O)c1cc(oc1)OCC(=O)N1COCCN1' for input: 'CC(C)CN(C)CCN(SO)(=O)c1c(N)ccc2c1)S(=O)(=O)c1cc(oc1)OCC(=O)N1COCCN1'\n",
      "[05:20:56] SMILES Parse Error: extra close parentheses while parsing: CC(C)CN([C@H](CO)CCCCNC(=O)[C@H](CCc1ccc2c1cccccc1Br)S(=O)(=O)c1ccc(N)cc1)c1ccOc1cccccc1)S(=O)(=O)c1ccc(N)ccc1)OC(CF)(N)cc1)C(=O)NCc1cccc1\n",
      "[05:20:56] SMILES Parse Error: Failed parsing SMILES 'CC(C)CN([C@H](CO)CCCCNC(=O)[C@H](CCc1ccc2c1cccccc1Br)S(=O)(=O)c1ccc(N)cc1)c1ccOc1cccccc1)S(=O)(=O)c1ccc(N)ccc1)OC(CF)(N)cc1)C(=O)NCc1cccc1' for input: 'CC(C)CN([C@H](CO)CCCCNC(=O)[C@H](CCc1ccc2c1cccccc1Br)S(=O)(=O)c1ccc(N)cc1)c1ccOc1cccccc1)S(=O)(=O)c1ccc(N)ccc1)OC(CF)(N)cc1)C(=O)NCc1cccc1'\n",
      "[05:20:56] SMILES Parse Error: syntax error while parsing: CC(C)CN((CC(C)CCCNC(=O)[C@H](Cc1ccccc1Br)C(CN=C1)NC(=O)c1cc(c1)cc1ccccc1)c1ccccc1)\n",
      "[05:20:56] SMILES Parse Error: Failed parsing SMILES 'CC(C)CN((CC(C)CCCNC(=O)[C@H](Cc1ccccc1Br)C(CN=C1)NC(=O)c1cc(c1)cc1ccccc1)c1ccccc1)' for input: 'CC(C)CN((CC(C)CCCNC(=O)[C@H](Cc1ccccc1Br)C(CN=C1)NC(=O)c1cc(c1)cc1ccccc1)c1ccccc1)'\n",
      "[05:20:56] SMILES Parse Error: syntax error while parsing: CC(C)CN([C@H](CO)CCCCNNC(=O)[C@H](CcH]c1F)N(CO)CCC1\n",
      "[05:20:56] SMILES Parse Error: Failed parsing SMILES 'CC(C)CN([C@H](CO)CCCCNNC(=O)[C@H](CcH]c1F)N(CO)CCC1' for input: 'CC(C)CN([C@H](CO)CCCCNNC(=O)[C@H](CcH]c1F)N(CO)CCC1'\n",
      "[05:20:56] SMILES Parse Error: extra close parentheses while parsing: COC(C)CN(Cc1ncccc1Br)C(=O)N(N=O)c1ccccn1)C(O)CO2\n",
      "[05:20:56] SMILES Parse Error: Failed parsing SMILES 'COC(C)CN(Cc1ncccc1Br)C(=O)N(N=O)c1ccccn1)C(O)CO2' for input: 'COC(C)CN(Cc1ncccc1Br)C(=O)N(N=O)c1ccccn1)C(O)CO2'\n",
      "[05:20:56] SMILES Parse Error: syntax error while parsing: Cc1ccccnccc1C(=O)N[C@H](1=O)N(CO)CCCCCNC(=O)[C@H](Cc1ccncc1Br)S(=O)(=O)c1ccc(-c1cc(N)ccn1)OCO\n",
      "[05:20:56] SMILES Parse Error: Failed parsing SMILES 'Cc1ccccnccc1C(=O)N[C@H](1=O)N(CO)CCCCCNC(=O)[C@H](Cc1ccncc1Br)S(=O)(=O)c1ccc(-c1cc(N)ccn1)OCO' for input: 'Cc1ccccnccc1C(=O)N[C@H](1=O)N(CO)CCCCCNC(=O)[C@H](Cc1ccncc1Br)S(=O)(=O)c1ccc(-c1cc(N)ccn1)OCO'\n",
      "[05:20:56] SMILES Parse Error: syntax error while parsing: CC(C)CN([C@H](CO)CCCCCNC(=O)[C@H](C(N)=O)N(Cc2cccccc(\n",
      "[05:20:56] SMILES Parse Error: Failed parsing SMILES 'CC(C)CN([C@H](CO)CCCCCNC(=O)[C@H](C(N)=O)N(Cc2cccccc(' for input: 'CC(C)CN([C@H](CO)CCCCCNC(=O)[C@H](C(N)=O)N(Cc2cccccc('\n",
      "[05:20:56] SMILES Parse Error: syntax error while parsing: (=O)N[C@H](CO)CCCNC(=O)c1c(=O)c1ccc(N)cc1\n",
      "[05:20:56] SMILES Parse Error: Failed parsing SMILES '(=O)N[C@H](CO)CCCNC(=O)c1c(=O)c1ccc(N)cc1' for input: '(=O)N[C@H](CO)CCCNC(=O)c1c(=O)c1ccc(N)cc1'\n",
      "[05:20:56] SMILES Parse Error: extra close parentheses while parsing: CC(C)CCN([C@H](CO)N(CC(C)C)S(=O)(=O)c1ccc(N)ccc1)c1ccccn1)S(=O)(=O)c1ccc(N)cc1\n",
      "[05:20:56] SMILES Parse Error: Failed parsing SMILES 'CC(C)CCN([C@H](CO)N(CC(C)C)S(=O)(=O)c1ccc(N)ccc1)c1ccccn1)S(=O)(=O)c1ccc(N)cc1' for input: 'CC(C)CCN([C@H](CO)N(CC(C)C)S(=O)(=O)c1ccc(N)ccc1)c1ccccn1)S(=O)(=O)c1ccc(N)cc1'\n",
      "[05:20:56] SMILES Parse Error: unclosed ring for input: 'Cc1ccnccc3c(c1C(=O)[nH]c1cnc1)oc1'\n",
      "[05:20:56] SMILES Parse Error: extra close parentheses while parsing: Cc1cccccn1C(=O)N[C@H](N1CCOCC1)CC(C)C)o1)S(=O)(=O)c1cccc(N)cc1\n",
      "[05:20:56] SMILES Parse Error: Failed parsing SMILES 'Cc1cccccn1C(=O)N[C@H](N1CCOCC1)CC(C)C)o1)S(=O)(=O)c1cccc(N)cc1' for input: 'Cc1cccccn1C(=O)N[C@H](N1CCOCC1)CC(C)C)o1)S(=O)(=O)c1cccc(N)cc1'\n",
      "[05:20:56] SMILES Parse Error: unclosed ring for input: 'Cc1cc(Cl)ccc2c(c1I)OS(=O)c1cccc(N)ccc1'\n",
      "[05:20:56] SMILES Parse Error: extra close parentheses while parsing: O=C(O)F)N[C@H](CO)CCCCNNC(=O)[C@@H](Cc1ccccc1Br)NC\n",
      "[05:20:56] SMILES Parse Error: Failed parsing SMILES 'O=C(O)F)N[C@H](CO)CCCCNNC(=O)[C@@H](Cc1ccccc1Br)NC' for input: 'O=C(O)F)N[C@H](CO)CCCCNNC(=O)[C@@H](Cc1ccccc1Br)NC'\n"
     ]
    }
   ],
   "source": [
    "# Calculate the valid smiles\n",
    "\n",
    "from rdkit import Chem\n",
    "from rdkit.Chem import Draw\n",
    "import pandas as pd\n",
    "\n",
    "# Example dataset loading\n",
    "# protease_df and nrti_df should already be loaded as shown in your initial step\n",
    "\n",
    "# Function to check for valid RDKit Mol objects and catch potential syntax errors\n",
    "new = molecules\n",
    "def is_valid_for_drawing(smiles):\n",
    "    try:\n",
    "        mol = Chem.MolFromSmiles(smiles)\n",
    "        if mol is None:  # Check if RDKit failed to create a Mol object\n",
    "            return False\n",
    "        Chem.SanitizeMol(mol)  # Attempt to sanitize the molecule, catching syntax errors\n",
    "        return True\n",
    "    except:  # Catch any exceptions thrown by RDKit (e.g., sanitization errors)\n",
    "        return False\n",
    "    \n",
    "def get_valid_mols(smiles_list):\n",
    "    valid_mols = []\n",
    "    for smiles in smiles_list:\n",
    "        if is_valid_for_drawing(smiles):\n",
    "            valid_mols.append(smiles)\n",
    "    return valid_mols\n",
    "\n",
    "\n",
    "valid_smiles = get_valid_mols(new)\n",
    "print(f\"Number of valid smiles: {len(valid_smiles)}\")\n",
    "#as percentage\n",
    "print(f\"Percentage of valid smiles: {len(valid_smiles)/len(new)*100:.2f}%\")"
   ]
  },
  {
   "cell_type": "code",
   "execution_count": 85,
   "metadata": {},
   "outputs": [
    {
     "data": {
      "text/plain": [
       "BigramLanguageModel(\n",
       "  (token_embedding_table): Embedding(63, 64)\n",
       "  (position_embedding_table): Embedding(32, 64)\n",
       "  (blocks): Sequential(\n",
       "    (0): Block(\n",
       "      (sa): MultiHeadAttention(\n",
       "        (heads): ModuleList(\n",
       "          (0-3): 4 x Head(\n",
       "            (key): Linear(in_features=64, out_features=16, bias=False)\n",
       "            (query): Linear(in_features=64, out_features=16, bias=False)\n",
       "            (value): Linear(in_features=64, out_features=16, bias=False)\n",
       "            (dropout): Dropout(p=0.0, inplace=False)\n",
       "          )\n",
       "        )\n",
       "        (proj): Linear(in_features=64, out_features=64, bias=True)\n",
       "        (dropout): Dropout(p=0.0, inplace=False)\n",
       "      )\n",
       "      (ffwd): FeedFoward(\n",
       "        (net): Sequential(\n",
       "          (0): Linear(in_features=64, out_features=256, bias=True)\n",
       "          (1): ReLU()\n",
       "          (2): Linear(in_features=256, out_features=64, bias=True)\n",
       "          (3): Dropout(p=0.0, inplace=False)\n",
       "        )\n",
       "      )\n",
       "      (ln1): LayerNorm((64,), eps=1e-05, elementwise_affine=True)\n",
       "      (ln2): LayerNorm((64,), eps=1e-05, elementwise_affine=True)\n",
       "    )\n",
       "    (1): Block(\n",
       "      (sa): MultiHeadAttention(\n",
       "        (heads): ModuleList(\n",
       "          (0-3): 4 x Head(\n",
       "            (key): Linear(in_features=64, out_features=16, bias=False)\n",
       "            (query): Linear(in_features=64, out_features=16, bias=False)\n",
       "            (value): Linear(in_features=64, out_features=16, bias=False)\n",
       "            (dropout): Dropout(p=0.0, inplace=False)\n",
       "          )\n",
       "        )\n",
       "        (proj): Linear(in_features=64, out_features=64, bias=True)\n",
       "        (dropout): Dropout(p=0.0, inplace=False)\n",
       "      )\n",
       "      (ffwd): FeedFoward(\n",
       "        (net): Sequential(\n",
       "          (0): Linear(in_features=64, out_features=256, bias=True)\n",
       "          (1): ReLU()\n",
       "          (2): Linear(in_features=256, out_features=64, bias=True)\n",
       "          (3): Dropout(p=0.0, inplace=False)\n",
       "        )\n",
       "      )\n",
       "      (ln1): LayerNorm((64,), eps=1e-05, elementwise_affine=True)\n",
       "      (ln2): LayerNorm((64,), eps=1e-05, elementwise_affine=True)\n",
       "    )\n",
       "    (2): Block(\n",
       "      (sa): MultiHeadAttention(\n",
       "        (heads): ModuleList(\n",
       "          (0-3): 4 x Head(\n",
       "            (key): Linear(in_features=64, out_features=16, bias=False)\n",
       "            (query): Linear(in_features=64, out_features=16, bias=False)\n",
       "            (value): Linear(in_features=64, out_features=16, bias=False)\n",
       "            (dropout): Dropout(p=0.0, inplace=False)\n",
       "          )\n",
       "        )\n",
       "        (proj): Linear(in_features=64, out_features=64, bias=True)\n",
       "        (dropout): Dropout(p=0.0, inplace=False)\n",
       "      )\n",
       "      (ffwd): FeedFoward(\n",
       "        (net): Sequential(\n",
       "          (0): Linear(in_features=64, out_features=256, bias=True)\n",
       "          (1): ReLU()\n",
       "          (2): Linear(in_features=256, out_features=64, bias=True)\n",
       "          (3): Dropout(p=0.0, inplace=False)\n",
       "        )\n",
       "      )\n",
       "      (ln1): LayerNorm((64,), eps=1e-05, elementwise_affine=True)\n",
       "      (ln2): LayerNorm((64,), eps=1e-05, elementwise_affine=True)\n",
       "    )\n",
       "    (3): Block(\n",
       "      (sa): MultiHeadAttention(\n",
       "        (heads): ModuleList(\n",
       "          (0-3): 4 x Head(\n",
       "            (key): Linear(in_features=64, out_features=16, bias=False)\n",
       "            (query): Linear(in_features=64, out_features=16, bias=False)\n",
       "            (value): Linear(in_features=64, out_features=16, bias=False)\n",
       "            (dropout): Dropout(p=0.0, inplace=False)\n",
       "          )\n",
       "        )\n",
       "        (proj): Linear(in_features=64, out_features=64, bias=True)\n",
       "        (dropout): Dropout(p=0.0, inplace=False)\n",
       "      )\n",
       "      (ffwd): FeedFoward(\n",
       "        (net): Sequential(\n",
       "          (0): Linear(in_features=64, out_features=256, bias=True)\n",
       "          (1): ReLU()\n",
       "          (2): Linear(in_features=256, out_features=64, bias=True)\n",
       "          (3): Dropout(p=0.0, inplace=False)\n",
       "        )\n",
       "      )\n",
       "      (ln1): LayerNorm((64,), eps=1e-05, elementwise_affine=True)\n",
       "      (ln2): LayerNorm((64,), eps=1e-05, elementwise_affine=True)\n",
       "    )\n",
       "  )\n",
       "  (ln_f): LayerNorm((64,), eps=1e-05, elementwise_affine=True)\n",
       "  (lm_head): Linear(in_features=64, out_features=63, bias=True)\n",
       ")"
      ]
     },
     "execution_count": 85,
     "metadata": {},
     "output_type": "execute_result"
    }
   ],
   "source": [
    "# Recreate the model architecture\n",
    "loaded_model = BigramLanguageModel()\n",
    "\n",
    "# Load the saved state dictionary\n",
    "loaded_model.load_state_dict(torch.load(model_state_path))\n",
    "\n",
    "# Switch to evaluation mode if you are using the model for inference\n",
    "loaded_model.eval()"
   ]
  },
  {
   "cell_type": "code",
   "execution_count": 86,
   "metadata": {},
   "outputs": [],
   "source": [
    "val = vocab.decode(loaded_model.generate(context, max_new_tokens=2000)[0].tolist())"
   ]
  },
  {
   "cell_type": "code",
   "execution_count": 87,
   "metadata": {},
   "outputs": [
    {
     "name": "stdout",
     "output_type": "stream",
     "text": [
      " S (=O)  (=O) c1ccc (C) c1cccc (N) cc3c (F) Wc1*', 'CC (C) CN ( [C@H]  (CO) CCCCNC (=O)  [C@H]  (Cc3] (CC1=CC) (=O) NCCCCT1) S (=O)  (=O) c1ccc (@H] CCCCCC1) NC (=O) c1cccc2c2c (N) c1CBr) C (=O) NCCCCC [C@@H]  (CO) N (CC (C) S (=O)  (=O) c1ccc (r) c1*', ', 'Cc1ccc (Cl) Z(=O) c1ccc (N) cc1*', 'CCC (=O) N [C@H]  (Cc1ccccc1B) S (=O)  (=O) c1ccc (N) cc1*', 'CC (C) S (=O)  (=O) c1cccc (N) cc2cc (C) c1ccccc1, ) C (=O) NCCCC [C@@@H]  (CO) N (CC (C) S (=O)  (=O) c1O) cc2cc (FZ3[C@@H]  (F) NCCC (=O) NCCCC [C@@H]  (CO) N (CC (C) C) S (=O)  (=O) c1ccc (N) cc1*', 'CC [C@@H]  (C (=O) NCCCC (C) C) S (=O)  (=O) c1ccc2cccn1) C (c1) NCCCO2)  (CO) C1*', 'COCNC (=O) N1CC [C@@H]  (C) ( =O) NCCCCC ([) @H]  (CO) N (CC (C) S (=O)  (=O) c1ccc (N) oc (C (=O) N1CCCCCNC [C@@H]  (C (C) C) N ( (CC) S (=O)  (=O) c1ccc (N) cc12cc (C#N) CCc1cc (N) c1cccc1*', 'C (C) CN ( [C@H]  (CO) CCCCNC (=O)  (CCNC [C@@H]  (Cc1ccccc1Br) NC (=O) NCCCC [C@@H]  (O) N (CC (C) C) S (=O)  (=O) c1ccc2cc ) c1*', 'CCC (=O) N [C@@H]  (C1CCCCNC (=O)  [C@@H]  (CC1CC2CCCC2) C (=O) NCCCC [C@@H]  (CO) N (CC (C) C) C) l) (CO) =O) NCCCCC (=O) N [C@@H]  (CC1CCCCNC [C@@H]  (CO) N (CC) S (=O)  (=O) c1ccc (N) cc1) C (c1ccccc1) c1ccccc1) C12) S (=O)  (=O) c1ccc (N) cc1) C (c1ccc1*', 'Cc1OC (=O) NCCCC [C@@@H]  (Cc1c2cccnc2) S (=O)  (=O) Cc1ccc (N) cc1*', 'CCC (C) N ( [C@H]  (=O) NCCCCCCN) ( [C@H] O) N (CC (C) S (=O)  (=O) N) c1ccnc [C@@H]  (NC (=O) NCCC [C@H]  (C) (C) C) S (=O)  (=O) Cc1ccc2cc (c1) N =C1OCCCC1) S (=O)  (=O) CNCCC [C@@@H]  (C) N (C) (C) C) C) S (=O)  (=O) c1cc2c (c ', 'CC (=O) N [C@@H]  (CO) CCCCNC [C@@H] (NS  (=O)  (=O) c1ccnc (N) cc1*', 'Cc1ccc (C (=O) N [C@@H]  (Cc1cccc2cccccc1) NC (=O) c1ccc (N) cc1*', 'CC (=O) N [C@@H]  (Cc2cccc2Br) C (=O) NCCCC [C@H]  (CC (N) ( [C@H] (CO) CCCCNC (=O)  [C@@H]  (Cc1cccc2CC#NC (=O) N [C@@H]  (NCC (=O) NCCCCC [C@@H]  (CO) N (CC (C) CCCNC (Cc1) C S (=O)  (=O) c1ccc (N) cc1*', 'CC (C) CN ( [C@H]  (CO) CCCCNC (=O) N [C@H] A)  (Cc1ccccc1R1) ) C (=O) c1cccc2c (c1) CCO2) C (=O) NCCCCC [C@H]\n"
     ]
    }
   ],
   "source": [
    "print(val)"
   ]
  },
  {
   "cell_type": "code",
   "execution_count": 74,
   "metadata": {},
   "outputs": [
    {
     "data": {
      "text/plain": [
       "\"'CC(C)CN(Sc1ccc2c(c1)CCO2)[C@H](CO)CCCCNC(=O)[C@@H](Cc1cccc2ccccc12)NC(=O)N1CCOCC1*', 'CC(C)CN(Sc1ccc2c(c1)OCCO2)[C@H](CO)CCCCNC(=O)[C@@H](Cc1cccc2ccccc12)NC(=O)N1CCOCC1*', 'CC(C)CN([C@H](CO)CCCCNC(=O)[C@H](Cc1ccccc1Br)NC(=O)N1CCOCC1)S(=O)(=O)c1ccc2c(c1)CCO2*', 'Cc1c(O)cccc1C(=O)N[C@@H](Cc1ccccc1Br)C(=O)NCCCC[C@@H](CO)N(CC(C)C)S(=O)(=O)c1ccc(N)cc1*', 'CC(C)CN([C@H](CO)CCCCNC(=O)[C@H](Cc1ccccc1Br)NC(=O)c1cccc(=O)[nH]1)S(=O)(=O)c1ccc(N)cc1*', 'Cc1ccccc1C[C@H](NC(=O)c1cccnc1)C(=O)NCCCC[C@@H](CO)N(CC(C)C)S(=O)(=O)c1ccc(N)cc1*', 'O=C(O)CNC(=O)c1c(=O)oc(O)c2cc(Br)ccc12*', 'C[C@H](NC(=O)c1c(=O)oc(O)c2cccc(-c3cccc(C(F)(F)F)c3)c12)C(=O)O*', 'Cc1ccccc1C[C@H](NC(=O)c1cccc(C)c1O)C(=O)NCCCC[C@@H](CO)N(CC(C)C)S(=O)(=O)c1ccc(N)cc1*', 'COC(=O)N[C@@H](CC1CCCCC1)C(=O)NCCCC[C@@H](CO)N(CC(C)C)S(=O)(=O)c1ccc(N)cc1*', 'CC(C)CN([C@H](CO)CCCCNC(=O)[C@H](CC1CCCCC1)NC(=O)c1cccnc1)S(=O)(=O)c1ccc(N)cc1*', 'Cc1ccc(C(=O)N[C@@H](CC2CCCCC2)C(=O)NCCCC[C@@H](CO)N(CC(C)C)S(=O)(=O)c2ccc(N)cc2)cn1*', 'COC(=O)N[C@H](C(=O)NCCCC[C@H](CO)N(CC(C)C)S(=O)(=O)c1cccc2cccnc12)C(c1ccccc1)c1ccccc1*', 'CC(C)CN([C@H](CO)CCCCNC(=O)[C@H](Cc1ccccc1Cl)NC(=O)c1ccncc1)S(=O)(=O)c1ccc(N)cc1*', 'Cc1ncccc1C(=O)N[C@@H](Cc1ccccc1Cl)C(=O)NCCCC[C@@H](CO)N(CC(C)C)S(=O)(=O)c1ccc(N)cc1*', 'CC(C)CN([C@H](CO)CCCCNC(=O)[C@H](CC1=C(Br)CCC=C1)NC(=O)N1CCOCC1)S(=O)(=O)c1ccc2c(c1)OCCO2*', 'COC(=O)N[C@H](C(=O)NCCCC[C@@H](CO)N(CC(C)C)S(=O)(=O)c1ccc2c(c1)CCO2)C(C1=CC=CCC1)c1ccccc1*', 'CC(C)CN([C@H](CO)CCCCNC(=O)[C@@H](NC(=O)N1CCOCC1)C(c1ccccc1)c1ccccc1)S(=O)(=O)c1ccc2c(c1)CCO2*', 'COC(=O)N[C@H](C(=O)NCCCC[C@H](CO)N(CC(C)C)S(=O)(=O)c1ccc2c(c1)N(C)CCO2)C(c1ccccc1)c1ccccc1*', 'Cc1cccnc1C(=O)N[C@@H](Cc1ccccc1Br)C(=O)NCCCC[C@@H](CO)N(CC(C)C)S(=O)(=O)c1ccc(N)cc1*', 'Cc1ccc(C(=O)N[C@@H](Cc2ccccc2Br)C(=O)NCCCC[C@@H](CO)N(CC(C)C)S(=O)(=O)c2ccc(N)cc2)cc1O*', 'CC(C)CN([C@H](CO)CCCCNC(=O)[C@H](Cc1ccccc1Br)NC(=O)OCc1ccncc1)S(=O)(=O)c1ccc(N)cc1*', 'CC(C)CN([C@H](CO)CCCCNC(=O)[C@H](Cc1ccc2ccccc2c1)NS(=O)(=O)c1ccc2c(c1)OCCC2C)S(=O)(=O)c1ccc(N)cc1*', 'CCC(=O)NC(=O)N(C)CC(=O)N[C@@H](Cc1ccc2ccccc2c1)C(=O)NCCCC[C@@H](CO)N(CC(C)C)S(=O)(=O)c1ccc(N)cc1*', 'CC(C)CN([C@H](CO)CCCCNC(=O)[C@H](Cc1ccc2ccccc2c1)NCc1ccccn1)S(=O)(=O)c1ccc(N)cc1*', 'CC(C)CN([C@H](CO)CCCCNC(=O)[C@@H](NS(=O)(=O)c1cccs1)C(c1ccccc1)c1ccccc1)S(=O)(=O)c1ccc(N)cc1*', 'CN[C@H](C(=O)NCCCC[C@@H](CO)N(CC(C)C)S(=O)(=O)c1ccc(N)cc1)C(c1ccccc1)C1C=CC=CC1*', 'CC(C)CN([C@H](CO)CCCCNC(=O)[C@@H](NC(=O)NCC1=CCCN=C1)C(c1ccccc1)c1ccccc1)S(=O)(=O)c1ccc(N)cc1*', 'CC(C)CN([C@H](CO)CCCCNC(=O)[C@@H](NC(=O)NCc1ccncc1)C(c1ccccc1)c1ccccc1)S(=O)(=O)c1ccc(N)cc1*', 'Cc1ccc(C(=O)N[C@@H](Cc2ccccc2C)C(=O)NCCCC[C@@H](CO)N(CC(C)C)S(=O)(=O)c2ccc(N)cc2)cc1O*', 'COC(=O)N[C@H](C(=O)NCCCCC(C(N)=O)N(CC(C)C)S(=O)(=O)c1ccc(N)cc1)C(c1ccccc1)c1ccccc1*', 'COC(=O)N[C@H](C(=O)NCCCC[C@@H](CO)N(Cc1cccnc1)S(=O)(=O)c1ccc(N)cc1)C(c1ccccc1)c1ccccc1*', 'Cc1ncccc1C(=O)N[C@@H](Cc1ccccc1Br)C(=O)NCCCC[C@@H](CO)N(CC(C)C)S(=O)(=O)c1ccc(N)cc1*', 'Cc1ccc(C(=O)N[C@@H](Cc2ccccc2Br)C(=O)NCCCC[C@@H](CO)N(CC(C)C)S(=O)(=O)c2ccc(N)cc2)cn1*', 'CC(C)CN([C@H](CO)CCCCNC(=O)[C@@H](Cc1ccccc1Br)NC(=O)c1ccc2c(c1)OCO2)S(=O)(=O)c1ccc(N)cc1*', 'CC(C)CN([C@H](CO)CCCCNC(=O)C(Cc1ccccc1Br)NC(=O)c1ccncc1)S(=O)(=O)c1ccc(N)cc1*', 'CC(C)CN([C@H](CO)CCCCNC(=O)[C@H](Cc1ccccc1Br)NC(=O)C1=NCC(C)N=C1)S(=O)(=O)c1ccc(N)cc1*', 'CC(C)CN([C@H](CO)CCCCNC(=O)[C@H](Cc1ccccc1Br)NC(=O)c1cnccn1)S(=O)(=O)c1ccc(N)cc1*', 'CC(C)CN([C@H](CO)CCCCNC(=O)[C@@H](Cc1ccccc1Br)NC(=O)c1ccccn1)S(=O)(=O)c1ccc(N)cc1*', 'CC(C)CN([C@H](CO)CCCCNC(=O)[C@@H](Cc1ccccc1Br)NC(=O)c1cccnc1)S(=O)(=O)c1ccc(N)cc1*', 'COC(=O)N[C@H](C(=O)NCCCC[C@H](C(N)=O)N(CC(C)C)S(=O)(=O)c1ccc(N)cc1)C(c1ccccc1)c1ccccc1*', 'CC(=O)N[C@H](C(=O)NCCCCC(C(N)=O)N(CC(C)C)S(=O)(=O)c1ccc(N)cc1)C(c1ccccc1)c1ccccc1*', 'CC(C)CN(C(CCCCNC(=O)[C@H](CC1=C2C=CC=CC2CC=C1)NC(=O)N1CCOCC1)C(N)=O)S(=O)(=O)c1ccc(N)cc1*', 'COc1cc2cc(C#N)ccc2c(OC)c1Oc1cc(N)nc(Nc2ccc(C#N)cc2)n1*', 'CCNc1cc(Oc2c(OC)cc3cc(C#N)ccc3c2OC)nc(Nc2ccc(C#N)cc2)n1*', 'COc1cc2cc(C#N)ccc2c(OC)c1Oc1cc(N2CCC(O)C2)nc(Nc2ccc(C#N)cc2)n1*', 'Cc1ccnc2c1NC(=O)c1cccnc1N2C1CC1*', 'Cc1cc(C#N)cc(C)c1Oc1nc(Nc2ccc(C#N)cc2)nc(N)c1Br*', 'O=C1Nc2ccc(Cl)cc2[C@@](C#CC2CC2)(C(F)(F)F)O1*', 'C=CC(=O)N(C)c1cc(Oc2ccccc2OCCn2ccc(=O)[nH]c2=O)c(C)c2cc(C#N)ccc12*', 'Cc1c(Oc2ccccc2OCCn2ccc(=O)[nH]c2=O)cc(N(C)C(=O)CCl)c2ccc(C#N)cc12*', 'CC(C)c1ccc(O)c(=O)c(O)c1*'\""
      ]
     },
     "execution_count": 74,
     "metadata": {},
     "output_type": "execute_result"
    }
   ],
   "source": [
    "\n",
    "smiles_1 = pd.read_csv('smile_3.csv')\n",
    "smiles_1 = smiles_1['canonical_smiles']\n",
    "text = [str(i) + \"*\" for i in smiles_1]\n",
    "text = str(text)[1:-1]\n",
    "text = text.replace('(', ' (').replace(')', ') ').replace('[', ' [').replace(']', '] ')\n",
    "text"
   ]
  },
  {
   "cell_type": "code",
   "execution_count": 98,
   "metadata": {},
   "outputs": [
    {
     "data": {
      "text/plain": [
       "\"'CC  (C)  CN  (Sc1ccc2c  (c1)  CCO2)    [C@H]    (CO)  CCCCNC  (=O)    [C@@H]    (Cc1cccc2ccccc12)  NC  (=O)  N1CCOCC1*', 'CC  (C)  CN  (Sc1ccc2c  (c1)  OCCO2)    [C@H]    (CO)  CCCCNC  (=O)    [C@@H]    (Cc1cccc2ccccc12)  NC  (=O)  N1CCOCC1*', 'CC  (C)  CN  (  [C@H]    (CO)  CCCCNC  (=O)    [C@H]    (Cc1ccccc1Br)  NC  (=O)  N1CCOCC1)  S  (=O)    (=O)  c1ccc2c  (c1)  CCO2*', 'Cc1c  (O)  cccc1C  (=O)  N  [C@@H]    (Cc1ccccc1Br)  C  (=O)  NCCCC  [C@@H]    (CO)  N  (CC  (C)  C)  S  (=O)    (=O)  c1ccc  (N)  cc1*', 'CC  (C)  CN  (  [C@H]    (CO)  CCCCNC  (=O)    [C@H]    (Cc1ccccc1Br)  NC  (=O)  c1cccc  (=O)    [nH]  1)  S  (=O)    (=O)  c1ccc  (N)  cc1*', 'Cc1ccccc1C  [C@H]    (NC  (=O)  c1cccnc1)  C  (=O)  NCCCC  [C@@H]    (CO)  N  (CC  (C)  C)  S  (=O)    (=O)  c1ccc  (N)  cc1*', 'O=C  (O)  CNC  (=O)  c1c  (=O)  oc  (O)  c2cc  (Br)  ccc12*', 'C  [C@H]    (NC  (=O)  c1c  (=O)  oc  (O)  c2cccc  (-c3cccc  (C  (F)    (F)  F)  c3)  c12)  C  (=O)  O*', 'Cc1ccccc1C  [C@H]    (NC  (=O)  c1cccc  (C)  c1O)  C  (=O)  NCCCC  [C@@H]    (CO)  N  (CC  (C)  C)  S  (=O)    (=O)  c1ccc  (N)  cc1*', 'COC  (=O)  N  [C@@H]    (CC1CCCCC1)  C  (=O)  NCCCC  [C@@H]    (CO)  N  (CC  (C)  C)  S  (=O)    (=O)  c1ccc  (N)  cc1*', 'CC  (C)  CN  (  [C@H]    (CO)  CCCCNC  (=O)    [C@H]    (CC1CCCCC1)  NC  (=O)  c1cccnc1)  S  (=O)    (=O)  c1ccc  (N)  cc1*', 'Cc1ccc  (C  (=O)  N  [C@@H]    (CC2CCCCC2)  C  (=O)  NCCCC  [C@@H]    (CO)  N  (CC  (C)  C)  S  (=O)    (=O)  c2ccc  (N)  cc2)  cn1*', 'COC  (=O)  N  [C@H]    (C  (=O)  NCCCC  [C@H]    (CO)  N  (CC  (C)  C)  S  (=O)    (=O)  c1cccc2cccnc12)  C  (c1ccccc1)  c1ccccc1*', 'CC  (C)  CN  (  [C@H]    (CO)  CCCCNC  (=O)    [C@H]    (Cc1ccccc1Cl)  NC  (=O)  c1ccncc1)  S  (=O)    (=O)  c1ccc  (N)  cc1*', 'Cc1ncccc1C  (=O)  N  [C@@H]    (Cc1ccccc1Cl)  C  (=O)  NCCCC  [C@@H]    (CO)  N  (CC  (C)  C)  S  (=O)    (=O)  c1ccc  (N)  cc1*', 'CC  (C)  CN  (  [C@H]    (CO)  CCCCNC  (=O)    [C@H]    (CC1=C  (Br)  CCC=C1)  NC  (=O)  N1CCOCC1)  S  (=O)    (=O)  c1ccc2c  (c1)  OCCO2*', 'COC  (=O)  N  [C@H]    (C  (=O)  NCCCC  [C@@H]    (CO)  N  (CC  (C)  C)  S  (=O)    (=O)  c1ccc2c  (c1)  CCO2)  C  (C1=CC=CCC1)  c1ccccc1*', 'CC  (C)  CN  (  [C@H]    (CO)  CCCCNC  (=O)    [C@@H]    (NC  (=O)  N1CCOCC1)  C  (c1ccccc1)  c1ccccc1)  S  (=O)    (=O)  c1ccc2c  (c1)  CCO2*', 'COC  (=O)  N  [C@H]    (C  (=O)  NCCCC  [C@H]    (CO)  N  (CC  (C)  C)  S  (=O)    (=O)  c1ccc2c  (c1)  N  (C)  CCO2)  C  (c1ccccc1)  c1ccccc1*', 'Cc1cccnc1C  (=O)  N  [C@@H]    (Cc1ccccc1Br)  C  (=O)  NCCCC  [C@@H]    (CO)  N  (CC  (C)  C)  S  (=O)    (=O)  c1ccc  (N)  cc1*', 'Cc1ccc  (C  (=O)  N  [C@@H]    (Cc2ccccc2Br)  C  (=O)  NCCCC  [C@@H]    (CO)  N  (CC  (C)  C)  S  (=O)    (=O)  c2ccc  (N)  cc2)  cc1O*', 'CC  (C)  CN  (  [C@H]    (CO)  CCCCNC  (=O)    [C@H]    (Cc1ccccc1Br)  NC  (=O)  OCc1ccncc1)  S  (=O)    (=O)  c1ccc  (N)  cc1*', 'CC  (C)  CN  (  [C@H]    (CO)  CCCCNC  (=O)    [C@H]    (Cc1ccc2ccccc2c1)  NS  (=O)    (=O)  c1ccc2c  (c1)  OCCC2C)  S  (=O)    (=O)  c1ccc  (N)  cc1*', 'CCC  (=O)  NC  (=O)  N  (C)  CC  (=O)  N  [C@@H]    (Cc1ccc2ccccc2c1)  C  (=O)  NCCCC  [C@@H]    (CO)  N  (CC  (C)  C)  S  (=O)    (=O)  c1ccc  (N)  cc1*', 'CC  (C)  CN  (  [C@H]    (CO)  CCCCNC  (=O)    [C@H]    (Cc1ccc2ccccc2c1)  NCc1ccccn1)  S  (=O)    (=O)  c1ccc  (N)  cc1*', 'CC  (C)  CN  (  [C@H]    (CO)  CCCCNC  (=O)    [C@@H]    (NS  (=O)    (=O)  c1cccs1)  C  (c1ccccc1)  c1ccccc1)  S  (=O)    (=O)  c1ccc  (N)  cc1*', 'CN  [C@H]    (C  (=O)  NCCCC  [C@@H]    (CO)  N  (CC  (C)  C)  S  (=O)    (=O)  c1ccc  (N)  cc1)  C  (c1ccccc1)  C1C=CC=CC1*', 'CC  (C)  CN  (  [C@H]    (CO)  CCCCNC  (=O)    [C@@H]    (NC  (=O)  NCC1=CCCN=C1)  C  (c1ccccc1)  c1ccccc1)  S  (=O)    (=O)  c1ccc  (N)  cc1*', 'CC  (C)  CN  (  [C@H]    (CO)  CCCCNC  (=O)    [C@@H]    (NC  (=O)  NCc1ccncc1)  C  (c1ccccc1)  c1ccccc1)  S  (=O)    (=O)  c1ccc  (N)  cc1*', 'Cc1ccc  (C  (=O)  N  [C@@H]    (Cc2ccccc2C)  C  (=O)  NCCCC  [C@@H]    (CO)  N  (CC  (C)  C)  S  (=O)    (=O)  c2ccc  (N)  cc2)  cc1O*', 'COC  (=O)  N  [C@H]    (C  (=O)  NCCCCC  (C  (N)  =O)  N  (CC  (C)  C)  S  (=O)    (=O)  c1ccc  (N)  cc1)  C  (c1ccccc1)  c1ccccc1*', 'COC  (=O)  N  [C@H]    (C  (=O)  NCCCC  [C@@H]    (CO)  N  (Cc1cccnc1)  S  (=O)    (=O)  c1ccc  (N)  cc1)  C  (c1ccccc1)  c1ccccc1*', 'Cc1ncccc1C  (=O)  N  [C@@H]    (Cc1ccccc1Br)  C  (=O)  NCCCC  [C@@H]    (CO)  N  (CC  (C)  C)  S  (=O)    (=O)  c1ccc  (N)  cc1*', 'Cc1ccc  (C  (=O)  N  [C@@H]    (Cc2ccccc2Br)  C  (=O)  NCCCC  [C@@H]    (CO)  N  (CC  (C)  C)  S  (=O)    (=O)  c2ccc  (N)  cc2)  cn1*', 'CC  (C)  CN  (  [C@H]    (CO)  CCCCNC  (=O)    [C@@H]    (Cc1ccccc1Br)  NC  (=O)  c1ccc2c  (c1)  OCO2)  S  (=O)    (=O)  c1ccc  (N)  cc1*', 'CC  (C)  CN  (  [C@H]    (CO)  CCCCNC  (=O)  C  (Cc1ccccc1Br)  NC  (=O)  c1ccncc1)  S  (=O)    (=O)  c1ccc  (N)  cc1*', 'CC  (C)  CN  (  [C@H]    (CO)  CCCCNC  (=O)    [C@H]    (Cc1ccccc1Br)  NC  (=O)  C1=NCC  (C)  N=C1)  S  (=O)    (=O)  c1ccc  (N)  cc1*', 'CC  (C)  CN  (  [C@H]    (CO)  CCCCNC  (=O)    [C@H]    (Cc1ccccc1Br)  NC  (=O)  c1cnccn1)  S  (=O)    (=O)  c1ccc  (N)  cc1*', 'CC  (C)  CN  (  [C@H]    (CO)  CCCCNC  (=O)    [C@@H]    (Cc1ccccc1Br)  NC  (=O)  c1ccccn1)  S  (=O)    (=O)  c1ccc  (N)  cc1*', 'CC  (C)  CN  (  [C@H]    (CO)  CCCCNC  (=O)    [C@@H]    (Cc1ccccc1Br)  NC  (=O)  c1cccnc1)  S  (=O)    (=O)  c1ccc  (N)  cc1*', 'COC  (=O)  N  [C@H]    (C  (=O)  NCCCC  [C@H]    (C  (N)  =O)  N  (CC  (C)  C)  S  (=O)    (=O)  c1ccc  (N)  cc1)  C  (c1ccccc1)  c1ccccc1*', 'CC  (=O)  N  [C@H]    (C  (=O)  NCCCCC  (C  (N)  =O)  N  (CC  (C)  C)  S  (=O)    (=O)  c1ccc  (N)  cc1)  C  (c1ccccc1)  c1ccccc1*', 'CC  (C)  CN  (C  (CCCCNC  (=O)    [C@H]    (CC1=C2C=CC=CC2CC=C1)  NC  (=O)  N1CCOCC1)  C  (N)  =O)  S  (=O)    (=O)  c1ccc  (N)  cc1*', 'COc1cc2cc  (C#N)  ccc2c  (OC)  c1Oc1cc  (N)  nc  (Nc2ccc  (C#N)  cc2)  n1*', 'CCNc1cc  (Oc2c  (OC)  cc3cc  (C#N)  ccc3c2OC)  nc  (Nc2ccc  (C#N)  cc2)  n1*', 'COc1cc2cc  (C#N)  ccc2c  (OC)  c1Oc1cc  (N2CCC  (O)  C2)  nc  (Nc2ccc  (C#N)  cc2)  n1*', 'Cc1ccnc2c1NC  (=O)  c1cccnc1N2C1CC1*', 'Cc1cc  (C#N)  cc  (C)  c1Oc1nc  (Nc2ccc  (C#N)  cc2)  nc  (N)  c1Br*', 'O=C1Nc2ccc  (Cl)  cc2  [C@@]    (C#CC2CC2)    (C  (F)    (F)  F)  O1*', 'C=CC  (=O)  N  (C)  c1cc  (Oc2ccccc2OCCn2ccc  (=O)    [nH]  c2=O)  c  (C)  c2cc  (C#N)  ccc12*', 'Cc1c  (Oc2ccccc2OCCn2ccc  (=O)    [nH]  c2=O)  cc  (N  (C)  C  (=O)  CCl)  c2ccc  (C#N)  cc12*', 'CC  (C)  c1ccc  (O)  c  (=O)  c  (O)  c1*'\""
      ]
     },
     "execution_count": 98,
     "metadata": {},
     "output_type": "execute_result"
    }
   ],
   "source": [
    "\n"
   ]
  },
  {
   "cell_type": "code",
   "execution_count": 73,
   "metadata": {},
   "outputs": [
    {
     "name": "stdout",
     "output_type": "stream",
     "text": [
      "'CC(C)CN(Sc1ccc2c(c1)CCO2)[C@H](CO)CCCCNC(=O)[C@@H](Cc1cccc2ccccc12)NC(=O)N1CCOCC1*', 'CC(C)CN(Sc1ccc2c(c1)OCCO2)[C@H](CO)CCCCNC(=O)[C@@H](Cc1cccc2ccccc12)NC(=O)N1CCOCC1*', 'CC(C)CN([C@H](CO)CCCCNC(=O)[C@H](Cc1ccccc1Br)NC(=O)N1CCOCC1)S(=O)(=O)c1ccc2c(c1)CCO2*', 'Cc1c(O)cccc1C(=O)N[C@@H](Cc1ccccc1Br)C(=O)NCCCC[C@@H](CO)N(CC(C)C)S(=O)(=O)c1ccc(N)cc1*', 'CC(C)CN([C@H](CO)CCCCNC(=O)[C@H](Cc1ccccc1Br)NC(=O)c1cccc(=O)[nH]1)S(=O)(=O)c1ccc(N)cc1*', 'Cc1ccccc1C[C@H](NC(=O)c1cccnc1)C(=O)NCCCC[C@@H](CO)N(CC(C)C)S(=O)(=O)c1ccc(N)cc1*', 'O=C(O)CNC(=O)c1c(=O)oc(O)c2cc(Br)ccc12*', 'C[C@H](NC(=O)c1c(=O)oc(O)c2cccc(-c3cccc(C(F)(F)F)c3)c12)C(=O)O*', 'Cc1ccccc1C[C@H](NC(=O)c1cccc(C)c1O)C(=O)NCCCC[C@@H](CO)N(CC(C)C)S(=O)(=O)c1ccc(N)cc1*', 'COC(=O)N[C@@H](CC1CCCCC1)C(=O)NCCCC[C@@H](CO)N(CC(C)C)S(=O)(=O)c1ccc(N)cc1*', 'CC(C)CN([C@H](CO)CCCCNC(=O)[C@H](CC1CCCCC1)NC(=O)c1cccnc1)S(=O)(=O)c1ccc(N)cc1*', 'Cc1ccc(C(=O)N[C@@H](CC2CCCCC2)C(=O)NCCCC[C@@H](CO)N(CC(C)C)S(=O)(=O)c2ccc(N)cc2)cn1*', 'COC(=O)N[C@H](C(=O)NCCCC[C@H](CO)N(CC(C)C)S(=O)(=O)c1cccc2cccnc12)C(c1ccccc1)c1ccccc1*', 'CC(C)CN([C@H](CO)CCCCNC(=O)[C@H](Cc1ccccc1Cl)NC(=O)c1ccncc1)S(=O)(=O)c1ccc(N)cc1*', 'Cc1ncccc1C(=O)N[C@@H](Cc1ccccc1Cl)C(=O)NCCCC[C@@H](CO)N(CC(C)C)S(=O)(=O)c1ccc(N)cc1*', 'CC(C)CN([C@H](CO)CCCCNC(=O)[C@H](CC1=C(Br)CCC=C1)NC(=O)N1CCOCC1)S(=O)(=O)c1ccc2c(c1)OCCO2*', 'COC(=O)N[C@H](C(=O)NCCCC[C@@H](CO)N(CC(C)C)S(=O)(=O)c1ccc2c(c1)CCO2)C(C1=CC=CCC1)c1ccccc1*', 'CC(C)CN([C@H](CO)CCCCNC(=O)[C@@H](NC(=O)N1CCOCC1)C(c1ccccc1)c1ccccc1)S(=O)(=O)c1ccc2c(c1)CCO2*', 'COC(=O)N[C@H](C(=O)NCCCC[C@H](CO)N(CC(C)C)S(=O)(=O)c1ccc2c(c1)N(C)CCO2)C(c1ccccc1)c1ccccc1*', 'Cc1cccnc1C(=O)N[C@@H](Cc1ccccc1Br)C(=O)NCCCC[C@@H](CO)N(CC(C)C)S(=O)(=O)c1ccc(N)cc1*', 'Cc1ccc(C(=O)N[C@@H](Cc2ccccc2Br)C(=O)NCCCC[C@@H](CO)N(CC(C)C)S(=O)(=O)c2ccc(N)cc2)cc1O*', 'CC(C)CN([C@H](CO)CCCCNC(=O)[C@H](Cc1ccccc1Br)NC(=O)OCc1ccncc1)S(=O)(=O)c1ccc(N)cc1*', 'CC(C)CN([C@H](CO)CCCCNC(=O)[C@H](Cc1ccc2ccccc2c1)NS(=O)(=O)c1ccc2c(c1)OCCC2C)S(=O)(=O)c1ccc(N)cc1*', 'CCC(=O)NC(=O)N(C)CC(=O)N[C@@H](Cc1ccc2ccccc2c1)C(=O)NCCCC[C@@H](CO)N(CC(C)C)S(=O)(=O)c1ccc(N)cc1*', 'CC(C)CN([C@H](CO)CCCCNC(=O)[C@H](Cc1ccc2ccccc2c1)NCc1ccccn1)S(=O)(=O)c1ccc(N)cc1*', 'CC(C)CN([C@H](CO)CCCCNC(=O)[C@@H](NS(=O)(=O)c1cccs1)C(c1ccccc1)c1ccccc1)S(=O)(=O)c1ccc(N)cc1*', 'CN[C@H](C(=O)NCCCC[C@@H](CO)N(CC(C)C)S(=O)(=O)c1ccc(N)cc1)C(c1ccccc1)C1C=CC=CC1*', 'CC(C)CN([C@H](CO)CCCCNC(=O)[C@@H](NC(=O)NCC1=CCCN=C1)C(c1ccccc1)c1ccccc1)S(=O)(=O)c1ccc(N)cc1*', 'CC(C)CN([C@H](CO)CCCCNC(=O)[C@@H](NC(=O)NCc1ccncc1)C(c1ccccc1)c1ccccc1)S(=O)(=O)c1ccc(N)cc1*', 'Cc1ccc(C(=O)N[C@@H](Cc2ccccc2C)C(=O)NCCCC[C@@H](CO)N(CC(C)C)S(=O)(=O)c2ccc(N)cc2)cc1O*', 'COC(=O)N[C@H](C(=O)NCCCCC(C(N)=O)N(CC(C)C)S(=O)(=O)c1ccc(N)cc1)C(c1ccccc1)c1ccccc1*', 'COC(=O)N[C@H](C(=O)NCCCC[C@@H](CO)N(Cc1cccnc1)S(=O)(=O)c1ccc(N)cc1)C(c1ccccc1)c1ccccc1*', 'Cc1ncccc1C(=O)N[C@@H](Cc1ccccc1Br)C(=O)NCCCC[C@@H](CO)N(CC(C)C)S(=O)(=O)c1ccc(N)cc1*', 'Cc1ccc(C(=O)N[C@@H](Cc2ccccc2Br)C(=O)NCCCC[C@@H](CO)N(CC(C)C)S(=O)(=O)c2ccc(N)cc2)cn1*', 'CC(C)CN([C@H](CO)CCCCNC(=O)[C@@H](Cc1ccccc1Br)NC(=O)c1ccc2c(c1)OCO2)S(=O)(=O)c1ccc(N)cc1*', 'CC(C)CN([C@H](CO)CCCCNC(=O)C(Cc1ccccc1Br)NC(=O)c1ccncc1)S(=O)(=O)c1ccc(N)cc1*', 'CC(C)CN([C@H](CO)CCCCNC(=O)[C@H](Cc1ccccc1Br)NC(=O)C1=NCC(C)N=C1)S(=O)(=O)c1ccc(N)cc1*', 'CC(C)CN([C@H](CO)CCCCNC(=O)[C@H](Cc1ccccc1Br)NC(=O)c1cnccn1)S(=O)(=O)c1ccc(N)cc1*', 'CC(C)CN([C@H](CO)CCCCNC(=O)[C@@H](Cc1ccccc1Br)NC(=O)c1ccccn1)S(=O)(=O)c1ccc(N)cc1*', 'CC(C)CN([C@H](CO)CCCCNC(=O)[C@@H](Cc1ccccc1Br)NC(=O)c1cccnc1)S(=O)(=O)c1ccc(N)cc1*', 'COC(=O)N[C@H](C(=O)NCCCC[C@H](C(N)=O)N(CC(C)C)S(=O)(=O)c1ccc(N)cc1)C(c1ccccc1)c1ccccc1*', 'CC(=O)N[C@H](C(=O)NCCCCC(C(N)=O)N(CC(C)C)S(=O)(=O)c1ccc(N)cc1)C(c1ccccc1)c1ccccc1*', 'CC(C)CN(C(CCCCNC(=O)[C@H](CC1=C2C=CC=CC2CC=C1)NC(=O)N1CCOCC1)C(N)=O)S(=O)(=O)c1ccc(N)cc1*', 'COc1cc2cc(C#N)ccc2c(OC)c1Oc1cc(N)nc(Nc2ccc(C#N)cc2)n1*', 'CCNc1cc(Oc2c(OC)cc3cc(C#N)ccc3c2OC)nc(Nc2ccc(C#N)cc2)n1*', 'COc1cc2cc(C#N)ccc2c(OC)c1Oc1cc(N2CCC(O)C2)nc(Nc2ccc(C#N)cc2)n1*', 'Cc1ccnc2c1NC(=O)c1cccnc1N2C1CC1*', 'Cc1cc(C#N)cc(C)c1Oc1nc(Nc2ccc(C#N)cc2)nc(N)c1Br*', 'O=C1Nc2ccc(Cl)cc2[C@@](C#CC2CC2)(C(F)(F)F)O1*', 'C=CC(=O)N(C)c1cc(Oc2ccccc2OCCn2ccc(=O)[nH]c2=O)c(C)c2cc(C#N)ccc12*', 'Cc1c(Oc2ccccc2OCCn2ccc(=O)[nH]c2=O)cc(N(C)C(=O)CCl)c2ccc(C#N)cc12*', 'CC(C)c1ccc(O)c(=O)c(O)c1*'\n"
     ]
    }
   ],
   "source": [
    "import re\n",
    "\n",
    "def join_parentheses(text):\n",
    "    # Function to remove spaces from a match\n",
    "    def remove_spaces(match):\n",
    "        return match.group(0).replace(\" \", \"\")\n",
    "\n",
    "    # Regular expression to match text within () and []\n",
    "    pattern = re.compile(r'\\([^)]*\\)|\\[[^\\]]*\\]')\n",
    "\n",
    "    # Replace all matches in the text using the remove_spaces function\n",
    "    return pattern.sub(remove_spaces, text)\n",
    "\n",
    "text = join_parentheses(text)\n",
    "print(text)\n",
    "\n",
    "\n",
    "    "
   ]
  },
  {
   "cell_type": "code",
   "execution_count": 91,
   "metadata": {},
   "outputs": [
    {
     "name": "stdout",
     "output_type": "stream",
     "text": [
      "Total Combinations: 36\n"
     ]
    }
   ],
   "source": [
    "import itertools\n",
    "\n",
    "# Define your categories and their options\n",
    "data_saved = ['1', '2', '3']  # Big data, HIV total, Multi\n",
    "models = ['B', 'G', 'V']      # Biagram, GPT, VAE\n",
    "preprocessing = ['S', 'W']  # Sections/chunks, Full parenthesis chunk, Whole string\n",
    "tokenization = ['c', 'm', 'a']   # Characterbased, Molecular Chunks, Central atom\n",
    "\n",
    "# Generate all combinations\n",
    "all_combinations = list(itertools.product(data_saved, models, preprocessing, tokenization))\n",
    "\n",
    "# Print the number of combinations\n",
    "print(f\"Total Combinations: {len(all_combinations)}\")"
   ]
  },
  {
   "cell_type": "code",
   "execution_count": 97,
   "metadata": {},
   "outputs": [
    {
     "name": "stdout",
     "output_type": "stream",
     "text": [
      "Total Unique Combinations: 24\n"
     ]
    }
   ],
   "source": [
    "# Define your categories and their options\n",
    "data_saved = ['1', '2', '3']\n",
    "models = ['B', 'V']\n",
    "preprocessing = ['S','W']\n",
    "tokenization = ['c', 'm']\n",
    "\n",
    "# Generate all combinations\n",
    "all_combinations = set()\n",
    "\n",
    "for combination in itertools.product(data_saved, models, preprocessing, tokenization):\n",
    "    # Sort the combination to avoid duplicates like 'BC' and 'CB'\n",
    "    sorted_combination = tuple(sorted(combination))\n",
    "    all_combinations.add(sorted_combination)\n",
    "\n",
    "# Convert to a list for easier handling\n",
    "all_combinations = list(all_combinations)\n",
    "\n",
    "# Print the number of combinations\n",
    "print(f\"Total Unique Combinations: {len(all_combinations)}\")"
   ]
  }
 ],
 "metadata": {
  "kernelspec": {
   "display_name": ".venv",
   "language": "python",
   "name": "python3"
  },
  "language_info": {
   "codemirror_mode": {
    "name": "ipython",
    "version": 3
   },
   "file_extension": ".py",
   "mimetype": "text/x-python",
   "name": "python",
   "nbconvert_exporter": "python",
   "pygments_lexer": "ipython3",
   "version": "3.11.0"
  }
 },
 "nbformat": 4,
 "nbformat_minor": 2
}
