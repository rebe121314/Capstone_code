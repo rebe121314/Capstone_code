{
 "cells": [
  {
   "cell_type": "code",
   "execution_count": 1,
   "metadata": {},
   "outputs": [],
   "source": [
    "\n",
    "import numpy as np\n",
    "import pandas as pd\n",
    "import matplotlib.pyplot as plt\n",
    "import seaborn as sns\n",
    "import os\n",
    "import sys\n",
    "import torch\n",
    "import torch.nn as nn\n",
    "import torch.optim as optim\n",
    "from torch.nn import functional as F\n",
    "from tqdm import tqdm\n",
    "import os\n",
    "import re\n",
    "import sys\n",
    "import time\n",
    "import logging\n",
    "import tempfile\n",
    "from collections import Counter\n",
    "from typing import List, Tuple\n",
    "from tqdm import tqdm\n",
    "\n",
    "import numpy as np\n",
    "import pandas as pd\n",
    "\n",
    "import rdkit\n",
    "from rdkit import Chem\n",
    "from rdkit.Chem import MolFromSmiles, MolToSmiles, CanonSmiles\n",
    "\n",
    "import deepchem as dc\n",
    "from sklearn.ensemble import RandomForestClassifier, RandomForestRegressor\n",
    "from sklearn.model_selection import cross_validate\n",
    "from scipy.sparse import csr_matrix, lil_matrix\n",
    "\n",
    "import atomInSmiles as ais\n",
    "import json"
   ]
  },
  {
   "cell_type": "code",
   "execution_count": 17,
   "metadata": {},
   "outputs": [],
   "source": [
    "# This vocab only focus in characters not in pairs.\n",
    "class CreateVocab:\n",
    "    def __init__(self, datasets):\n",
    "        \"\"\"\n",
    "        Initialize the CreateVocab object with multiple datasets.\n",
    "\n",
    "        :param datasets: List of datasets (strings) to build the vocabulary from.\n",
    "        \"\"\"\n",
    "        self.stoi = {}\n",
    "        self.itos = {}\n",
    "        self.build_vocab(datasets)\n",
    "\n",
    "    def build_vocab(self, datasets):\n",
    "        \"\"\"\n",
    "        Builds the vocabulary from the given datasets.\n",
    "\n",
    "        :param datasets: List of datasets (strings) to build the vocabulary from.\n",
    "        \"\"\"\n",
    "        all_text = ''.join(datasets)  # Concatenate all datasets\n",
    "        unique_chars = sorted(set(all_text))  # Extract unique characters\n",
    "\n",
    "        self.stoi = {char: idx for idx, char in enumerate(unique_chars)}\n",
    "        self.itos = {idx: char for idx, char in enumerate(unique_chars)}\n",
    "\n",
    "    def encode(self, text):\n",
    "        \"\"\"\n",
    "        Encodes a given text into a list of indices.\n",
    "\n",
    "        :param text: String to be encoded.\n",
    "        :return: List of indices corresponding to the characters in the text.\n",
    "        \"\"\"\n",
    "        return [self.stoi[char] for char in text]\n",
    "\n",
    "    def decode(self, indices):\n",
    "        \"\"\"\n",
    "        Decodes a list of indices into a string.\n",
    "\n",
    "        :param indices: List of indices to be decoded.\n",
    "        :return: Decoded string.\n",
    "        \"\"\"\n",
    "        return ''.join(self.itos[idx] for idx in indices)\n",
    "\n",
    "\n",
    "def preprocess_smiles(smiles):\n",
    "    \"\"\"\n",
    "    Preprocesses a given SMILES string by adding padding and start and end tokens.\n",
    "\n",
    "    :param smiles: SMILES string to be preprocessed.\n",
    "    :return: Preprocessed SMILES string.\n",
    "    \"\"\"\n",
    "    text = [str(i) + \"*\" for i in smiles]\n",
    "    text = str(text)[1:-1]\n",
    "    return text\n",
    "\n",
    "# Load and process datasets\n",
    "smile_1 = pd.read_csv('smile_1.csv')['smiles']\n",
    "smile_2 = pd.read_csv('smile_2.csv')['smiles']\n",
    "smile_3 = pd.read_csv('smile_3.csv')['canonical_smiles']\n",
    "\n",
    "processed_smile_1 = preprocess_smiles(smile_1)\n",
    "processed_smile_2 = preprocess_smiles(smile_2)\n",
    "processed_smile_3 = preprocess_smiles(smile_3)\n",
    "\n",
    "# Combine processed datasets\n",
    "combined_text = processed_smile_1 + processed_smile_2 + processed_smile_3\n",
    "\n",
    "# Create vocabulary\n",
    "vocab = CreateVocab([combined_text])\n",
    "\n",
    "# Now vocab.stoi and vocab.itos are your dictionaries\n",
    "\n"
   ]
  },
  {
   "cell_type": "code",
   "execution_count": 66,
   "metadata": {},
   "outputs": [],
   "source": [
    "encoded_text = vocab.encode(text)\n",
    "\n",
    "# Train and test splits\n",
    "data = torch.tensor(encoded_text, dtype=torch.long)\n",
    "n = int(0.9 * len(data))  # 90% for training, rest for validation\n",
    "train_data = data[:n]\n",
    "val_data = data[n:]"
   ]
  },
  {
   "cell_type": "code",
   "execution_count": 67,
   "metadata": {},
   "outputs": [],
   "source": [
    "# hyperparameters\n",
    "batch_size = 16 # how many independent sequences will we process in parallel?\n",
    "block_size = 32 # what is the maximum context length for predictions?\n",
    "max_iters = 350\n",
    "eval_interval = 10\n",
    "learning_rate = 1e-3\n",
    "device = 'cuda' if torch.cuda.is_available() else 'cpu'\n",
    "eval_iters = 100\n",
    "n_embd = 64\n",
    "n_head = 4\n",
    "n_layer = 4\n",
    "dropout = 0.0\n",
    "# ------------\n",
    "\n",
    "torch.manual_seed(1337)\n",
    "vocab_size = len(vocab.stoi)\n",
    "\n",
    "def get_batch(split):\n",
    "    # generate a small batch of data of inputs x and targets y\n",
    "    data = train_data if split == 'train' else val_data\n",
    "    ix = torch.randint(len(data) - block_size, (batch_size,))\n",
    "    x = torch.stack([data[i:i+block_size] for i in ix])\n",
    "    y = torch.stack([data[i+1:i+block_size+1] for i in ix])\n",
    "    x, y = x.to(device), y.to(device)\n",
    "    return x, y\n",
    "\n",
    "@torch.no_grad()\n",
    "def estimate_loss():\n",
    "    out = {}\n",
    "    model.eval()\n",
    "    for split in ['train', 'val']:\n",
    "        losses = torch.zeros(eval_iters)\n",
    "        for k in range(eval_iters):\n",
    "            X, Y = get_batch(split)\n",
    "            logits, loss = model(X, Y)\n",
    "            losses[k] = loss.item()\n",
    "        out[split] = losses.mean()\n",
    "    model.train()\n",
    "    return out\n",
    "\n",
    "class Head(nn.Module):\n",
    "    \"\"\" one head of self-attention \"\"\"\n",
    "\n",
    "    def __init__(self, head_size):\n",
    "        super().__init__()\n",
    "        self.key = nn.Linear(n_embd, head_size, bias=False)\n",
    "        self.query = nn.Linear(n_embd, head_size, bias=False)\n",
    "        self.value = nn.Linear(n_embd, head_size, bias=False)\n",
    "        self.register_buffer('tril', torch.tril(torch.ones(block_size, block_size)))\n",
    "\n",
    "        self.dropout = nn.Dropout(dropout)\n",
    "\n",
    "    def forward(self, x):\n",
    "        B,T,C = x.shape\n",
    "        k = self.key(x)   # (B,T,C)\n",
    "        q = self.query(x) # (B,T,C)\n",
    "        # compute attention scores (\"affinities\")\n",
    "        wei = q @ k.transpose(-2,-1) * C**-0.5 # (B, T, C) @ (B, C, T) -> (B, T, T)\n",
    "        wei = wei.masked_fill(self.tril[:T, :T] == 0, float('-inf')) # (B, T, T)\n",
    "        wei = F.softmax(wei, dim=-1) # (B, T, T)\n",
    "        wei = self.dropout(wei)\n",
    "        # perform the weighted aggregation of the values\n",
    "        v = self.value(x) # (B,T,C)\n",
    "        out = wei @ v # (B, T, T) @ (B, T, C) -> (B, T, C)\n",
    "        return out\n",
    "\n",
    "class MultiHeadAttention(nn.Module):\n",
    "    \"\"\" multiple heads of self-attention in parallel \"\"\"\n",
    "\n",
    "    def __init__(self, num_heads, head_size):\n",
    "        super().__init__()\n",
    "        self.heads = nn.ModuleList([Head(head_size) for _ in range(num_heads)])\n",
    "        self.proj = nn.Linear(n_embd, n_embd)\n",
    "        self.dropout = nn.Dropout(dropout)\n",
    "\n",
    "    def forward(self, x):\n",
    "        out = torch.cat([h(x) for h in self.heads], dim=-1)\n",
    "        out = self.dropout(self.proj(out))\n",
    "        return out\n",
    "\n",
    "class FeedFoward(nn.Module):\n",
    "    \"\"\" a simple linear layer followed by a non-linearity \"\"\"\n",
    "\n",
    "    def __init__(self, n_embd):\n",
    "        super().__init__()\n",
    "        self.net = nn.Sequential(\n",
    "            nn.Linear(n_embd, 4 * n_embd),\n",
    "            nn.ReLU(),\n",
    "            nn.Linear(4 * n_embd, n_embd),\n",
    "            nn.Dropout(dropout),\n",
    "        )\n",
    "\n",
    "    def forward(self, x):\n",
    "        return self.net(x)\n",
    "\n",
    "class Block(nn.Module):\n",
    "    \"\"\" Transformer block: communication followed by computation \"\"\"\n",
    "\n",
    "    def __init__(self, n_embd, n_head):\n",
    "        # n_embd: embedding dimension, n_head: the number of heads we'd like\n",
    "        super().__init__()\n",
    "        head_size = n_embd // n_head\n",
    "        self.sa = MultiHeadAttention(n_head, head_size)\n",
    "        self.ffwd = FeedFoward(n_embd)\n",
    "        self.ln1 = nn.LayerNorm(n_embd)\n",
    "        self.ln2 = nn.LayerNorm(n_embd)\n",
    "\n",
    "    def forward(self, x):\n",
    "        x = x + self.sa(self.ln1(x))\n",
    "        x = x + self.ffwd(self.ln2(x))\n",
    "        return x\n",
    "\n",
    "# super simple bigram model\n",
    "class BigramLanguageModel(nn.Module):\n",
    "\n",
    "    def __init__(self):\n",
    "        super().__init__()\n",
    "        # each token directly reads off the logits for the next token from a lookup table\n",
    "        self.token_embedding_table = nn.Embedding(vocab_size, n_embd)\n",
    "        self.position_embedding_table = nn.Embedding(block_size, n_embd)\n",
    "        self.blocks = nn.Sequential(*[Block(n_embd, n_head=n_head) for _ in range(n_layer)])\n",
    "        self.ln_f = nn.LayerNorm(n_embd) # final layer norm\n",
    "        self.lm_head = nn.Linear(n_embd, vocab_size)\n",
    "\n",
    "    def forward(self, idx, targets=None):\n",
    "        B, T = idx.shape\n",
    "\n",
    "        # idx and targets are both (B,T) tensor of integers\n",
    "        tok_emb = self.token_embedding_table(idx) # (B,T,C)\n",
    "        pos_emb = self.position_embedding_table(torch.arange(T, device=device)) # (T,C)\n",
    "        x = tok_emb + pos_emb # (B,T,C)\n",
    "        x = self.blocks(x) # (B,T,C)\n",
    "        x = self.ln_f(x) # (B,T,C)\n",
    "        logits = self.lm_head(x) # (B,T,vocab_size)\n",
    "\n",
    "        if targets is None:\n",
    "            loss = None\n",
    "        else:\n",
    "            B, T, C = logits.shape\n",
    "            logits = logits.view(B*T, C)\n",
    "            targets = targets.view(B*T)\n",
    "            loss = F.cross_entropy(logits, targets)\n",
    "\n",
    "        return logits, loss\n",
    "\n",
    "    def generate(self, idx, max_new_tokens):\n",
    "        # idx is (B, T) array of indices in the current context\n",
    "        for _ in range(max_new_tokens):\n",
    "            # crop idx to the last block_size tokens\n",
    "            idx_cond = idx[:, -block_size:]\n",
    "            # get the predictions\n",
    "            logits, loss = self(idx_cond)\n",
    "            # focus only on the last time step\n",
    "            logits = logits[:, -1, :] # becomes (B, C)\n",
    "            # apply softmax to get probabilities\n",
    "            probs = F.softmax(logits, dim=-1) # (B, C)\n",
    "            # sample from the distribution\n",
    "            idx_next = torch.multinomial(probs, num_samples=1) # (B, 1)\n",
    "            # append sampled index to the running sequence\n",
    "            idx = torch.cat((idx, idx_next), dim=1) # (B, T+1)\n",
    "        return idx"
   ]
  },
  {
   "cell_type": "code",
   "execution_count": 68,
   "metadata": {},
   "outputs": [],
   "source": [
    "model = BigramLanguageModel()"
   ]
  },
  {
   "cell_type": "code",
   "execution_count": 57,
   "metadata": {},
   "outputs": [
    {
     "data": {
      "text/plain": [
       "<All keys matched successfully>"
      ]
     },
     "execution_count": 57,
     "metadata": {},
     "output_type": "execute_result"
    }
   ],
   "source": [
    "model_state_path = \"2_BPC.pkl\"\n",
    "model.load_state_dict(torch.load(model_state_path))"
   ]
  },
  {
   "cell_type": "code",
   "execution_count": 69,
   "metadata": {},
   "outputs": [
    {
     "name": "stdout",
     "output_type": "stream",
     "text": [
      "0.209471 M parameters\n"
     ]
    }
   ],
   "source": [
    "\n",
    "m = model.to(device)\n",
    "# print the number of parameters in the model\n",
    "print(sum(p.numel() for p in m.parameters())/1e6, 'M parameters')\n",
    "\n",
    "# create a PyTorch optimizer\n",
    "optimizer = torch.optim.AdamW(model.parameters(), lr=learning_rate)"
   ]
  },
  {
   "cell_type": "code",
   "execution_count": 78,
   "metadata": {},
   "outputs": [
    {
     "name": "stdout",
     "output_type": "stream",
     "text": [
      "step 0: train loss 0.6063, val loss 1.9900\n",
      "step 10: train loss 0.5863, val loss 2.0657\n",
      "step 20: train loss 0.5699, val loss 2.0125\n",
      "step 30: train loss 0.5809, val loss 1.9538\n",
      "step 40: train loss 0.5628, val loss 2.0333\n",
      "step 50: train loss 0.5713, val loss 2.0105\n",
      "step 60: train loss 0.5630, val loss 1.9575\n",
      "step 70: train loss 0.5316, val loss 2.0096\n",
      "step 80: train loss 0.5164, val loss 2.0027\n",
      "step 90: train loss 0.5175, val loss 1.8855\n",
      "step 100: train loss 0.4928, val loss 1.9341\n",
      "step 110: train loss 0.4935, val loss 2.0024\n",
      "step 120: train loss 0.5175, val loss 1.9690\n",
      "step 130: train loss 0.4917, val loss 1.9424\n",
      "step 140: train loss 0.4673, val loss 1.8791\n",
      "step 150: train loss 0.4690, val loss 2.0091\n",
      "step 160: train loss 0.4609, val loss 2.0861\n",
      "step 170: train loss 0.4483, val loss 1.9652\n",
      "step 180: train loss 0.4567, val loss 2.0348\n",
      "step 190: train loss 0.4320, val loss 1.9668\n",
      "step 200: train loss 0.4453, val loss 1.9082\n",
      "step 210: train loss 0.4363, val loss 1.9007\n",
      "step 220: train loss 0.4195, val loss 2.0096\n",
      "step 230: train loss 0.4303, val loss 1.9774\n",
      "step 240: train loss 0.4185, val loss 2.0051\n",
      "step 250: train loss 0.4208, val loss 1.9690\n",
      "step 260: train loss 0.4139, val loss 1.9875\n",
      "step 270: train loss 0.3934, val loss 1.9422\n",
      "step 280: train loss 0.3950, val loss 1.9984\n",
      "step 290: train loss 0.3760, val loss 1.9386\n",
      "step 300: train loss 0.3764, val loss 2.0402\n",
      "step 310: train loss 0.3849, val loss 2.0153\n",
      "step 320: train loss 0.3689, val loss 2.0254\n",
      "step 330: train loss 0.3945, val loss 1.9776\n",
      "step 340: train loss 0.3607, val loss 2.0321\n",
      "step 349: train loss 0.3539, val loss 1.9973\n"
     ]
    }
   ],
   "source": [
    "\n",
    "train_losses = []\n",
    "val_losses = []\n",
    "\n",
    "\n",
    "for iter in range(max_iters):\n",
    "    # Evaluate the loss periodically\n",
    "    if iter % eval_interval == 0 or iter == max_iters - 1:\n",
    "        losses = estimate_loss()\n",
    "        train_losses.append(losses['train'])\n",
    "        val_losses.append(losses['val'])\n",
    "        print(f\"step {iter}: train loss {losses['train']:.4f}, val loss {losses['val']:.4f}\")\n",
    "\n",
    "    # Get a batch of data\n",
    "    xb, yb = get_batch('train')\n",
    "\n",
    "    # Forward pass and loss computation\n",
    "    logits, loss = model(xb, yb)\n",
    "\n",
    "    # Backpropagation\n",
    "    optimizer.zero_grad(set_to_none=True)\n",
    "    loss.backward()\n",
    "    optimizer.step()\n",
    "# generate from the model\n",
    "context = torch.zeros((1, 1), dtype=torch.long, device=device)"
   ]
  },
  {
   "cell_type": "code",
   "execution_count": 71,
   "metadata": {},
   "outputs": [
    {
     "data": {
      "image/png": "[encoded data removed]",
      "text/plain": [
       "<Figure size 1000x600 with 1 Axes>"
      ]
     },
     "metadata": {},
     "output_type": "display_data"
    }
   ],
   "source": [
    "# Plotting\n",
    "plt.figure(figsize=(10, 6))\n",
    "plt.plot(train_losses, label='Training Loss', color='purple')\n",
    "plt.plot(val_losses, label='Validation Loss', color='green')\n",
    "plt.xlabel('Iterations')\n",
    "plt.ylabel('Loss')\n",
    "plt.title('Training and Validation Loss')\n",
    "plt.legend()\n",
    "plt.show()"
   ]
  },
  {
   "cell_type": "code",
   "execution_count": 25,
   "metadata": {},
   "outputs": [
    {
     "data": {
      "text/plain": [
       "'CC (C) (C) c1ccc2occ (CC(=O)Nc3ccccc3F) c2c1\\n'"
      ]
     },
     "execution_count": 25,
     "metadata": {},
     "output_type": "execute_result"
    }
   ],
   "source": [
    "def separate(s):\n",
    "    stack = []\n",
    "    sections = []\n",
    "    for i, c in enumerate(s):\n",
    "        if c in ['(', '[']:\n",
    "            stack.append((c, i))\n",
    "        elif c in [')', ']']:\n",
    "            while stack:\n",
    "                opening, start = stack[-1]  # Peek at the top of the stack\n",
    "                if (opening == '(' and c == ')') or (opening == '[' and c == ']'):\n",
    "                    stack.pop()  # Remove the matching opening bracket\n",
    "                    sections.append((start, i))\n",
    "                    break\n",
    "                else:\n",
    "                    stack.pop()  # Remove the non-matching opening bracket\n",
    "\n",
    "    # Filter out overlapping sections\n",
    "    non_overlapping_sections = []\n",
    "    last_end = -1\n",
    "    for start, end in sorted(sections, key=lambda x: x[0]):\n",
    "        if start > last_end:\n",
    "            non_overlapping_sections.append((start, end))\n",
    "            last_end = end\n",
    "\n",
    "    return non_overlapping_sections\n",
    "\n",
    "\n",
    "def show_sections(s, sections):\n",
    "    all_sections = []\n",
    "    last_end = 0  # To keep track of the last section's end index\n",
    "\n",
    "    for start, end in sections:\n",
    "        if start > last_end:\n",
    "            # Add the section between the last end and this start\n",
    "            all_sections.append(s[last_end:start])\n",
    "        # Add the section within the current parenthesis/bracket\n",
    "        all_sections.append(s[start:end+1])\n",
    "        last_end = end + 1  # Update the last end index\n",
    "\n",
    "    # Handle any remaining section after the last parenthesis/bracket\n",
    "    if last_end < len(s):\n",
    "        all_sections.append(s[last_end:])\n",
    "\n",
    "    return all_sections\n",
    "\n",
    "smiles = smiles \n",
    "s = smiles[0]\n",
    "sections = separate(s)\n",
    "all_sections = show_sections(s, sections)\n",
    "\" \".join(all_sections)"
   ]
  },
  {
   "cell_type": "code",
   "execution_count": 49,
   "metadata": {},
   "outputs": [],
   "source": [
    "smiles_1 = pd.read_csv('smile_3.csv')\n",
    "smiles = smiles_1['canonical_smiles']"
   ]
  },
  {
   "cell_type": "code",
   "execution_count": 52,
   "metadata": {},
   "outputs": [
    {
     "name": "stderr",
     "output_type": "stream",
     "text": [
      "100%|██████████| 52/52 [00:00<00:00, 14027.77it/s]\n"
     ]
    }
   ],
   "source": [
    "text = \"\"\n",
    "\n",
    "for i in tqdm(range(len(smiles))):\n",
    "    sections = separate(smiles[i])\n",
    "    all_sections = show_sections(smiles[i], sections)\n",
    "    text += \" \".join(all_sections)\n",
    "    text += \"* \""
   ]
  },
  {
   "cell_type": "code",
   "execution_count": 53,
   "metadata": {},
   "outputs": [
    {
     "name": "stdout",
     "output_type": "stream",
     "text": [
      "CC (C) CN (Sc1ccc2c(c1)CCO2) [C@H] (CO) CCCCNC (=O) [C@@H] (Cc1cccc2ccccc12) NC (=O) N1CCOCC1* CC (C) CN (Sc1ccc2c(c1)OCCO2) [C@H] (CO) CCCCNC (=O) [C@@H] (Cc1cccc2ccccc12) NC (=O) N1CCOCC1* CC (C) CN ([C@H](CO)CCCCNC(=O)[C@H](Cc1ccccc1Br)NC(=O)N1CCOCC1) S (=O) (=O) c1ccc2c (c1) CCO2* Cc1c (O) cccc1C (=O) N [C@@H] (Cc1ccccc1Br) C (=O) NCCCC [C@@H] (CO) N (CC(C)C) S (=O) (=O) c1ccc (N) cc1* CC (C) CN ([C@H](CO)CCCCNC(=O)[C@H](Cc1ccccc1Br)NC(=O)c1cccc(=O)[nH]1) S (=O) (=O) c1ccc (N) cc1* Cc1ccccc1C [C@H] (NC(=O)c1cccnc1) C (=O) NCCCC [C@@H] (CO) N (CC(C)C) S (=O) (=O) c1ccc (N) cc1* O=C (O) CNC (=O) c1c (=O) oc (O) c2cc (Br) ccc12* C [C@H] (NC(=O)c1c(=O)oc(O)c2cccc(-c3cccc(C(F)(F)F)c3)c12) C (=O) O* Cc1ccccc1C [C@H] (NC(=O)c1cccc(C)c1O) C (=O) NCCCC [C@@H] (CO) N (CC(C)C) S (=O) (=O) c1ccc (N) cc1* COC (=O) N [C@@H] (CC1CCCCC1) C (=O) NCCCC [C@@H] (CO) N (CC(C)C) S (=O) (=O) c1ccc (N) cc1* CC (C) CN ([C@H](CO)CCCCNC(=O)[C@H](CC1CCCCC1)NC(=O)c1cccnc1) S (=O) (=O) c1ccc (N) cc1* Cc1ccc (C(=O)N[C@@H](CC2CCCCC2)C(=O)NCCCC[C@@H](CO)N(CC(C)C)S(=O)(=O)c2ccc(N)cc2) cn1* COC (=O) N [C@H] (C(=O)NCCCC[C@H](CO)N(CC(C)C)S(=O)(=O)c1cccc2cccnc12) C (c1ccccc1) c1ccccc1* CC (C) CN ([C@H](CO)CCCCNC(=O)[C@H](Cc1ccccc1Cl)NC(=O)c1ccncc1) S (=O) (=O) c1ccc (N) cc1* Cc1ncccc1C (=O) N [C@@H] (Cc1ccccc1Cl) C (=O) NCCCC [C@@H] (CO) N (CC(C)C) S (=O) (=O) c1ccc (N) cc1* CC (C) CN ([C@H](CO)CCCCNC(=O)[C@H](CC1=C(Br)CCC=C1)NC(=O)N1CCOCC1) S (=O) (=O) c1ccc2c (c1) OCCO2* COC (=O) N [C@H] (C(=O)NCCCC[C@@H](CO)N(CC(C)C)S(=O)(=O)c1ccc2c(c1)CCO2) C (C1=CC=CCC1) c1ccccc1* CC (C) CN ([C@H](CO)CCCCNC(=O)[C@@H](NC(=O)N1CCOCC1)C(c1ccccc1)c1ccccc1) S (=O) (=O) c1ccc2c (c1) CCO2* COC (=O) N [C@H] (C(=O)NCCCC[C@H](CO)N(CC(C)C)S(=O)(=O)c1ccc2c(c1)N(C)CCO2) C (c1ccccc1) c1ccccc1* Cc1cccnc1C (=O) N [C@@H] (Cc1ccccc1Br) C (=O) NCCCC [C@@H] (CO) N (CC(C)C) S (=O) (=O) c1ccc (N) cc1* Cc1ccc (C(=O)N[C@@H](Cc2ccccc2Br)C(=O)NCCCC[C@@H](CO)N(CC(C)C)S(=O)(=O)c2ccc(N)cc2) cc1O* CC (C) CN ([C@H](CO)CCCCNC(=O)[C@H](Cc1ccccc1Br)NC(=O)OCc1ccncc1) S (=O) (=O) c1ccc (N) cc1* CC (C) CN ([C@H](CO)CCCCNC(=O)[C@H](Cc1ccc2ccccc2c1)NS(=O)(=O)c1ccc2c(c1)OCCC2C) S (=O) (=O) c1ccc (N) cc1* CCC (=O) NC (=O) N (C) CC (=O) N [C@@H] (Cc1ccc2ccccc2c1) C (=O) NCCCC [C@@H] (CO) N (CC(C)C) S (=O) (=O) c1ccc (N) cc1* CC (C) CN ([C@H](CO)CCCCNC(=O)[C@H](Cc1ccc2ccccc2c1)NCc1ccccn1) S (=O) (=O) c1ccc (N) cc1* CC (C) CN ([C@H](CO)CCCCNC(=O)[C@@H](NS(=O)(=O)c1cccs1)C(c1ccccc1)c1ccccc1) S (=O) (=O) c1ccc (N) cc1* CN [C@H] (C(=O)NCCCC[C@@H](CO)N(CC(C)C)S(=O)(=O)c1ccc(N)cc1) C (c1ccccc1) C1C=CC=CC1* CC (C) CN ([C@H](CO)CCCCNC(=O)[C@@H](NC(=O)NCC1=CCCN=C1)C(c1ccccc1)c1ccccc1) S (=O) (=O) c1ccc (N) cc1* CC (C) CN ([C@H](CO)CCCCNC(=O)[C@@H](NC(=O)NCc1ccncc1)C(c1ccccc1)c1ccccc1) S (=O) (=O) c1ccc (N) cc1* Cc1ccc (C(=O)N[C@@H](Cc2ccccc2C)C(=O)NCCCC[C@@H](CO)N(CC(C)C)S(=O)(=O)c2ccc(N)cc2) cc1O* COC (=O) N [C@H] (C(=O)NCCCCC(C(N)=O)N(CC(C)C)S(=O)(=O)c1ccc(N)cc1) C (c1ccccc1) c1ccccc1* COC (=O) N [C@H] (C(=O)NCCCC[C@@H](CO)N(Cc1cccnc1)S(=O)(=O)c1ccc(N)cc1) C (c1ccccc1) c1ccccc1* Cc1ncccc1C (=O) N [C@@H] (Cc1ccccc1Br) C (=O) NCCCC [C@@H] (CO) N (CC(C)C) S (=O) (=O) c1ccc (N) cc1* Cc1ccc (C(=O)N[C@@H](Cc2ccccc2Br)C(=O)NCCCC[C@@H](CO)N(CC(C)C)S(=O)(=O)c2ccc(N)cc2) cn1* CC (C) CN ([C@H](CO)CCCCNC(=O)[C@@H](Cc1ccccc1Br)NC(=O)c1ccc2c(c1)OCO2) S (=O) (=O) c1ccc (N) cc1* CC (C) CN ([C@H](CO)CCCCNC(=O)C(Cc1ccccc1Br)NC(=O)c1ccncc1) S (=O) (=O) c1ccc (N) cc1* CC (C) CN ([C@H](CO)CCCCNC(=O)[C@H](Cc1ccccc1Br)NC(=O)C1=NCC(C)N=C1) S (=O) (=O) c1ccc (N) cc1* CC (C) CN ([C@H](CO)CCCCNC(=O)[C@H](Cc1ccccc1Br)NC(=O)c1cnccn1) S (=O) (=O) c1ccc (N) cc1* CC (C) CN ([C@H](CO)CCCCNC(=O)[C@@H](Cc1ccccc1Br)NC(=O)c1ccccn1) S (=O) (=O) c1ccc (N) cc1* CC (C) CN ([C@H](CO)CCCCNC(=O)[C@@H](Cc1ccccc1Br)NC(=O)c1cccnc1) S (=O) (=O) c1ccc (N) cc1* COC (=O) N [C@H] (C(=O)NCCCC[C@H](C(N)=O)N(CC(C)C)S(=O)(=O)c1ccc(N)cc1) C (c1ccccc1) c1ccccc1* CC (=O) N [C@H] (C(=O)NCCCCC(C(N)=O)N(CC(C)C)S(=O)(=O)c1ccc(N)cc1) C (c1ccccc1) c1ccccc1* CC (C) CN (C(CCCCNC(=O)[C@H](CC1=C2C=CC=CC2CC=C1)NC(=O)N1CCOCC1)C(N)=O) S (=O) (=O) c1ccc (N) cc1* COc1cc2cc (C#N) ccc2c (OC) c1Oc1cc (N) nc (Nc2ccc(C#N)cc2) n1* CCNc1cc (Oc2c(OC)cc3cc(C#N)ccc3c2OC) nc (Nc2ccc(C#N)cc2) n1* COc1cc2cc (C#N) ccc2c (OC) c1Oc1cc (N2CCC(O)C2) nc (Nc2ccc(C#N)cc2) n1* Cc1ccnc2c1NC (=O) c1cccnc1N2C1CC1* Cc1cc (C#N) cc (C) c1Oc1nc (Nc2ccc(C#N)cc2) nc (N) c1Br* O=C1Nc2ccc (Cl) cc2 [C@@] (C#CC2CC2) (C(F)(F)F) O1* C=CC (=O) N (C) c1cc (Oc2ccccc2OCCn2ccc(=O)[nH]c2=O) c (C) c2cc (C#N) ccc12* Cc1c (Oc2ccccc2OCCn2ccc(=O)[nH]c2=O) cc (N(C)C(=O)CCl) c2ccc (C#N) cc12* CC (C) c1ccc (O) c (=O) c (O) c1* \n"
     ]
    }
   ],
   "source": [
    "text = text.replace(\"\\n\", \"\")\n",
    "\n",
    "print(text)"
   ]
  },
  {
   "cell_type": "code",
   "execution_count": 79,
   "metadata": {},
   "outputs": [],
   "source": [
    "val = vocab.decode(m.generate(context, max_new_tokens=2000)[0].tolist())"
   ]
  },
  {
   "cell_type": "code",
   "execution_count": 80,
   "metadata": {},
   "outputs": [
    {
     "name": "stdout",
     "output_type": "stream",
     "text": [
      " c1ccc (N) cc1* CCC (C) CN ([C@H](CO)CCCCNC(=O)[C@@@H](CC1cccc2ccc2Br)C(=O)NCCCC[C@@H](CO)Cc1ccnC(C)I)C)S(=O)(=O)c1ccc(N)cc1)COC (c1ccccc1) S (=O) (=O) c1cc (N) ccc1* CCC (=O) N [C@@H] (Cc1cccc1Br) C (=O) NCCCCC [C@@@H] (CO) N (CC(C)C) S (=O) (=O) c1cc (N) ccc1* CC (C) CN ([C@H](d=O)CCCCN=C1)C(c1ccccc1)Br)NC(=O)OCC1=CC1) S (=O) (=O) c1ccc (N) cc1* CC (C) CN ([C@H](CO)CCCCNC(=O)[C@@H](Cc1ccccc1Br)NC(=O)c1cnnc(c1)cc1)cc2) S (=O) (=O2ccccc (N) ccc12* COC (=O) CNC (=O) [C@H] (Cc1ccccnc1) CC (C) ) (c1ccccc1) c1OOc1OC (=O) NCCCC [C@@@H] (Cc1ccccc1Br) CC (=O) NCCC (=O) N [C@@@H] (2cccc(2ccccccccc2Br)C(=O)c1cccnc1) C (c1cccc1) CN1C (=OCC1* COC [C@@H] (CO) CCCCNC (=O) [C@@@H] (CCCNC(=O)C(Cc1ccccc1)Br)lc1cccc(c1)OC+) S (=O) (=O) c1ccc (N) cc1* COC [C@@H] (Cc1ccccc1Br) C (=O) NCCCC [C@@@H] (CO) N (CC(C)C) S (=O) (=O) c1ccc (N) cc1* COC (=O) N [C@@H] (Cc1C2cccccc12cccccn1) C (=O) o ( c1O* Cc1ccc (C(=O)NCCCCC [C@@@H](CO)CC(C(N)C(=O)N)[C1CCOCC1)CC(Br)O) S (=O) (=O) c1ccc (N) cc1* CC (C) CN ([C@H](CO)CCCCNC(=O)=O) S (=O) (=O) c1ccc (N) cc1* CC (C) CN ([C@H](CO)CCCCNC(=O)NC[C@@@H](Cc1ccccc2cccc1Br)C(c1ccccc1)c1OC@H](2ccccccc1Br)NC(=O)o(C)c1cccc(Br)c1OC) S (=O) (=O) c1ccc (N) cc1* CC (C) CN S (=OCC(=O) c1ccc (N([)cc1) C (c1ccccc1) cc1ccccc1* CC (=O) [C@@H] (Cc1ccccc1Br) C (=O) NCCCCC S (=O) (=O) c1cc (N) ccc1* CC (C) CN ([C@H](CO)CCCCNC(=O)C(C)Cc1ccccc1) S (=O) (=O) c1ccc (N) cc1* CCC (CNC([C@H](CO)O)CCCNC(=O)[C@H](Cc1ccc2cccccs1Br)C(=O)c1cccc2c(c1)N) S (=OC1=CC1) (c1ccccnc1) C1c1ccccc1* CCC [C@#H] (NC(=O)NCCCC[C@@H](CO)N(CO)CC(Cc1cccccc1Br)C(c1ccccc1)NC(=O)c1cccc(C)O) S (=O) (=O) c1ccc (N) cc1* CC (C) CN (S (=O) (=O) c1cc (N) ccc1* Cc1ccc (C(=O)NCCCC[C@@@H](NC(Cc1cccccc1Br)C(c1ccccc1)c1OCC@H](Cc1ccccc1Br)NC(=O)c1cccc(C(N)c1ccccc1) S (=O) (=O) c1ccc (Br) c1O=CC=C2* [C@@@H] (CO) CCO2* CC (CC) CN ([C@H](CO)CCCCNC(=O)[C@@H](CCc1cccc2Br)C(=O)NCCCC[C@@@H](CO)NS(=O)(=O)c1cccc(N)(=O)c1ccc(N)cc1) C (c1ccccc1) C (=O) N1CCO [C@@H] (Cc1ccccc1Cl) C (=O) NCCCC [C@@H] (CO) N (CCBr) S (=O) (=O) c1c\n"
     ]
    }
   ],
   "source": [
    "print(val)"
   ]
  },
  {
   "cell_type": "code",
   "execution_count": 81,
   "metadata": {},
   "outputs": [
    {
     "data": {
      "text/plain": [
       "['c1ccc(N)cc1',\n",
       " 'CCC(C)CN([C@H](CO)CCCCNC(=O)[C@@@H](CC1cccc2ccc2Br)C(=O)NCCCC[C@@H](CO)Cc1ccnC(C)I)C)S(=O)(=O)c1ccc(N)cc1)COC(c1ccccc1)S(=O)(=O)c1cc(N)ccc1',\n",
       " 'CCC(=O)N[C@@H](Cc1cccc1Br)C(=O)NCCCCC[C@@@H](CO)N(CC(C)C)S(=O)(=O)c1cc(N)ccc1',\n",
       " 'CC(C)CN([C@H](d=O)CCCCN=C1)C(c1ccccc1)Br)NC(=O)OCC1=CC1)S(=O)(=O)c1ccc(N)cc1',\n",
       " 'CC(C)CN([C@H](CO)CCCCNC(=O)[C@@H](Cc1ccccc1Br)NC(=O)c1cnnc(c1)cc1)cc2)S(=O)(=O2ccccc(N)ccc12',\n",
       " 'COC(=O)CNC(=O)[C@H](Cc1ccccnc1)CC(C))(c1ccccc1)c1OOc1OC(=O)NCCCC[C@@@H](Cc1ccccc1Br)CC(=O)NCCC(=O)N[C@@@H](2cccc(2ccccccccc2Br)C(=O)c1cccnc1)C(c1cccc1)CN1C(=OCC1',\n",
       " 'COC[C@@H](CO)CCCCNC(=O)[C@@@H](CCCNC(=O)C(Cc1ccccc1)Br)lc1cccc(c1)OC+)S(=O)(=O)c1ccc(N)cc1',\n",
       " 'COC[C@@H](Cc1ccccc1Br)C(=O)NCCCC[C@@@H](CO)N(CC(C)C)S(=O)(=O)c1ccc(N)cc1',\n",
       " 'COC(=O)N[C@@H](Cc1C2cccccc12cccccn1)C(=O)o(c1O',\n",
       " 'Cc1ccc(C(=O)NCCCCC[C@@@H](CO)CC(C(N)C(=O)N)[C1CCOCC1)CC(Br)O)S(=O)(=O)c1ccc(N)cc1',\n",
       " 'CC(C)CN([C@H](CO)CCCCNC(=O)=O)S(=O)(=O)c1ccc(N)cc1',\n",
       " 'CC(C)CN([C@H](CO)CCCCNC(=O)NC[C@@@H](Cc1ccccc2cccc1Br)C(c1ccccc1)c1OC@H](2ccccccc1Br)NC(=O)o(C)c1cccc(Br)c1OC)S(=O)(=O)c1ccc(N)cc1',\n",
       " 'CC(C)CNS(=OCC(=O)c1ccc(N([)cc1)C(c1ccccc1)cc1ccccc1',\n",
       " 'CC(=O)[C@@H](Cc1ccccc1Br)C(=O)NCCCCCS(=O)(=O)c1cc(N)ccc1',\n",
       " 'CC(C)CN([C@H](CO)CCCCNC(=O)C(C)Cc1ccccc1)S(=O)(=O)c1ccc(N)cc1',\n",
       " 'CCC(CNC([C@H](CO)O)CCCNC(=O)[C@H](Cc1ccc2cccccs1Br)C(=O)c1cccc2c(c1)N)S(=OC1=CC1)(c1ccccnc1)C1c1ccccc1',\n",
       " 'CCC[C@#H](NC(=O)NCCCC[C@@H](CO)N(CO)CC(Cc1cccccc1Br)C(c1ccccc1)NC(=O)c1cccc(C)O)S(=O)(=O)c1ccc(N)cc1',\n",
       " 'CC(C)CN(S(=O)(=O)c1cc(N)ccc1',\n",
       " 'Cc1ccc(C(=O)NCCCC[C@@@H](NC(Cc1cccccc1Br)C(c1ccccc1)c1OCC@H](Cc1ccccc1Br)NC(=O)c1cccc(C(N)c1ccccc1)S(=O)(=O)c1ccc(Br)c1O=CC=C2',\n",
       " '[C@@@H](CO)CCO2',\n",
       " 'CC(CC)CN([C@H](CO)CCCCNC(=O)[C@@H](CCc1cccc2Br)C(=O)NCCCC[C@@@H](CO)NS(=O)(=O)c1cccc(N)(=O)c1ccc(N)cc1)C(c1ccccc1)C(=O)N1CCO[C@@H](Cc1ccccc1Cl)C(=O)NCCCC[C@@H](CO)N(CCBr)S(=O)(=O)c1c']"
      ]
     },
     "execution_count": 81,
     "metadata": {},
     "output_type": "execute_result"
    }
   ],
   "source": [
    "new = \"\".join(val)\n",
    "new = new.split('*')\n",
    "\n",
    "new = [s for s in new if len(s) > 2]\n",
    "\n",
    "new = [s.replace(' ', '') for s in new]\n",
    "new"
   ]
  },
  {
   "cell_type": "code",
   "execution_count": 82,
   "metadata": {},
   "outputs": [
    {
     "name": "stderr",
     "output_type": "stream",
     "text": [
      "[04:33:54] SMILES Parse Error: syntax error while parsing: CCC(C)CN([C@H](CO)CCCCNC(=O)[C@@@H](CC1cccc2ccc2Br)C(=O)NCCCC[C@@H](CO)Cc1ccnC(C)I)C)S(=O)(=O)c1ccc(N)cc1)COC(c1ccccc1)S(=O)(=O)c1cc(N)ccc1\n",
      "[04:33:54] SMILES Parse Error: Failed parsing SMILES 'CCC(C)CN([C@H](CO)CCCCNC(=O)[C@@@H](CC1cccc2ccc2Br)C(=O)NCCCC[C@@H](CO)Cc1ccnC(C)I)C)S(=O)(=O)c1ccc(N)cc1)COC(c1ccccc1)S(=O)(=O)c1cc(N)ccc1' for input: 'CCC(C)CN([C@H](CO)CCCCNC(=O)[C@@@H](CC1cccc2ccc2Br)C(=O)NCCCC[C@@H](CO)Cc1ccnC(C)I)C)S(=O)(=O)c1ccc(N)cc1)COC(c1ccccc1)S(=O)(=O)c1cc(N)ccc1'\n",
      "[04:33:54] SMILES Parse Error: syntax error while parsing: CCC(=O)N[C@@H](Cc1cccc1Br)C(=O)NCCCCC[C@@@H](CO)N(CC(C)C)S(=O)(=O)c1cc(N)ccc1\n",
      "[04:33:54] SMILES Parse Error: Failed parsing SMILES 'CCC(=O)N[C@@H](Cc1cccc1Br)C(=O)NCCCCC[C@@@H](CO)N(CC(C)C)S(=O)(=O)c1cc(N)ccc1' for input: 'CCC(=O)N[C@@H](Cc1cccc1Br)C(=O)NCCCCC[C@@@H](CO)N(CC(C)C)S(=O)(=O)c1cc(N)ccc1'\n",
      "[04:33:54] SMILES Parse Error: syntax error while parsing: CC(C)CN([C@H](d=O)CCCCN=C1)C(c1ccccc1)Br)NC(=O)OCC1=CC1)S(=O)(=O)c1ccc(N)cc1\n",
      "[04:33:54] SMILES Parse Error: Failed parsing SMILES 'CC(C)CN([C@H](d=O)CCCCN=C1)C(c1ccccc1)Br)NC(=O)OCC1=CC1)S(=O)(=O)c1ccc(N)cc1' for input: 'CC(C)CN([C@H](d=O)CCCCN=C1)C(c1ccccc1)Br)NC(=O)OCC1=CC1)S(=O)(=O)c1ccc(N)cc1'\n",
      "[04:33:54] SMILES Parse Error: extra close parentheses while parsing: CC(C)CN([C@H](CO)CCCCNC(=O)[C@@H](Cc1ccccc1Br)NC(=O)c1cnnc(c1)cc1)cc2)S(=O)(=O2ccccc(N)ccc12\n",
      "[04:33:54] SMILES Parse Error: Failed parsing SMILES 'CC(C)CN([C@H](CO)CCCCNC(=O)[C@@H](Cc1ccccc1Br)NC(=O)c1cnnc(c1)cc1)cc2)S(=O)(=O2ccccc(N)ccc12' for input: 'CC(C)CN([C@H](CO)CCCCNC(=O)[C@@H](Cc1ccccc1Br)NC(=O)c1cnnc(c1)cc1)cc2)S(=O)(=O2ccccc(N)ccc12'\n",
      "[04:33:54] SMILES Parse Error: extra close parentheses while parsing: COC(=O)CNC(=O)[C@H](Cc1ccccnc1)CC(C))(c1ccccc1)c1OOc1OC(=O)NCCCC[C@@@H](Cc1ccccc1Br)CC(=O)NCCC(=O)N[C@@@H](2cccc(2ccccccccc2Br)C(=O)c1cccnc1)C(c1cccc1)CN1C(=OCC1\n",
      "[04:33:54] SMILES Parse Error: Failed parsing SMILES 'COC(=O)CNC(=O)[C@H](Cc1ccccnc1)CC(C))(c1ccccc1)c1OOc1OC(=O)NCCCC[C@@@H](Cc1ccccc1Br)CC(=O)NCCC(=O)N[C@@@H](2cccc(2ccccccccc2Br)C(=O)c1cccnc1)C(c1cccc1)CN1C(=OCC1' for input: 'COC(=O)CNC(=O)[C@H](Cc1ccccnc1)CC(C))(c1ccccc1)c1OOc1OC(=O)NCCCC[C@@@H](Cc1ccccc1Br)CC(=O)NCCC(=O)N[C@@@H](2cccc(2ccccccccc2Br)C(=O)c1cccnc1)C(c1cccc1)CN1C(=OCC1'\n",
      "[04:33:54] SMILES Parse Error: syntax error while parsing: COC[C@@H](CO)CCCCNC(=O)[C@@@H](CCCNC(=O)C(Cc1ccccc1)Br)lc1cccc(c1)OC+)S(=O)(=O)c1ccc(N)cc1\n",
      "[04:33:54] SMILES Parse Error: Failed parsing SMILES 'COC[C@@H](CO)CCCCNC(=O)[C@@@H](CCCNC(=O)C(Cc1ccccc1)Br)lc1cccc(c1)OC+)S(=O)(=O)c1ccc(N)cc1' for input: 'COC[C@@H](CO)CCCCNC(=O)[C@@@H](CCCNC(=O)C(Cc1ccccc1)Br)lc1cccc(c1)OC+)S(=O)(=O)c1ccc(N)cc1'\n",
      "[04:33:54] SMILES Parse Error: syntax error while parsing: COC[C@@H](Cc1ccccc1Br)C(=O)NCCCC[C@@@H](CO)N(CC(C)C)S(=O)(=O)c1ccc(N)cc1\n",
      "[04:33:54] SMILES Parse Error: Failed parsing SMILES 'COC[C@@H](Cc1ccccc1Br)C(=O)NCCCC[C@@@H](CO)N(CC(C)C)S(=O)(=O)c1ccc(N)cc1' for input: 'COC[C@@H](Cc1ccccc1Br)C(=O)NCCCC[C@@@H](CO)N(CC(C)C)S(=O)(=O)c1ccc(N)cc1'\n",
      "[04:33:54] SMILES Parse Error: extra open parentheses for input: 'COC(=O)N[C@@H](Cc1C2cccccc12cccccn1)C(=O)o(c1O'\n",
      "[04:33:54] SMILES Parse Error: syntax error while parsing: Cc1ccc(C(=O)NCCCCC[C@@@H](CO)CC(C(N)C(=O)N)[C1CCOCC1)CC(Br)O)S(=O)(=O)c1ccc(N)cc1\n",
      "[04:33:54] SMILES Parse Error: Failed parsing SMILES 'Cc1ccc(C(=O)NCCCCC[C@@@H](CO)CC(C(N)C(=O)N)[C1CCOCC1)CC(Br)O)S(=O)(=O)c1ccc(N)cc1' for input: 'Cc1ccc(C(=O)NCCCCC[C@@@H](CO)CC(C(N)C(=O)N)[C1CCOCC1)CC(Br)O)S(=O)(=O)c1ccc(N)cc1'\n",
      "[04:33:54] Explicit valence for atom # 13 C, 5, is greater than permitted\n",
      "[04:33:54] SMILES Parse Error: syntax error while parsing: CC(C)CN([C@H](CO)CCCCNC(=O)NC[C@@@H](Cc1ccccc2cccc1Br)C(c1ccccc1)c1OC@H](2ccccccc1Br)NC(=O)o(C)c1cccc(Br)c1OC)S(=O)(=O)c1ccc(N)cc1\n",
      "[04:33:54] SMILES Parse Error: Failed parsing SMILES 'CC(C)CN([C@H](CO)CCCCNC(=O)NC[C@@@H](Cc1ccccc2cccc1Br)C(c1ccccc1)c1OC@H](2ccccccc1Br)NC(=O)o(C)c1cccc(Br)c1OC)S(=O)(=O)c1ccc(N)cc1' for input: 'CC(C)CN([C@H](CO)CCCCNC(=O)NC[C@@@H](Cc1ccccc2cccc1Br)C(c1ccccc1)c1OC@H](2ccccccc1Br)NC(=O)o(C)c1cccc(Br)c1OC)S(=O)(=O)c1ccc(N)cc1'\n",
      "[04:33:54] SMILES Parse Error: syntax error while parsing: CC(C)CNS(=OCC(=O)c1ccc(N([)cc1)C(c1ccccc1)cc1ccccc1\n",
      "[04:33:54] SMILES Parse Error: Failed parsing SMILES 'CC(C)CNS(=OCC(=O)c1ccc(N([)cc1)C(c1ccccc1)cc1ccccc1' for input: 'CC(C)CNS(=OCC(=O)c1ccc(N([)cc1)C(c1ccccc1)cc1ccccc1'\n",
      "[04:33:54] SMILES Parse Error: ring closure 1 duplicates bond between atom 51 and atom 52 for input: 'CCC(CNC([C@H](CO)O)CCCNC(=O)[C@H](Cc1ccc2cccccs1Br)C(=O)c1cccc2c(c1)N)S(=OC1=CC1)(c1ccccnc1)C1c1ccccc1'\n",
      "[04:33:54] SMILES Parse Error: syntax error while parsing: CCC[C@#H](NC(=O)NCCCC[C@@H](CO)N(CO)CC(Cc1cccccc1Br)C(c1ccccc1)NC(=O)c1cccc(C)O)S(=O)(=O)c1ccc(N)cc1\n",
      "[04:33:54] SMILES Parse Error: Failed parsing SMILES 'CCC[C@#H](NC(=O)NCCCC[C@@H](CO)N(CO)CC(Cc1cccccc1Br)C(c1ccccc1)NC(=O)c1cccc(C)O)S(=O)(=O)c1ccc(N)cc1' for input: 'CCC[C@#H](NC(=O)NCCCC[C@@H](CO)N(CO)CC(Cc1cccccc1Br)C(c1ccccc1)NC(=O)c1cccc(C)O)S(=O)(=O)c1ccc(N)cc1'\n",
      "[04:33:54] SMILES Parse Error: extra open parentheses for input: 'CC(C)CN(S(=O)(=O)c1cc(N)ccc1'\n",
      "[04:33:54] SMILES Parse Error: syntax error while parsing: Cc1ccc(C(=O)NCCCC[C@@@H](NC(Cc1cccccc1Br)C(c1ccccc1)c1OCC@H](Cc1ccccc1Br)NC(=O)c1cccc(C(N)c1ccccc1)S(=O)(=O)c1ccc(Br)c1O=CC=C2\n",
      "[04:33:54] SMILES Parse Error: Failed parsing SMILES 'Cc1ccc(C(=O)NCCCC[C@@@H](NC(Cc1cccccc1Br)C(c1ccccc1)c1OCC@H](Cc1ccccc1Br)NC(=O)c1cccc(C(N)c1ccccc1)S(=O)(=O)c1ccc(Br)c1O=CC=C2' for input: 'Cc1ccc(C(=O)NCCCC[C@@@H](NC(Cc1cccccc1Br)C(c1ccccc1)c1OCC@H](Cc1ccccc1Br)NC(=O)c1cccc(C(N)c1ccccc1)S(=O)(=O)c1ccc(Br)c1O=CC=C2'\n",
      "[04:33:54] SMILES Parse Error: syntax error while parsing: [C@@@H](CO)CCO2\n",
      "[04:33:54] SMILES Parse Error: Failed parsing SMILES '[C@@@H](CO)CCO2' for input: '[C@@@H](CO)CCO2'\n",
      "[04:33:54] SMILES Parse Error: syntax error while parsing: CC(CC)CN([C@H](CO)CCCCNC(=O)[C@@H](CCc1cccc2Br)C(=O)NCCCC[C@@@H](CO)NS(=O)(=O)c1cccc(N)(=O)c1ccc(N)cc1)C(c1ccccc1)C(=O)N1CCO[C@@H](Cc1ccccc1Cl)C(=O)NCCCC[C@@H](CO)N(CCBr)S(=O)(=O)c1c\n",
      "[04:33:54] SMILES Parse Error: Failed parsing SMILES 'CC(CC)CN([C@H](CO)CCCCNC(=O)[C@@H](CCc1cccc2Br)C(=O)NCCCC[C@@@H](CO)NS(=O)(=O)c1cccc(N)(=O)c1ccc(N)cc1)C(c1ccccc1)C(=O)N1CCO[C@@H](Cc1ccccc1Cl)C(=O)NCCCC[C@@H](CO)N(CCBr)S(=O)(=O)c1c' for input: 'CC(CC)CN([C@H](CO)CCCCNC(=O)[C@@H](CCc1cccc2Br)C(=O)NCCCC[C@@@H](CO)NS(=O)(=O)c1cccc(N)(=O)c1ccc(N)cc1)C(c1ccccc1)C(=O)N1CCO[C@@H](Cc1ccccc1Cl)C(=O)NCCCC[C@@H](CO)N(CCBr)S(=O)(=O)c1c'\n"
     ]
    },
    {
     "data": {
      "image/png": "[encoded data removed]",
      "text/plain": [
       "<IPython.core.display.Image object>"
      ]
     },
     "execution_count": 82,
     "metadata": {},
     "output_type": "execute_result"
    }
   ],
   "source": [
    "from rdkit import Chem\n",
    "from rdkit.Chem import Draw\n",
    "from rdkit.Chem.Draw import IPythonConsole\n",
    "\n",
    "\n",
    "mols = [Chem.MolFromSmiles(smi) for smi in new if Chem.MolFromSmiles(smi) is not None]\n",
    "Draw.MolsToGridImage(mols, molsPerRow=5, subImgSize=(200, 200), legends=[str(i) for i in range(len(mols))])"
   ]
  },
  {
   "cell_type": "code",
   "execution_count": 72,
   "metadata": {},
   "outputs": [
    {
     "name": "stdout",
     "output_type": "stream",
     "text": [
      "Model saved successfully.\n"
     ]
    }
   ],
   "source": [
    "model_state_path = \"Only3_BPC.pkl\"\n",
    "torch.save(model.state_dict(), model_state_path)\n",
    "\n",
    "print(\"Model saved successfully.\")"
   ]
  }
 ],
 "metadata": {
  "kernelspec": {
   "display_name": ".venv",
   "language": "python",
   "name": "python3"
  },
  "language_info": {
   "codemirror_mode": {
    "name": "ipython",
    "version": 3
   },
   "file_extension": ".py",
   "mimetype": "text/x-python",
   "name": "python",
   "nbconvert_exporter": "python",
   "pygments_lexer": "ipython3",
   "version": "3.11.0"
  }
 },
 "nbformat": 4,
 "nbformat_minor": 2
}
