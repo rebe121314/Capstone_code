{
 "cells": [
  {
   "cell_type": "code",
   "execution_count": 2,
   "metadata": {},
   "outputs": [],
   "source": [
    "\n",
    "import numpy as np\n",
    "import pandas as pd\n",
    "import matplotlib.pyplot as plt\n",
    "import seaborn as sns\n",
    "import os\n",
    "import sys\n",
    "import torch\n",
    "import torch.nn as nn\n",
    "import torch.optim as optim\n",
    "from torch.nn import functional as F\n",
    "from tqdm import tqdm\n",
    "import os\n",
    "import re\n",
    "import sys\n",
    "import time\n",
    "import logging\n",
    "import tempfile\n",
    "from collections import Counter\n",
    "from typing import List, Tuple\n",
    "from tqdm import tqdm\n",
    "\n",
    "import numpy as np\n",
    "import pandas as pd\n",
    "\n",
    "import rdkit\n",
    "from rdkit import Chem\n",
    "from rdkit.Chem import MolFromSmiles, MolToSmiles, CanonSmiles\n",
    "\n",
    "import deepchem as dc\n",
    "from sklearn.ensemble import RandomForestClassifier, RandomForestRegressor\n",
    "from sklearn.model_selection import cross_validate\n",
    "from scipy.sparse import csr_matrix, lil_matrix\n",
    "\n",
    "import atomInSmiles as ais\n",
    "import json"
   ]
  },
  {
   "cell_type": "markdown",
   "metadata": {},
   "source": [
    "## Read drug molecules"
   ]
  },
  {
   "cell_type": "code",
   "execution_count": 24,
   "metadata": {},
   "outputs": [],
   "source": [
    "from tensorflow import keras\n",
    "\n",
    "# Creating the 'data_clean' directory if it doesn't exist\n",
    "os.makedirs('/data_clean', exist_ok=True)\n",
    "\n",
    "# Downloading the CSV file into the 'data_clean' directory\n",
    "csv_url = \"https://raw.githubusercontent.com/aspuru-guzik-group/chemical_vae/master/models/zinc_properties/250k_rndm_zinc_drugs_clean_3.csv\"\n",
    "csv_path = keras.utils.get_file(\n",
    "    fname=\"/data_clean/250k_rndm_zinc_drugs_clean_3.csv\", \n",
    "    origin=csv_url\n",
    ")\n",
    "\n",
    "df = pd.read_csv(csv_path)\n",
    "\n",
    "smile_1 = df['smiles']\n",
    "smile_1.shape\n",
    "\n",
    "#save the smile as a csv file\n",
    "smile_1.to_csv('smile_1.csv', index=False)"
   ]
  },
  {
   "cell_type": "markdown",
   "metadata": {},
   "source": [
    "## Read HIV general drug molecules (active and inactive)"
   ]
  },
  {
   "cell_type": "code",
   "execution_count": 25,
   "metadata": {},
   "outputs": [],
   "source": [
    "data = pd.read_csv('C:\\\\Users\\\\Rebe\\\\Documents\\\\Python programms\\\\Capstone_code\\\\Data\\\\smilecsv_hiv_general.csv')\n",
    "\n",
    "smile_2 = data['smiles']\n",
    "#get dimensions of smile data\n",
    "smile_2.shape\n",
    "#data\n",
    "smile_2.to_csv('smile_2.csv', index=False)\n"
   ]
  },
  {
   "cell_type": "markdown",
   "metadata": {},
   "source": [
    "## Final dataset with active protease and NRTIs"
   ]
  },
  {
   "cell_type": "code",
   "execution_count": 28,
   "metadata": {},
   "outputs": [
    {
     "name": "stdout",
     "output_type": "stream",
     "text": [
      "(43,)\n",
      "(9,)\n",
      "(52,)\n"
     ]
    },
    {
     "data": {
      "text/html": [
       "<div>\n",
       "<style scoped>\n",
       "    .dataframe tbody tr th:only-of-type {\n",
       "        vertical-align: middle;\n",
       "    }\n",
       "\n",
       "    .dataframe tbody tr th {\n",
       "        vertical-align: top;\n",
       "    }\n",
       "\n",
       "    .dataframe thead th {\n",
       "        text-align: right;\n",
       "    }\n",
       "</style>\n",
       "<table border=\"1\" class=\"dataframe\">\n",
       "  <thead>\n",
       "    <tr style=\"text-align: right;\">\n",
       "      <th></th>\n",
       "      <th>canonical_smiles</th>\n",
       "    </tr>\n",
       "  </thead>\n",
       "  <tbody>\n",
       "    <tr>\n",
       "      <th>0</th>\n",
       "      <td>CC(C)CN(Sc1ccc2c(c1)CCO2)[C@H](CO)CCCCNC(=O)[C...</td>\n",
       "    </tr>\n",
       "    <tr>\n",
       "      <th>1</th>\n",
       "      <td>CC(C)CN(Sc1ccc2c(c1)OCCO2)[C@H](CO)CCCCNC(=O)[...</td>\n",
       "    </tr>\n",
       "    <tr>\n",
       "      <th>2</th>\n",
       "      <td>CC(C)CN([C@H](CO)CCCCNC(=O)[C@H](Cc1ccccc1Br)N...</td>\n",
       "    </tr>\n",
       "    <tr>\n",
       "      <th>3</th>\n",
       "      <td>Cc1c(O)cccc1C(=O)N[C@@H](Cc1ccccc1Br)C(=O)NCCC...</td>\n",
       "    </tr>\n",
       "    <tr>\n",
       "      <th>4</th>\n",
       "      <td>CC(C)CN([C@H](CO)CCCCNC(=O)[C@H](Cc1ccccc1Br)N...</td>\n",
       "    </tr>\n",
       "  </tbody>\n",
       "</table>\n",
       "</div>"
      ],
      "text/plain": [
       "                                    canonical_smiles\n",
       "0  CC(C)CN(Sc1ccc2c(c1)CCO2)[C@H](CO)CCCCNC(=O)[C...\n",
       "1  CC(C)CN(Sc1ccc2c(c1)OCCO2)[C@H](CO)CCCCNC(=O)[...\n",
       "2  CC(C)CN([C@H](CO)CCCCNC(=O)[C@H](Cc1ccccc1Br)N...\n",
       "3  Cc1c(O)cccc1C(=O)N[C@@H](Cc1ccccc1Br)C(=O)NCCC...\n",
       "4  CC(C)CN([C@H](CO)CCCCNC(=O)[C@H](Cc1ccccc1Br)N..."
      ]
     },
     "execution_count": 28,
     "metadata": {},
     "output_type": "execute_result"
    }
   ],
   "source": [
    "#protease inhibitors\n",
    "\n",
    "protease = pd.read_csv('C:\\\\Users\\\\Rebe\\\\Documents\\\\Python programms\\\\Capstone_code\\\\Data\\\\hiv_protease_inhibitors_data_chemlb.csv')\n",
    "protease = protease['canonical_smiles']\n",
    "print(protease.shape)\n",
    "\n",
    "nrti = pd.read_csv('C:\\\\Users\\\\Rebe\\\\Documents\\\\Python programms\\\\Capstone_code\\\\Data\\\\nrtis_hiv_chemlb_full.csv')\n",
    "nrti = nrti['canonical_smiles']\n",
    "print(nrti.shape)\n",
    "\n",
    "#Add protease and nrtis data together\n",
    "\n",
    "smile_3 = pd.concat([protease, nrti], axis=0)\n",
    "print(smile_3.shape)\n",
    "smile_3.head()\n",
    "smile_3.to_csv('smile_3.csv', index=False)\n",
    "\n",
    "hello = pd.read_csv('smile_3.csv')\n",
    "\n",
    "hello.head()\n",
    "\n"
   ]
  }
 ],
 "metadata": {
  "kernelspec": {
   "display_name": ".venv",
   "language": "python",
   "name": "python3"
  },
  "language_info": {
   "codemirror_mode": {
    "name": "ipython",
    "version": 3
   },
   "file_extension": ".py",
   "mimetype": "text/x-python",
   "name": "python",
   "nbconvert_exporter": "python",
   "pygments_lexer": "ipython3",
   "version": "3.11.0"
  }
 },
 "nbformat": 4,
 "nbformat_minor": 2
}
