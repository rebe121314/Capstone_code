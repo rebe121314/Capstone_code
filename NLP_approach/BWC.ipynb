{
 "cells": [
  {
   "cell_type": "code",
   "execution_count": 3,
   "metadata": {},
   "outputs": [],
   "source": [
    "\n",
    "import numpy as np\n",
    "import pandas as pd\n",
    "import matplotlib.pyplot as plt\n",
    "import seaborn as sns\n",
    "import os\n",
    "import sys\n",
    "import torch\n",
    "import torch.nn as nn\n",
    "import torch.optim as optim\n",
    "from torch.nn import functional as F\n",
    "from tqdm import tqdm\n",
    "import os\n",
    "import re\n",
    "import sys\n",
    "import time\n",
    "import logging\n",
    "import tempfile\n",
    "from collections import Counter\n",
    "from typing import List, Tuple\n",
    "from tqdm import tqdm\n",
    "\n",
    "import numpy as np\n",
    "import pandas as pd\n",
    "\n",
    "import rdkit\n",
    "from rdkit import Chem\n",
    "from rdkit.Chem import MolFromSmiles, MolToSmiles, CanonSmiles\n",
    "\n",
    "import deepchem as dc\n",
    "from sklearn.ensemble import RandomForestClassifier, RandomForestRegressor\n",
    "from sklearn.model_selection import cross_validate\n",
    "from scipy.sparse import csr_matrix, lil_matrix\n",
    "\n",
    "import atomInSmiles as ais\n",
    "import json"
   ]
  },
  {
   "cell_type": "code",
   "execution_count": 38,
   "metadata": {},
   "outputs": [],
   "source": [
    "# This vocab only focus in characters not in pairs.\n",
    "class CreateVocab:\n",
    "    def __init__(self, datasets):\n",
    "        \"\"\"\n",
    "        Initialize the CreateVocab object with multiple datasets.\n",
    "\n",
    "        :param datasets: List of datasets (strings) to build the vocabulary from.\n",
    "        \"\"\"\n",
    "        self.stoi = {}\n",
    "        self.itos = {}\n",
    "        self.build_vocab(datasets)\n",
    "\n",
    "    def build_vocab(self, datasets):\n",
    "        \"\"\"\n",
    "        Builds the vocabulary from the given datasets.\n",
    "\n",
    "        :param datasets: List of datasets (strings) to build the vocabulary from.\n",
    "        \"\"\"\n",
    "        all_text = ''.join(datasets)  # Concatenate all datasets\n",
    "        unique_chars = sorted(set(all_text))  # Extract unique characters\n",
    "\n",
    "        self.stoi = {char: idx for idx, char in enumerate(unique_chars)}\n",
    "        self.itos = {idx: char for idx, char in enumerate(unique_chars)}\n",
    "\n",
    "    def encode(self, text):\n",
    "        \"\"\"\n",
    "        Encodes a given text into a list of indices.\n",
    "\n",
    "        :param text: String to be encoded.\n",
    "        :return: List of indices corresponding to the characters in the text.\n",
    "        \"\"\"\n",
    "        return [self.stoi[char] for char in text]\n",
    "\n",
    "    def decode(self, indices):\n",
    "        \"\"\"\n",
    "        Decodes a list of indices into a string.\n",
    "\n",
    "        :param indices: List of indices to be decoded.\n",
    "        :return: Decoded string.\n",
    "        \"\"\"\n",
    "        return ''.join(self.itos[idx] for idx in indices)\n",
    "\n",
    "\n",
    "def preprocess_smiles(smiles):\n",
    "    \"\"\"\n",
    "    Preprocesses a given SMILES string by adding padding and start and end tokens.\n",
    "\n",
    "    :param smiles: SMILES string to be preprocessed.\n",
    "    :return: Preprocessed SMILES string.\n",
    "    \"\"\"\n",
    "    text = [str(i) + \"*\" for i in smiles]\n",
    "    text = str(text)[1:-1]\n",
    "    return text\n",
    "\n",
    "# Load and process datasets\n",
    "smile_1 = pd.read_csv('smile_1.csv')['smiles']\n",
    "smile_2 = pd.read_csv('smile_2.csv')['smiles']\n",
    "smile_3 = pd.read_csv('smile_3.csv')['canonical_smiles']\n",
    "\n",
    "processed_smile_1 = preprocess_smiles(smile_1)\n",
    "processed_smile_2 = preprocess_smiles(smile_2)\n",
    "processed_smile_3 = preprocess_smiles(smile_3)\n",
    "\n",
    "# Combine processed datasets\n",
    "combined_text = processed_smile_1 + processed_smile_2 + processed_smile_3\n",
    "\n",
    "# Create vocabulary\n",
    "vocab = CreateVocab([combined_text])\n"
   ]
  },
  {
   "cell_type": "code",
   "execution_count": 84,
   "metadata": {},
   "outputs": [],
   "source": [
    "encoded_text = vocab.encode(text)\n",
    "\n",
    "# Train and test splits\n",
    "data = torch.tensor(encoded_text, dtype=torch.long)\n",
    "n = int(0.9 * len(data))  # 90% for training, rest for validation\n",
    "train_data = data[:n]\n",
    "val_data = data[n:]"
   ]
  },
  {
   "cell_type": "code",
   "execution_count": 85,
   "metadata": {},
   "outputs": [],
   "source": [
    "# hyperparameters\n",
    "batch_size = 16 # how many independent sequences will we process in parallel?\n",
    "block_size = 32 # what is the maximum context length for predictions?\n",
    "max_iters = 350\n",
    "eval_interval = 10\n",
    "learning_rate = 1e-3\n",
    "device = 'cuda' if torch.cuda.is_available() else 'cpu'\n",
    "eval_iters = 100\n",
    "n_embd = 64\n",
    "n_head = 4\n",
    "n_layer = 4\n",
    "dropout = 0.0\n",
    "# ------------\n",
    "\n",
    "torch.manual_seed(1337)\n",
    "vocab_size = len(vocab.stoi)\n",
    "\n",
    "def get_batch(split):\n",
    "    # generate a small batch of data of inputs x and targets y\n",
    "    data = train_data if split == 'train' else val_data\n",
    "    ix = torch.randint(len(data) - block_size, (batch_size,))\n",
    "    x = torch.stack([data[i:i+block_size] for i in ix])\n",
    "    y = torch.stack([data[i+1:i+block_size+1] for i in ix])\n",
    "    x, y = x.to(device), y.to(device)\n",
    "    return x, y\n",
    "\n",
    "@torch.no_grad()\n",
    "def estimate_loss():\n",
    "    out = {}\n",
    "    model.eval()\n",
    "    for split in ['train', 'val']:\n",
    "        losses = torch.zeros(eval_iters)\n",
    "        for k in range(eval_iters):\n",
    "            X, Y = get_batch(split)\n",
    "            logits, loss = model(X, Y)\n",
    "            losses[k] = loss.item()\n",
    "        out[split] = losses.mean()\n",
    "    model.train()\n",
    "    return out\n",
    "\n",
    "class Head(nn.Module):\n",
    "    \"\"\" one head of self-attention \"\"\"\n",
    "\n",
    "    def __init__(self, head_size):\n",
    "        super().__init__()\n",
    "        self.key = nn.Linear(n_embd, head_size, bias=False)\n",
    "        self.query = nn.Linear(n_embd, head_size, bias=False)\n",
    "        self.value = nn.Linear(n_embd, head_size, bias=False)\n",
    "        self.register_buffer('tril', torch.tril(torch.ones(block_size, block_size)))\n",
    "\n",
    "        self.dropout = nn.Dropout(dropout)\n",
    "\n",
    "    def forward(self, x):\n",
    "        B,T,C = x.shape\n",
    "        k = self.key(x)   # (B,T,C)\n",
    "        q = self.query(x) # (B,T,C)\n",
    "        # compute attention scores (\"affinities\")\n",
    "        wei = q @ k.transpose(-2,-1) * C**-0.5 # (B, T, C) @ (B, C, T) -> (B, T, T)\n",
    "        wei = wei.masked_fill(self.tril[:T, :T] == 0, float('-inf')) # (B, T, T)\n",
    "        wei = F.softmax(wei, dim=-1) # (B, T, T)\n",
    "        wei = self.dropout(wei)\n",
    "        # perform the weighted aggregation of the values\n",
    "        v = self.value(x) # (B,T,C)\n",
    "        out = wei @ v # (B, T, T) @ (B, T, C) -> (B, T, C)\n",
    "        return out\n",
    "\n",
    "class MultiHeadAttention(nn.Module):\n",
    "    \"\"\" multiple heads of self-attention in parallel \"\"\"\n",
    "\n",
    "    def __init__(self, num_heads, head_size):\n",
    "        super().__init__()\n",
    "        self.heads = nn.ModuleList([Head(head_size) for _ in range(num_heads)])\n",
    "        self.proj = nn.Linear(n_embd, n_embd)\n",
    "        self.dropout = nn.Dropout(dropout)\n",
    "\n",
    "    def forward(self, x):\n",
    "        out = torch.cat([h(x) for h in self.heads], dim=-1)\n",
    "        out = self.dropout(self.proj(out))\n",
    "        return out\n",
    "\n",
    "class FeedFoward(nn.Module):\n",
    "    \"\"\" a simple linear layer followed by a non-linearity \"\"\"\n",
    "\n",
    "    def __init__(self, n_embd):\n",
    "        super().__init__()\n",
    "        self.net = nn.Sequential(\n",
    "            nn.Linear(n_embd, 4 * n_embd),\n",
    "            nn.ReLU(),\n",
    "            nn.Linear(4 * n_embd, n_embd),\n",
    "            nn.Dropout(dropout),\n",
    "        )\n",
    "\n",
    "    def forward(self, x):\n",
    "        return self.net(x)\n",
    "\n",
    "class Block(nn.Module):\n",
    "    \"\"\" Transformer block: communication followed by computation \"\"\"\n",
    "\n",
    "    def __init__(self, n_embd, n_head):\n",
    "        # n_embd: embedding dimension, n_head: the number of heads we'd like\n",
    "        super().__init__()\n",
    "        head_size = n_embd // n_head\n",
    "        self.sa = MultiHeadAttention(n_head, head_size)\n",
    "        self.ffwd = FeedFoward(n_embd)\n",
    "        self.ln1 = nn.LayerNorm(n_embd)\n",
    "        self.ln2 = nn.LayerNorm(n_embd)\n",
    "\n",
    "    def forward(self, x):\n",
    "        x = x + self.sa(self.ln1(x))\n",
    "        x = x + self.ffwd(self.ln2(x))\n",
    "        return x\n",
    "\n",
    "# super simple bigram model\n",
    "class BigramLanguageModel(nn.Module):\n",
    "\n",
    "    def __init__(self):\n",
    "        super().__init__()\n",
    "        # each token directly reads off the logits for the next token from a lookup table\n",
    "        self.token_embedding_table = nn.Embedding(vocab_size, n_embd)\n",
    "        self.position_embedding_table = nn.Embedding(block_size, n_embd)\n",
    "        self.blocks = nn.Sequential(*[Block(n_embd, n_head=n_head) for _ in range(n_layer)])\n",
    "        self.ln_f = nn.LayerNorm(n_embd) # final layer norm\n",
    "        self.lm_head = nn.Linear(n_embd, vocab_size)\n",
    "\n",
    "    def forward(self, idx, targets=None):\n",
    "        B, T = idx.shape\n",
    "\n",
    "        # idx and targets are both (B,T) tensor of integers\n",
    "        tok_emb = self.token_embedding_table(idx) # (B,T,C)\n",
    "        pos_emb = self.position_embedding_table(torch.arange(T, device=device)) # (T,C)\n",
    "        x = tok_emb + pos_emb # (B,T,C)\n",
    "        x = self.blocks(x) # (B,T,C)\n",
    "        x = self.ln_f(x) # (B,T,C)\n",
    "        logits = self.lm_head(x) # (B,T,vocab_size)\n",
    "\n",
    "        if targets is None:\n",
    "            loss = None\n",
    "        else:\n",
    "            B, T, C = logits.shape\n",
    "            logits = logits.view(B*T, C)\n",
    "            targets = targets.view(B*T)\n",
    "            loss = F.cross_entropy(logits, targets)\n",
    "\n",
    "        return logits, loss\n",
    "\n",
    "    def generate(self, idx, max_new_tokens):\n",
    "        # idx is (B, T) array of indices in the current context\n",
    "        for _ in range(max_new_tokens):\n",
    "            # crop idx to the last block_size tokens\n",
    "            idx_cond = idx[:, -block_size:]\n",
    "            # get the predictions\n",
    "            logits, loss = self(idx_cond)\n",
    "            # focus only on the last time step\n",
    "            logits = logits[:, -1, :] # becomes (B, C)\n",
    "            # apply softmax to get probabilities\n",
    "            probs = F.softmax(logits, dim=-1) # (B, C)\n",
    "            # sample from the distribution\n",
    "            idx_next = torch.multinomial(probs, num_samples=1) # (B, 1)\n",
    "            # append sampled index to the running sequence\n",
    "            idx = torch.cat((idx, idx_next), dim=1) # (B, T+1)\n",
    "        return idx"
   ]
  },
  {
   "cell_type": "code",
   "execution_count": 86,
   "metadata": {},
   "outputs": [],
   "source": [
    "model = BigramLanguageModel()"
   ]
  },
  {
   "cell_type": "code",
   "execution_count": 75,
   "metadata": {},
   "outputs": [
    {
     "data": {
      "text/plain": [
       "<All keys matched successfully>"
      ]
     },
     "execution_count": 75,
     "metadata": {},
     "output_type": "execute_result"
    }
   ],
   "source": [
    "model_state_path = \"2_BWC.pkl\"\n",
    "model.load_state_dict(torch.load(model_state_path))"
   ]
  },
  {
   "cell_type": "code",
   "execution_count": 87,
   "metadata": {},
   "outputs": [
    {
     "name": "stdout",
     "output_type": "stream",
     "text": [
      "0.209471 M parameters\n"
     ]
    }
   ],
   "source": [
    "m = model.to(device)\n",
    "# print the number of parameters in the model\n",
    "print(sum(p.numel() for p in m.parameters())/1e6, 'M parameters')\n",
    "\n",
    "# create a PyTorch optimizer\n",
    "optimizer = torch.optim.AdamW(model.parameters(), lr=learning_rate)"
   ]
  },
  {
   "cell_type": "code",
   "execution_count": 88,
   "metadata": {},
   "outputs": [
    {
     "name": "stdout",
     "output_type": "stream",
     "text": [
      "step 0: train loss 4.2345, val loss 4.1999\n",
      "step 10: train loss 2.6932, val loss 2.9503\n",
      "step 20: train loss 2.2059, val loss 2.6916\n",
      "step 30: train loss 1.8553, val loss 2.5322\n",
      "step 40: train loss 1.6186, val loss 2.4385\n",
      "step 50: train loss 1.4606, val loss 2.2932\n",
      "step 60: train loss 1.3773, val loss 2.2582\n",
      "step 70: train loss 1.3108, val loss 2.2461\n",
      "step 80: train loss 1.2611, val loss 2.2337\n",
      "step 90: train loss 1.2113, val loss 2.1452\n",
      "step 100: train loss 1.1848, val loss 2.2019\n",
      "step 110: train loss 1.1305, val loss 2.2280\n",
      "step 120: train loss 1.0880, val loss 2.1969\n",
      "step 130: train loss 1.0474, val loss 2.1818\n",
      "step 140: train loss 1.0162, val loss 2.2302\n",
      "step 150: train loss 0.9702, val loss 2.1400\n",
      "step 160: train loss 0.9595, val loss 2.1416\n",
      "step 170: train loss 0.9220, val loss 2.0956\n",
      "step 180: train loss 0.8956, val loss 2.0866\n",
      "step 190: train loss 0.8479, val loss 2.1663\n",
      "step 200: train loss 0.8223, val loss 2.1978\n",
      "step 210: train loss 0.8095, val loss 2.1911\n",
      "step 220: train loss 0.7819, val loss 2.1276\n",
      "step 230: train loss 0.7959, val loss 2.0878\n",
      "step 240: train loss 0.7315, val loss 2.1609\n",
      "step 250: train loss 0.7396, val loss 2.0484\n",
      "step 260: train loss 0.6980, val loss 2.1398\n",
      "step 270: train loss 0.6866, val loss 2.1158\n",
      "step 280: train loss 0.6852, val loss 2.0750\n",
      "step 290: train loss 0.6373, val loss 2.0141\n",
      "step 300: train loss 0.6483, val loss 2.0199\n",
      "step 310: train loss 0.5956, val loss 2.1271\n",
      "step 320: train loss 0.5991, val loss 2.0864\n",
      "step 330: train loss 0.5686, val loss 2.1371\n",
      "step 340: train loss 0.5873, val loss 2.1391\n",
      "step 349: train loss 0.5691, val loss 2.0437\n"
     ]
    }
   ],
   "source": [
    "\n",
    "\n",
    "train_losses = []\n",
    "val_losses = []\n",
    "for iter in range(max_iters):\n",
    "    # Evaluate the loss periodically\n",
    "    if iter % eval_interval == 0 or iter == max_iters - 1:\n",
    "        losses = estimate_loss()\n",
    "        train_losses.append(losses['train'])\n",
    "        val_losses.append(losses['val'])\n",
    "        print(f\"step {iter}: train loss {losses['train']:.4f}, val loss {losses['val']:.4f}\")\n",
    "\n",
    "    # Get a batch of data\n",
    "    xb, yb = get_batch('train')\n",
    "\n",
    "    # Forward pass and loss computation\n",
    "    logits, loss = model(xb, yb)\n",
    "\n",
    "    # Backpropagation\n",
    "    optimizer.zero_grad(set_to_none=True)\n",
    "    loss.backward()\n",
    "    optimizer.step()\n",
    "# generate from the model\n",
    "context = torch.zeros((1, 1), dtype=torch.long, device=device)\n"
   ]
  },
  {
   "cell_type": "code",
   "execution_count": 78,
   "metadata": {},
   "outputs": [
    {
     "data": {
      "image/png": "[encoded data removed]",
      "text/plain": [
       "<Figure size 1000x600 with 1 Axes>"
      ]
     },
     "metadata": {},
     "output_type": "display_data"
    }
   ],
   "source": [
    "# Plotting\n",
    "plt.figure(figsize=(10, 6))\n",
    "plt.plot(train_losses, label='Training Loss', color='purple')\n",
    "plt.plot(val_losses, label='Validation Loss', color='green')\n",
    "plt.xlabel('Iterations')\n",
    "plt.ylabel('Loss')\n",
    "plt.title('Training and Validation Loss')\n",
    "plt.legend()\n",
    "plt.show()"
   ]
  },
  {
   "cell_type": "code",
   "execution_count": 71,
   "metadata": {},
   "outputs": [
    {
     "name": "stdout",
     "output_type": "stream",
     "text": [
      "'CC(C)CN(Sc1ccc2c(c1)CCO2)[C@H](CO)CCCCNC(=O)[C@@H](Cc1cccc2ccccc12)NC(=O)N1CCOCC1*', 'CC(C)CN(Sc1ccc2c(c1)OCCO2)[C@H](CO)CCCCNC(=O)[C@@H](Cc1cccc2ccccc12)NC(=O)N1CCOCC1*', 'CC(C)CN([C@H](CO)CCCCNC(=O)[C@H](Cc1ccccc1Br)NC(=O)N1CCOCC1)S(=O)(=O)c1ccc2c(c1)CCO2*', 'Cc1c(O)cccc1C(=O)N[C@@H](Cc1ccccc1Br)C(=O)NCCCC[C@@H](CO)N(CC(C)C)S(=O)(=O)c1ccc(N)cc1*', 'CC(C)CN([C@H](CO)CCCCNC(=O)[C@H](Cc1ccccc1Br)NC(=O)c1cccc(=O)[nH]1)S(=O)(=O)c1ccc(N)cc1*', 'Cc1ccccc1C[C@H](NC(=O)c1cccnc1)C(=O)NCCCC[C@@H](CO)N(CC(C)C)S(=O)(=O)c1ccc(N)cc1*', 'O=C(O)CNC(=O)c1c(=O)oc(O)c2cc(Br)ccc12*', 'C[C@H](NC(=O)c1c(=O)oc(O)c2cccc(-c3cccc(C(F)(F)F)c3)c12)C(=O)O*', 'Cc1ccccc1C[C@H](NC(=O)c1cccc(C)c1O)C(=O)NCCCC[C@@H](CO)N(CC(C)C)S(=O)(=O)c1ccc(N)cc1*', 'COC(=O)N[C@@H](CC1CCCCC1)C(=O)NCCCC[C@@H](CO)N(CC(C)C)S(=O)(=O)c1ccc(N)cc1*', 'CC(C)CN([C@H](CO)CCCCNC(=O)[C@H](CC1CCCCC1)NC(=O)c1cccnc1)S(=O)(=O)c1ccc(N)cc1*', 'Cc1ccc(C(=O)N[C@@H](CC2CCCCC2)C(=O)NCCCC[C@@H](CO)N(CC(C)C)S(=O)(=O)c2ccc(N)cc2)cn1*', 'COC(=O)N[C@H](C(=O)NCCCC[C@H](CO)N(CC(C)C)S(=O)(=O)c1cccc2cccnc12)C(c1ccccc1)c1ccccc1*', 'CC(C)CN([C@H](CO)CCCCNC(=O)[C@H](Cc1ccccc1Cl)NC(=O)c1ccncc1)S(=O)(=O)c1ccc(N)cc1*', 'Cc1ncccc1C(=O)N[C@@H](Cc1ccccc1Cl)C(=O)NCCCC[C@@H](CO)N(CC(C)C)S(=O)(=O)c1ccc(N)cc1*', 'CC(C)CN([C@H](CO)CCCCNC(=O)[C@H](CC1=C(Br)CCC=C1)NC(=O)N1CCOCC1)S(=O)(=O)c1ccc2c(c1)OCCO2*', 'COC(=O)N[C@H](C(=O)NCCCC[C@@H](CO)N(CC(C)C)S(=O)(=O)c1ccc2c(c1)CCO2)C(C1=CC=CCC1)c1ccccc1*', 'CC(C)CN([C@H](CO)CCCCNC(=O)[C@@H](NC(=O)N1CCOCC1)C(c1ccccc1)c1ccccc1)S(=O)(=O)c1ccc2c(c1)CCO2*', 'COC(=O)N[C@H](C(=O)NCCCC[C@H](CO)N(CC(C)C)S(=O)(=O)c1ccc2c(c1)N(C)CCO2)C(c1ccccc1)c1ccccc1*', 'Cc1cccnc1C(=O)N[C@@H](Cc1ccccc1Br)C(=O)NCCCC[C@@H](CO)N(CC(C)C)S(=O)(=O)c1ccc(N)cc1*', 'Cc1ccc(C(=O)N[C@@H](Cc2ccccc2Br)C(=O)NCCCC[C@@H](CO)N(CC(C)C)S(=O)(=O)c2ccc(N)cc2)cc1O*', 'CC(C)CN([C@H](CO)CCCCNC(=O)[C@H](Cc1ccccc1Br)NC(=O)OCc1ccncc1)S(=O)(=O)c1ccc(N)cc1*', 'CC(C)CN([C@H](CO)CCCCNC(=O)[C@H](Cc1ccc2ccccc2c1)NS(=O)(=O)c1ccc2c(c1)OCCC2C)S(=O)(=O)c1ccc(N)cc1*', 'CCC(=O)NC(=O)N(C)CC(=O)N[C@@H](Cc1ccc2ccccc2c1)C(=O)NCCCC[C@@H](CO)N(CC(C)C)S(=O)(=O)c1ccc(N)cc1*', 'CC(C)CN([C@H](CO)CCCCNC(=O)[C@H](Cc1ccc2ccccc2c1)NCc1ccccn1)S(=O)(=O)c1ccc(N)cc1*', 'CC(C)CN([C@H](CO)CCCCNC(=O)[C@@H](NS(=O)(=O)c1cccs1)C(c1ccccc1)c1ccccc1)S(=O)(=O)c1ccc(N)cc1*', 'CN[C@H](C(=O)NCCCC[C@@H](CO)N(CC(C)C)S(=O)(=O)c1ccc(N)cc1)C(c1ccccc1)C1C=CC=CC1*', 'CC(C)CN([C@H](CO)CCCCNC(=O)[C@@H](NC(=O)NCC1=CCCN=C1)C(c1ccccc1)c1ccccc1)S(=O)(=O)c1ccc(N)cc1*', 'CC(C)CN([C@H](CO)CCCCNC(=O)[C@@H](NC(=O)NCc1ccncc1)C(c1ccccc1)c1ccccc1)S(=O)(=O)c1ccc(N)cc1*', 'Cc1ccc(C(=O)N[C@@H](Cc2ccccc2C)C(=O)NCCCC[C@@H](CO)N(CC(C)C)S(=O)(=O)c2ccc(N)cc2)cc1O*', 'COC(=O)N[C@H](C(=O)NCCCCC(C(N)=O)N(CC(C)C)S(=O)(=O)c1ccc(N)cc1)C(c1ccccc1)c1ccccc1*', 'COC(=O)N[C@H](C(=O)NCCCC[C@@H](CO)N(Cc1cccnc1)S(=O)(=O)c1ccc(N)cc1)C(c1ccccc1)c1ccccc1*', 'Cc1ncccc1C(=O)N[C@@H](Cc1ccccc1Br)C(=O)NCCCC[C@@H](CO)N(CC(C)C)S(=O)(=O)c1ccc(N)cc1*', 'Cc1ccc(C(=O)N[C@@H](Cc2ccccc2Br)C(=O)NCCCC[C@@H](CO)N(CC(C)C)S(=O)(=O)c2ccc(N)cc2)cn1*', 'CC(C)CN([C@H](CO)CCCCNC(=O)[C@@H](Cc1ccccc1Br)NC(=O)c1ccc2c(c1)OCO2)S(=O)(=O)c1ccc(N)cc1*', 'CC(C)CN([C@H](CO)CCCCNC(=O)C(Cc1ccccc1Br)NC(=O)c1ccncc1)S(=O)(=O)c1ccc(N)cc1*', 'CC(C)CN([C@H](CO)CCCCNC(=O)[C@H](Cc1ccccc1Br)NC(=O)C1=NCC(C)N=C1)S(=O)(=O)c1ccc(N)cc1*', 'CC(C)CN([C@H](CO)CCCCNC(=O)[C@H](Cc1ccccc1Br)NC(=O)c1cnccn1)S(=O)(=O)c1ccc(N)cc1*', 'CC(C)CN([C@H](CO)CCCCNC(=O)[C@@H](Cc1ccccc1Br)NC(=O)c1ccccn1)S(=O)(=O)c1ccc(N)cc1*', 'CC(C)CN([C@H](CO)CCCCNC(=O)[C@@H](Cc1ccccc1Br)NC(=O)c1cccnc1)S(=O)(=O)c1ccc(N)cc1*', 'COC(=O)N[C@H](C(=O)NCCCC[C@H](C(N)=O)N(CC(C)C)S(=O)(=O)c1ccc(N)cc1)C(c1ccccc1)c1ccccc1*', 'CC(=O)N[C@H](C(=O)NCCCCC(C(N)=O)N(CC(C)C)S(=O)(=O)c1ccc(N)cc1)C(c1ccccc1)c1ccccc1*', 'CC(C)CN(C(CCCCNC(=O)[C@H](CC1=C2C=CC=CC2CC=C1)NC(=O)N1CCOCC1)C(N)=O)S(=O)(=O)c1ccc(N)cc1*', 'COc1cc2cc(C#N)ccc2c(OC)c1Oc1cc(N)nc(Nc2ccc(C#N)cc2)n1*', 'CCNc1cc(Oc2c(OC)cc3cc(C#N)ccc3c2OC)nc(Nc2ccc(C#N)cc2)n1*', 'COc1cc2cc(C#N)ccc2c(OC)c1Oc1cc(N2CCC(O)C2)nc(Nc2ccc(C#N)cc2)n1*', 'Cc1ccnc2c1NC(=O)c1cccnc1N2C1CC1*', 'Cc1cc(C#N)cc(C)c1Oc1nc(Nc2ccc(C#N)cc2)nc(N)c1Br*', 'O=C1Nc2ccc(Cl)cc2[C@@](C#CC2CC2)(C(F)(F)F)O1*', 'C=CC(=O)N(C)c1cc(Oc2ccccc2OCCn2ccc(=O)[nH]c2=O)c(C)c2cc(C#N)ccc12*', 'Cc1c(Oc2ccccc2OCCn2ccc(=O)[nH]c2=O)cc(N(C)C(=O)CCl)c2ccc(C#N)cc12*', 'CC(C)c1ccc(O)c(=O)c(O)c1*'\n"
     ]
    }
   ],
   "source": [
    "\n",
    "smiles_1 = pd.read_csv('smile_3.csv')\n",
    "#smiles_1\n",
    "smiles_1 = smiles_1['canonical_smiles']\n",
    "#smiles_1\n",
    "\n",
    "\n",
    "text = [str(i) + \"*\" for i in smiles_1]\n",
    "\n",
    "text = str(text)[1:-1]\n",
    "print(text)"
   ]
  },
  {
   "cell_type": "code",
   "execution_count": 79,
   "metadata": {},
   "outputs": [],
   "source": [
    "val = vocab.decode(m.generate(context, max_new_tokens=2000)[0].tolist())"
   ]
  },
  {
   "cell_type": "code",
   "execution_count": 80,
   "metadata": {},
   "outputs": [
    {
     "name": "stdout",
     "output_type": "stream",
     "text": [
      " 'CC(C)CN([C@H](CO)CCCCNC(=O)[C@@H](Cc1ccccc1Br)NC(=O)N1CCCOC(=O)N1CCO2 'Cc(c1cnccn1)S(=O)(=O)c1ccc(N)cc1*', 'COC(C)CN([C@H](CO)CCCNC(=O)[C@H](Cc1ccccc12ccccc2c1)O2C(=O)NN[C@@H](CO)N(CF)C(](F)C)W)e', 'COC(CC)CN([C@H](CO)[C@H](Cc1ccccc1[C@H](NC(=O)NCCC(=O)NCCCC(=O)NCC(=O)c1nccn1)S(=O)(=O)c1ccc(N)cc1)S(=O)(=O)c1ccc(N)cc12)C(c1ccccc1)S(=O)(=O)c1ccc(N)cc1)S(=O)(=O)c1ccc(N)cc1*', 'COC(C)CN([C@@H](CO)C(=O)NCCC(Cc1cccnc1)NC(=O)NCC(=O)NCC(=O)c1ccc2c(c1)NC(=O)c1ccnc1)S(=O)(=O)c1ccc(N)cc1*', 'Cc1cc(C(=O)N[C@@H](C=O)NCCCCC[C@@H](CO)N(CC(C)C)S(=O)(=O)c1ccc(N)cc1)S(=O)(=O)c1ccc(N)cc12)C(c1cccc1)c1cccc(N)c1*', 'CO=C1C(C)NC([C@@H](CO)CCCCC[C@@H](CO)N(Cc', 'CCc1ccccc1C[C@H](NC(=O)NCCCC[C@@H](CO)N(CC(C)C)S(=O)(=O)c1ccc2c1)C(c1cc(O)cc12)c(c1O)C(c1)cccc1*', 'COC(=O)N[C@@H](Cc1ccccc1C#N)S(=O)(=O)c1cccc1)S(=O)(=O)c1ccc((N)cc1)C(c1ccccc1)c1ccccc1*', 'Cc1ccccc1C[C@@H](C1Cl)C(=O)NCCCCC[C@@H](CO)N(CC(C)C)S(=O)(=O)c1ccc(N)cc1*', 'Cc1ccccc1C(=O)N[C@@H](CC1=CCCC(1)NC(=O)N([C@@H](CO)N(CCC(C)NCC(C)C)S(=O)(=O)c1ccc(N)cc1*', 'COC(=O)N[C@@H](Cc1ccccc1C(=O)N[C@H](Cc1ccccc1Br)NC(=O)N[C@@H](Cc1ccccc1Br)NC(=O)c1ccccn1)S(=O)(=O)c1ccc(N)cc1*', 'CN(C)CN([C@H](CO)CCCCCNCt(=O)[C@@H](Cc1cccccc12ccccc1[[C@@H](NC(=O)NCCC(C)N=C(C)NC([C@@H](Cc1ccccc1Br)C(=O)NCCCCC[C@@H](CO)N(CC(C)C)S(=O)(=O)c1cccn1)S(=O)(=O)c1ccc(N)cc1)C(c1ccccc1)c1ccc1*', 'Cc1ncc2c(=O)N-c1ccc(N)ccc2c(c1)O2*', 'COCc1c(C(=O)N[C@@H](Cc2cccccc2Br)C(=O)NCCCCC[C@@H](CO)N(CCc2ccccc2C)N(c1cc1)cccc12)C(=O)NNCCCCC[nH](C(N)=O)N(CC(C)C)S(=O)(=O)c1ccc(N)cc1)C(c1ccccc1)o1*', 'Cc1ccccc1C(=O)N[C@@H](C)N(CC(=O)NCCC(=O)N(Cc1cccc2c1)C(=O)N1CCCO2)S(=O)(=O)c1ccc2)C(=O)NNCCCCC[C@@H](CO)N(CC(C)C)S(=O)(=O)c1ccc(N)cc1*', 'COC(C)CN([C@H](Cc1ccccc1C(=O)NCCCCC[C@@H](Cc1ccccc1Br)-[C@H](NS(=O)(F)c1ccc(N)c(N)cc1*', 'CCc1ccncc1C(=O)N[C@@H](CO)N(CC(C)C)S(=O)(=O)c1ccc(N)cc1*', 'COC(C)CN([C@@H](CO)[C@H](Cc1ccccc1Br)Br)N([C@H](Cc1ccccc12)C(=O)c1ccccc1Br)o12*', 'OC(=O)N[C@@H](C(=O)NCCCCC(=O)NCCCC[C@@H](CO)N(CC(C)C)S(=O)(=O)c1ccc(N)cc1*', 'CC(C)CN([C@H](CO)CCCCNC(=O)[C@H](Cc1ccc2ccc\n"
     ]
    }
   ],
   "source": [
    "print(val)"
   ]
  },
  {
   "cell_type": "code",
   "execution_count": 81,
   "metadata": {},
   "outputs": [
    {
     "name": "stdout",
     "output_type": "stream",
     "text": [
      "['CC(C)CN([C@H](CO)CCCCNC(=O)[C@@H](Cc1ccccc1Br)NC(=O)N1CCCOC(=O)N1CCO2Cc(c1cnccn1)S(=O)(=O)c1ccc(N)cc1', 'COC(C)CN([C@H](CO)CCCNC(=O)[C@H](Cc1ccccc12ccccc2c1)O2C(=O)NN[C@@H](CO)N(CF)C(](F)C)W)e', 'COC(CC)CN([C@H](CO)[C@H](Cc1ccccc1[C@H](NC(=O)NCCC(=O)NCCCC(=O)NCC(=O)c1nccn1)S(=O)(=O)c1ccc(N)cc1)S(=O)(=O)c1ccc(N)cc12)C(c1ccccc1)S(=O)(=O)c1ccc(N)cc1)S(=O)(=O)c1ccc(N)cc1', 'COC(C)CN([C@@H](CO)C(=O)NCCC(Cc1cccnc1)NC(=O)NCC(=O)NCC(=O)c1ccc2c(c1)NC(=O)c1ccnc1)S(=O)(=O)c1ccc(N)cc1', 'Cc1cc(C(=O)N[C@@H](C=O)NCCCCC[C@@H](CO)N(CC(C)C)S(=O)(=O)c1ccc(N)cc1)S(=O)(=O)c1ccc(N)cc12)C(c1cccc1)c1cccc(N)c1', 'CO=C1C(C)NC([C@@H](CO)CCCCC[C@@H](CO)N(Cc', 'CCc1ccccc1C[C@H](NC(=O)NCCCC[C@@H](CO)N(CC(C)C)S(=O)(=O)c1ccc2c1)C(c1cc(O)cc12)c(c1O)C(c1)cccc1', 'COC(=O)N[C@@H](Cc1ccccc1C#N)S(=O)(=O)c1cccc1)S(=O)(=O)c1ccc((N)cc1)C(c1ccccc1)c1ccccc1', 'Cc1ccccc1C[C@@H](C1Cl)C(=O)NCCCCC[C@@H](CO)N(CC(C)C)S(=O)(=O)c1ccc(N)cc1', 'Cc1ccccc1C(=O)N[C@@H](CC1=CCCC(1)NC(=O)N([C@@H](CO)N(CCC(C)NCC(C)C)S(=O)(=O)c1ccc(N)cc1', 'COC(=O)N[C@@H](Cc1ccccc1C(=O)N[C@H](Cc1ccccc1Br)NC(=O)N[C@@H](Cc1ccccc1Br)NC(=O)c1ccccn1)S(=O)(=O)c1ccc(N)cc1', 'CN(C)CN([C@H](CO)CCCCCNCt(=O)[C@@H](Cc1cccccc12ccccc1[[C@@H](NC(=O)NCCC(C)N=C(C)NC([C@@H](Cc1ccccc1Br)C(=O)NCCCCC[C@@H](CO)N(CC(C)C)S(=O)(=O)c1cccn1)S(=O)(=O)c1ccc(N)cc1)C(c1ccccc1)c1ccc1', 'Cc1ncc2c(=O)N-c1ccc(N)ccc2c(c1)O2', 'COCc1c(C(=O)N[C@@H](Cc2cccccc2Br)C(=O)NCCCCC[C@@H](CO)N(CCc2ccccc2C)N(c1cc1)cccc12)C(=O)NNCCCCC[nH](C(N)=O)N(CC(C)C)S(=O)(=O)c1ccc(N)cc1)C(c1ccccc1)o1', 'Cc1ccccc1C(=O)N[C@@H](C)N(CC(=O)NCCC(=O)N(Cc1cccc2c1)C(=O)N1CCCO2)S(=O)(=O)c1ccc2)C(=O)NNCCCCC[C@@H](CO)N(CC(C)C)S(=O)(=O)c1ccc(N)cc1', 'COC(C)CN([C@H](Cc1ccccc1C(=O)NCCCCC[C@@H](Cc1ccccc1Br)-[C@H](NS(=O)(F)c1ccc(N)c(N)cc1', 'CCc1ccncc1C(=O)N[C@@H](CO)N(CC(C)C)S(=O)(=O)c1ccc(N)cc1', 'COC(C)CN([C@@H](CO)[C@H](Cc1ccccc1Br)Br)N([C@H](Cc1ccccc12)C(=O)c1ccccc1Br)o12', 'OC(=O)N[C@@H](C(=O)NCCCCC(=O)NCCCC[C@@H](CO)N(CC(C)C)S(=O)(=O)c1ccc(N)cc1', 'CC(C)CN([C@H](CO)CCCCNC(=O)[C@H](Cc1ccc2ccc']\n"
     ]
    }
   ],
   "source": [
    "molecules = list(val.split(\",\"))\n",
    "molecules = [i.replace(\"*\", \"\") for i in molecules]\n",
    "molecules = [i.replace(\"'\", \"\") for i in molecules]\n",
    "molecules = [i.replace(\" \", \"\") for i in molecules]\n",
    "molecules = [i.replace(\"\\\\n\", \"\") for i in molecules]\n",
    "molecules = [i.replace(\"\\\\\", \"\") for i in molecules]\n",
    "\n",
    "print(molecules)"
   ]
  },
  {
   "cell_type": "code",
   "execution_count": 82,
   "metadata": {},
   "outputs": [
    {
     "name": "stderr",
     "output_type": "stream",
     "text": [
      "[05:27:38] SMILES Parse Error: extra open parentheses for input: 'CC(C)CN([C@H](CO)CCCCNC(=O)[C@@H](Cc1ccccc1Br)NC(=O)N1CCCOC(=O)N1CCO2Cc(c1cnccn1)S(=O)(=O)c1ccc(N)cc1'\n",
      "[05:27:38] SMILES Parse Error: syntax error while parsing: COC(C)CN([C@H](CO)CCCNC(=O)[C@H](Cc1ccccc12ccccc2c1)O2C(=O)NN[C@@H](CO)N(CF)C(](F)C)W)e\n",
      "[05:27:38] SMILES Parse Error: Failed parsing SMILES 'COC(C)CN([C@H](CO)CCCNC(=O)[C@H](Cc1ccccc12ccccc2c1)O2C(=O)NN[C@@H](CO)N(CF)C(](F)C)W)e' for input: 'COC(C)CN([C@H](CO)CCCNC(=O)[C@H](Cc1ccccc12ccccc2c1)O2C(=O)NN[C@@H](CO)N(CF)C(](F)C)W)e'\n",
      "[05:27:38] SMILES Parse Error: extra close parentheses while parsing: COC(CC)CN([C@H](CO)[C@H](Cc1ccccc1[C@H](NC(=O)NCCC(=O)NCCCC(=O)NCC(=O)c1nccn1)S(=O)(=O)c1ccc(N)cc1)S(=O)(=O)c1ccc(N)cc12)C(c1ccccc1)S(=O)(=O)c1ccc(N)cc1)S(=O)(=O)c1ccc(N)cc1\n",
      "[05:27:38] SMILES Parse Error: Failed parsing SMILES 'COC(CC)CN([C@H](CO)[C@H](Cc1ccccc1[C@H](NC(=O)NCCC(=O)NCCCC(=O)NCC(=O)c1nccn1)S(=O)(=O)c1ccc(N)cc1)S(=O)(=O)c1ccc(N)cc12)C(c1ccccc1)S(=O)(=O)c1ccc(N)cc1)S(=O)(=O)c1ccc(N)cc1' for input: 'COC(CC)CN([C@H](CO)[C@H](Cc1ccccc1[C@H](NC(=O)NCCC(=O)NCCCC(=O)NCC(=O)c1nccn1)S(=O)(=O)c1ccc(N)cc1)S(=O)(=O)c1ccc(N)cc12)C(c1ccccc1)S(=O)(=O)c1ccc(N)cc1)S(=O)(=O)c1ccc(N)cc1'\n",
      "[05:27:38] SMILES Parse Error: unclosed ring for input: 'COC(C)CN([C@@H](CO)C(=O)NCCC(Cc1cccnc1)NC(=O)NCC(=O)NCC(=O)c1ccc2c(c1)NC(=O)c1ccnc1)S(=O)(=O)c1ccc(N)cc1'\n",
      "[05:27:38] SMILES Parse Error: extra close parentheses while parsing: Cc1cc(C(=O)N[C@@H](C=O)NCCCCC[C@@H](CO)N(CC(C)C)S(=O)(=O)c1ccc(N)cc1)S(=O)(=O)c1ccc(N)cc12)C(c1cccc1)c1cccc(N)c1\n",
      "[05:27:38] SMILES Parse Error: Failed parsing SMILES 'Cc1cc(C(=O)N[C@@H](C=O)NCCCCC[C@@H](CO)N(CC(C)C)S(=O)(=O)c1ccc(N)cc1)S(=O)(=O)c1ccc(N)cc12)C(c1cccc1)c1cccc(N)c1' for input: 'Cc1cc(C(=O)N[C@@H](C=O)NCCCCC[C@@H](CO)N(CC(C)C)S(=O)(=O)c1ccc(N)cc1)S(=O)(=O)c1ccc(N)cc12)C(c1cccc1)c1cccc(N)c1'\n",
      "[05:27:38] SMILES Parse Error: extra open parentheses for input: 'CO=C1C(C)NC([C@@H](CO)CCCCC[C@@H](CO)N(Cc'\n",
      "[05:27:38] SMILES Parse Error: unclosed ring for input: 'CCc1ccccc1C[C@H](NC(=O)NCCCC[C@@H](CO)N(CC(C)C)S(=O)(=O)c1ccc2c1)C(c1cc(O)cc12)c(c1O)C(c1)cccc1'\n",
      "[05:27:38] SMILES Parse Error: extra close parentheses while parsing: COC(=O)N[C@@H](Cc1ccccc1C#N)S(=O)(=O)c1cccc1)S(=O)(=O)c1ccc((N)cc1)C(c1ccccc1)c1ccccc1\n",
      "[05:27:38] SMILES Parse Error: Failed parsing SMILES 'COC(=O)N[C@@H](Cc1ccccc1C#N)S(=O)(=O)c1cccc1)S(=O)(=O)c1ccc((N)cc1)C(c1ccccc1)c1ccccc1' for input: 'COC(=O)N[C@@H](Cc1ccccc1C#N)S(=O)(=O)c1cccc1)S(=O)(=O)c1ccc((N)cc1)C(c1ccccc1)c1ccccc1'\n",
      "[05:27:38] SMILES Parse Error: unclosed ring for input: 'Cc1ccccc1C[C@@H](C1Cl)C(=O)NCCCCC[C@@H](CO)N(CC(C)C)S(=O)(=O)c1ccc(N)cc1'\n",
      "[05:27:38] SMILES Parse Error: syntax error while parsing: Cc1ccccc1C(=O)N[C@@H](CC1=CCCC(1)NC(=O)N([C@@H](CO)N(CCC(C)NCC(C)C)S(=O)(=O)c1ccc(N)cc1\n",
      "[05:27:38] SMILES Parse Error: Failed parsing SMILES 'Cc1ccccc1C(=O)N[C@@H](CC1=CCCC(1)NC(=O)N([C@@H](CO)N(CCC(C)NCC(C)C)S(=O)(=O)c1ccc(N)cc1' for input: 'Cc1ccccc1C(=O)N[C@@H](CC1=CCCC(1)NC(=O)N([C@@H](CO)N(CCC(C)NCC(C)C)S(=O)(=O)c1ccc(N)cc1'\n",
      "[05:27:38] SMILES Parse Error: syntax error while parsing: CN(C)CN([C@H](CO)CCCCCNCt(=O)[C@@H](Cc1cccccc12ccccc1[[C@@H](NC(=O)NCCC(C)N=C(C)NC([C@@H](Cc1ccccc1Br)C(=O)NCCCCC[C@@H](CO)N(CC(C)C)S(=O)(=O)c1cccn1)S(=O)(=O)c1ccc(N)cc1)C(c1ccccc1)c1ccc1\n",
      "[05:27:38] SMILES Parse Error: Failed parsing SMILES 'CN(C)CN([C@H](CO)CCCCCNCt(=O)[C@@H](Cc1cccccc12ccccc1[[C@@H](NC(=O)NCCC(C)N=C(C)NC([C@@H](Cc1ccccc1Br)C(=O)NCCCCC[C@@H](CO)N(CC(C)C)S(=O)(=O)c1cccn1)S(=O)(=O)c1ccc(N)cc1)C(c1ccccc1)c1ccc1' for input: 'CN(C)CN([C@H](CO)CCCCCNCt(=O)[C@@H](Cc1cccccc12ccccc1[[C@@H](NC(=O)NCCC(C)N=C(C)NC([C@@H](Cc1ccccc1Br)C(=O)NCCCCC[C@@H](CO)N(CC(C)C)S(=O)(=O)c1cccn1)S(=O)(=O)c1ccc(N)cc1)C(c1ccccc1)c1ccc1'\n",
      "[05:27:38] SMILES Parse Error: unclosed ring for input: 'Cc1ncc2c(=O)N-c1ccc(N)ccc2c(c1)O2'\n",
      "[05:27:38] SMILES Parse Error: extra close parentheses while parsing: COCc1c(C(=O)N[C@@H](Cc2cccccc2Br)C(=O)NCCCCC[C@@H](CO)N(CCc2ccccc2C)N(c1cc1)cccc12)C(=O)NNCCCCC[nH](C(N)=O)N(CC(C)C)S(=O)(=O)c1ccc(N)cc1)C(c1ccccc1)o1\n",
      "[05:27:38] SMILES Parse Error: Failed parsing SMILES 'COCc1c(C(=O)N[C@@H](Cc2cccccc2Br)C(=O)NCCCCC[C@@H](CO)N(CCc2ccccc2C)N(c1cc1)cccc12)C(=O)NNCCCCC[nH](C(N)=O)N(CC(C)C)S(=O)(=O)c1ccc(N)cc1)C(c1ccccc1)o1' for input: 'COCc1c(C(=O)N[C@@H](Cc2cccccc2Br)C(=O)NCCCCC[C@@H](CO)N(CCc2ccccc2C)N(c1cc1)cccc12)C(=O)NNCCCCC[nH](C(N)=O)N(CC(C)C)S(=O)(=O)c1ccc(N)cc1)C(c1ccccc1)o1'\n",
      "[05:27:38] SMILES Parse Error: extra close parentheses while parsing: Cc1ccccc1C(=O)N[C@@H](C)N(CC(=O)NCCC(=O)N(Cc1cccc2c1)C(=O)N1CCCO2)S(=O)(=O)c1ccc2)C(=O)NNCCCCC[C@@H](CO)N(CC(C)C)S(=O)(=O)c1ccc(N)cc1\n",
      "[05:27:38] SMILES Parse Error: Failed parsing SMILES 'Cc1ccccc1C(=O)N[C@@H](C)N(CC(=O)NCCC(=O)N(Cc1cccc2c1)C(=O)N1CCCO2)S(=O)(=O)c1ccc2)C(=O)NNCCCCC[C@@H](CO)N(CC(C)C)S(=O)(=O)c1ccc(N)cc1' for input: 'Cc1ccccc1C(=O)N[C@@H](C)N(CC(=O)NCCC(=O)N(Cc1cccc2c1)C(=O)N1CCCO2)S(=O)(=O)c1ccc2)C(=O)NNCCCCC[C@@H](CO)N(CC(C)C)S(=O)(=O)c1ccc(N)cc1'\n",
      "[05:27:38] SMILES Parse Error: extra open parentheses for input: 'COC(C)CN([C@H](Cc1ccccc1C(=O)NCCCCC[C@@H](Cc1ccccc1Br)-[C@H](NS(=O)(F)c1ccc(N)c(N)cc1'\n",
      "[05:27:38] SMILES Parse Error: unclosed ring for input: 'COC(C)CN([C@@H](CO)[C@H](Cc1ccccc1Br)Br)N([C@H](Cc1ccccc12)C(=O)c1ccccc1Br)o12'\n",
      "[05:27:38] SMILES Parse Error: extra open parentheses for input: 'OC(=O)N[C@@H](C(=O)NCCCCC(=O)NCCCC[C@@H](CO)N(CC(C)C)S(=O)(=O)c1ccc(N)cc1'\n",
      "[05:27:38] SMILES Parse Error: extra open parentheses for input: 'CC(C)CN([C@H](CO)CCCCNC(=O)[C@H](Cc1ccc2ccc'\n"
     ]
    },
    {
     "data": {
      "image/png": "[encoded data removed]",
      "text/plain": [
       "<IPython.core.display.Image object>"
      ]
     },
     "execution_count": 82,
     "metadata": {},
     "output_type": "execute_result"
    }
   ],
   "source": [
    "from rdkit import Chem\n",
    "from rdkit.Chem import Draw\n",
    "from rdkit.Chem.Draw import IPythonConsole\n",
    "\n",
    "\n",
    "mols = [Chem.MolFromSmiles(smi) for smi in molecules if Chem.MolFromSmiles(smi) is not None]\n",
    "Draw.MolsToGridImage(mols, molsPerRow=5, subImgSize=(200, 200), legends=[str(i) for i in range(len(mols))])"
   ]
  },
  {
   "cell_type": "code",
   "execution_count": 83,
   "metadata": {},
   "outputs": [
    {
     "name": "stdout",
     "output_type": "stream",
     "text": [
      "Model saved successfully.\n"
     ]
    }
   ],
   "source": [
    "model_state_path = \"Only3_BWC.pkl\"\n",
    "torch.save(model.state_dict(), model_state_path)\n",
    "\n",
    "print(\"Model saved successfully.\")"
   ]
  }
 ],
 "metadata": {
  "kernelspec": {
   "display_name": ".venv",
   "language": "python",
   "name": "python3"
  },
  "language_info": {
   "codemirror_mode": {
    "name": "ipython",
    "version": 3
   },
   "file_extension": ".py",
   "mimetype": "text/x-python",
   "name": "python",
   "nbconvert_exporter": "python",
   "pygments_lexer": "ipython3",
   "version": "3.11.0"
  }
 },
 "nbformat": 4,
 "nbformat_minor": 2
}
